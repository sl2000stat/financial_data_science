{
 "cells": [
  {
   "cell_type": "markdown",
   "metadata": {},
   "source": [
    "# B. Tutorial and Revision Manual"
   ]
  },
  {
   "cell_type": "markdown",
   "metadata": {},
   "source": [
    "## B.1 A Bird's Eye View on MLE"
   ]
  },
  {
   "cell_type": "markdown",
   "metadata": {},
   "source": [
    "A time series of returns\n",
    "\n",
    "$$\n",
    "r_1, r_2, ..., r_T.\n",
    "$$\n",
    "\n",
    "has a joint probability density function  \n",
    "\n",
    "$$\n",
    "f(r_{T},\\ r_{T-1},\\ \\cdots,\\ r_{2},\\ r_{1};\\theta).\n",
    "$$\n",
    "\n",
    "which can be written as\n",
    "\n",
    "$$\n",
    "f(r_{T},\\ r_{T-1},\\ \\cdots,\\ r_{2},\\ r_{1};\\theta)\n",
    "=\\left[ \\prod_{t=2}^{T}f(r_{t}|r_{t-1},\\ \\cdots,\\ r_{1};\\theta) \\right] \\times f(r_{1};\\theta).  \n",
    "$$\n",
    "\n",
    "$$\n",
    "\\\\\n",
    "$$\n",
    "\n",
    "First, if returns are independent of each other:\n",
    "\n",
    "$$\n",
    "f(r_{T},\\ r_{T-1},\\ \\cdots,\\ r_{2},\\ r_{1};\\theta) \\overbrace{=}^{indep} \\,  \\left[ \\prod_{t=1}^{T}f(r_{t};\\theta) \\right].\n",
    "$$\n",
    "\n",
    "$$\n",
    "\\\\\n",
    "$$\n",
    "\n",
    "Second, if returns are Markov: \n",
    "\n",
    "$$\n",
    "f(r_{T},\\ r_{T-1},\\ \\cdots,\\ r_{2},\\ r_{1};\\theta) \\overbrace{=}^{Markov} \\left[ \\prod_{t=2}^{T}f(r_{t}|r_{t-1};\\theta) \\right]\\times f(r_{1};\\theta).\n",
    "$$\n",
    "\n",
    "$$\n",
    "\\\\\n",
    "$$\n",
    "\n",
    "In order to highlight that this joint likelihood function depends on $\\theta$, we often write it as \n",
    "\n",
    "$$\n",
    "L(\\theta|\\{r_t\\}_{t \\in [1,...,T]}) := f(r_{T},\\ r_{T-1},\\ \\cdots,\\ r_{2},\\ r_{1};\\theta), \n",
    "$$ \n",
    "\n",
    "or in short, simply $L(\\theta)$. \n",
    "\n",
    "\n",
    "\n",
    "$$\n",
    "\\\\\n",
    "$$\n",
    "\n",
    "\n",
    "**Three optimization approaches:** \n",
    "\n",
    "- Analytic Optimization  \n",
    "\n",
    "\n",
    "- Grid Search\n",
    "\n",
    "\n",
    "- Numerical Optimization  \n",
    "\n",
    "\n",
    "$$\n",
    "\\\\\n",
    "$$\n",
    "\n",
    "**Statistical properties of MLE in LARGE samples:** \n",
    "\n",
    "- Consistent; plim $\\hat{\\theta}_{ML}=\\theta$  \n",
    "\n",
    "- Asymptotically Normally Distributed; $\\hat{\\theta}_{ML}\\sim N[\\theta,\\ \\{I(\\theta)\\}^{-1}]$,  \n",
    "\n",
    "- Variance of the MLE fulfills the Rao-Cramer lower bound,i.e. 'most efficient' (most precise) estimator  \n",
    "\n",
    "- Invariance: rather than estimating a parameter $\\theta$, we can instead estimate $g(\\theta)$ and recover the MLE of $\\theta$ from inverting $g(\\theta)$.\n",
    "\n",
    "\n",
    "$$\n",
    "\\\\\n",
    "$$\n",
    "\n",
    "**Statistical properties of MLE in SMALL samples:** \n",
    "\n",
    "- not well understood\n",
    "\n",
    "- do not use less than 100 observations \n",
    " \n",
    "\n",
    "\n",
    " "
   ]
  },
  {
   "cell_type": "markdown",
   "metadata": {},
   "source": [
    "## B.2 What's the Probability of a 10% Decline in the S&P 500? "
   ]
  },
  {
   "cell_type": "markdown",
   "metadata": {},
   "source": [
    "The probability of observing in a year five days with a negative return of more than 10\\% would be\n",
    "\n",
    "$$\n",
    "Prob(y_t=5;\\theta) \\overbrace{=}^{Pois} \\, \\frac{e^{-\\lambda} \\lambda^{5}}{5!}.\n",
    "$$\n",
    "\n",
    "The joint likelihood equals \n",
    "\n",
    "\\begin{align*}\n",
    "L(\\lambda) & = \\frac{e^{-\\lambda}\\lambda^{y_{1}}}{y_{1}!}\\times\\frac{e^{-\\lambda}\\lambda^{y_{2}}}{y_{2}!}\\times\\ldots\\times\\frac{e^{-\\lambda}\\lambda^{y_{T}}}{y_{T}!} \\\\\n",
    "&= \\prod_{t=1}^{T}\\frac{e^{-\\lambda}\\lambda^{y_{t}}}{y_{t}!}.\n",
    "\\end{align*}\n",
    "\n",
    "\n",
    "The $\\log$ likelihood is\n",
    "\n",
    "$$\n",
    "\\ln L(\\lambda) \\ =\\  -T\\lambda\\ +\\sum_{t=1}^T y_{t}\\ln(\\lambda)-\\sum_{t=1}^T \\ln(y_{t}!)\n",
    "$$\n",
    "\n",
    "The MLE of $\\lambda$ maximizes $\\ln L(\\lambda)$; hence leads to a zero gradient, i.e.\n",
    "\n",
    "$$\n",
    "\\frac{\\partial\\ln L(\\lambda)}{\\partial\\lambda}=-T+\\frac{\\sum_{t=1}^{T}y_{t}}{\\lambda} \\overbrace{=}^{!} 0\n",
    "$$\n",
    "\n",
    "We solve for $\\lambda$:\n",
    "\n",
    "$$\n",
    "\\hat{\\lambda}_{ML}\\ =\\ \\frac{\\sum_{t=1}^{T}y_{t}}{T}.\n",
    "$$\n",
    "\n",
    "and check that the second derivative is negative.\n",
    "\n",
    "\n",
    "\n",
    "\n",
    " "
   ]
  },
  {
   "cell_type": "markdown",
   "metadata": {},
   "source": [
    "## B.3 How Precise are MLE Parameter Estimates?"
   ]
  },
  {
   "cell_type": "markdown",
   "metadata": {},
   "source": [
    "The Hessian matrix, i.e. $\\frac{\\partial^2 \\ln L(\\theta)}{\\partial \\theta \\, \\partial \\theta'}$,  captures the 2nd derivative of the log-likelihood function and therefore the curvature of the log likelihood function. Hence, the more curvature, the larger the Hessian and the smaller the inverse of the Hessian and the smaller the standard error of $\\hat{\\theta}_{ML}$. \n",
    "\n",
    "\n",
    "\n",
    "$$\n",
    "\\\\\n",
    "$$\n",
    "\n",
    "The MLE standard error coincides with the square root of the variance of the MLE estimator $\\hat{\\theta}_{ML}$. \n",
    "\n",
    "$$\n",
    "var\\ (\\hat{\\theta}_{ML})=[I(\\hat{\\theta}_{ML})]^{-1}\n",
    "$$\n",
    "\n",
    "$$\n",
    "\\\\\n",
    "$$\n",
    "\n",
    "For a maximization problem, the ith-jth entry of the information matrix equals:\n",
    "\n",
    "\\begin{align*}\n",
    "[I(\\theta)]_{[i,j]} &:= E \\left[ \\left( \\frac{\\partial \\ln L(\\theta)}{\\partial \\theta_i} \\right) \\left( \\frac{\\partial \\ln L(\\theta)}{\\partial \\theta_j} \\right) \\right]   \\\\\n",
    "&= -E \\left[ \\frac{\\partial^{2}\\ln {L}(\\theta)}{\\partial\\theta_i\\partial\\theta_j} \\right].\n",
    "\\end{align*}\n",
    "\n",
    "$$\n",
    "\\\\\n",
    "$$\n",
    "\n",
    "\n",
    "Notice, for a minimization problem you multiply the above expression by $-1$!\n",
    "\n",
    "$$\n",
    "\\\\\n",
    "$$\n",
    "\n",
    "The standard error of the vector-valued estimator, $\\hat{\\theta}_{ML}$, coincides with the square root of the diagonal elements of $var (\\hat{\\theta}_{ML})$.\n",
    "\n",
    "\n",
    "$$\n",
    "\\\\\n",
    "$$\n",
    "\n",
    "'Observed Fisher Information Matrix', which for a maximization problem reads\n",
    "\n",
    "\\begin{align*}\n",
    "[I(\\theta)]_{[i,j]} &:=  \\left( \\frac{\\partial \\ln L(\\theta)}{\\partial \\theta_i} \\right) \\left( \\frac{\\partial \\ln L(\\theta)}{\\partial \\theta_j} \\right) \\\\\n",
    "&= -\\frac{\\partial^{2}\\ln {L}(\\theta)}{\\partial\\theta_i\\partial\\theta_j}\n",
    "\\end{align*}\n",
    "\n",
    "where $\\ln L = \\sum_t \\ln L_t$. \n",
    "\n"
   ]
  },
  {
   "cell_type": "markdown",
   "metadata": {},
   "source": [
    "## B.4 Computing Hessian Matrices using 1st or 2nd Derivatives "
   ]
  },
  {
   "cell_type": "markdown",
   "metadata": {},
   "source": [
    "For a maximization problem, you compute the Fisher Information matrix with either of both choices\n",
    "\n",
    "$$\n",
    "I(\\theta) \\equiv E \\left[ \\left( \\frac{\\partial \\ln L(X;\\theta)}{\\partial \\theta} \\right)^2 \\right] = - E \\left[  \\frac{\\partial^2 \\ln L(X;\\theta)}{\\partial \\theta^2} \\right].\n",
    "$$\n",
    "\n",
    "\n",
    "Let's define $f:=L(X;\\theta)$ and note that $f = f(\\theta)$.\n",
    "\n",
    "\\begin{align*}\n",
    "- E \\left[  \\frac{\\partial^2 \\ln L(X;\\theta)}{\\partial \\theta^2} \\right] &= - E \\left[  \\frac{\\partial}{\\partial \\theta} \\left( 1/L(X;\\theta) \\times \\frac{\\partial L(X;\\theta)}{\\partial \\theta} \\right) \\right] \\\\\n",
    "&= E\\left[ \\frac{1}{f^2} f' f' - \\frac{1}{f} f'' \\right] \\\\\n",
    "&= E\\left[ \\left( \\frac{f'}{f} \\right)^2 \\right] -  E\\left[ \\frac{f''}{f} \\right] \\\\\n",
    "&= E [ ((\\ln f)')^2] - E[\\frac{f''}{f}] \\\\\n",
    "&= E [ ((\\ln f)')^2 \\equiv I(\\theta).\n",
    "\\end{align*}\n",
    "\n",
    "where we used the product rule: \n",
    "\n",
    "$$\n",
    "D(fg) = fg' + f'g. \n",
    "$$\n",
    "\n",
    "The term -$E[\\frac{f''}{f}] = 0$\n",
    "\n",
    "because\n",
    "\n",
    "\\begin{align*}\n",
    "-E[\\frac{f''}{f}] &= - \\frac{\\partial^2}{\\partial \\theta^2} \\int_{-\\infty}^{\\infty} f(x;\\theta) \\times \\frac{f(x;\\theta)}{f(x;\\theta)} dx \\\\\n",
    "&= - \\frac{\\partial^2}{\\partial \\theta^2} 1 = 0.\n",
    "\\end{align*}"
   ]
  },
  {
   "cell_type": "markdown",
   "metadata": {},
   "source": [
    "## B.5 Learning about MLE using a Linear Problem, i.e. G-LRM "
   ]
  },
  {
   "cell_type": "markdown",
   "metadata": {},
   "source": [
    "Let's consider the linear regression problem with Gaussian regression error:\n",
    "\n",
    "$$\n",
    "y = X \\beta + \\epsilon; \\; \\epsilon \\sim N(0,\\sigma^2 I)\n",
    "$$ \n",
    "with $dim(y) = T\\times 1$ and $dim(X) = T\\times k$ and $dim(\\beta) = k \\times 1$.\n",
    "\n"
   ]
  },
  {
   "cell_type": "markdown",
   "metadata": {},
   "source": [
    "### B.5.1 Deriving the Log Likelihood"
   ]
  },
  {
   "cell_type": "markdown",
   "metadata": {},
   "source": [
    "Likelihood for a single observation $y_i$:\n",
    "\n",
    "$$\n",
    "\\mathcal{L}(y_{i}|x_i,\\ \\beta,\\ \\sigma^{2})=\\frac{1}{\\sqrt{2\\pi\\sigma^{2}}}e^{-\\frac{(y_{i}-x_{i}\\beta)^{2}}{2\\sigma^{2}}}\n",
    "$$\n",
    "\n",
    "where $dim(x_i) = 1 \\times k$.\n",
    "\n",
    "$$\n",
    "\\\\\n",
    "$$\n",
    "\n",
    "If $\\epsilon$ is iid, then\n",
    "\n",
    "$$\n",
    "\\mathcal{L}(y|X,\\ \\beta,\\ \\sigma^{2})=\\prod_{i=1}^{T}\\frac{1}{\\sqrt{2\\pi\\sigma^{2}}}e^{-\\frac{(y_{i}-x_{i}\\beta)^{2}}{2\\sigma^{2}}}\n",
    "$$\n",
    "\n",
    "$$\n",
    "\\\\\n",
    "$$\n",
    "\n",
    "which in log and matrix notation reads:\n",
    "\n",
    "\n",
    "$$\n",
    "\\ln \\mathcal{L}=\\frac{-T}{2}\\ln(2\\pi)-\\frac{T}{2}\\ln(\\sigma^{2})-\\frac{1}{2\\sigma^{2}}(y-X\\beta)'(y-X\\beta)\n",
    "$$\n",
    "\n",
    "$$\n",
    "\\\\\n",
    "$$\n",
    "\n",
    "- appreciate the similarity to a L2 objective function\n",
    "\n",
    "$$\n",
    "\\\\\n",
    "$$\n",
    "\n",
    "- appreciate how the linear G-LRM objective function separates parameters from variance"
   ]
  },
  {
   "cell_type": "markdown",
   "metadata": {},
   "source": [
    "### B.5.2 Optimizing $ln (L)$"
   ]
  },
  {
   "cell_type": "markdown",
   "metadata": {},
   "source": [
    "The joint log likelihood function equals:\n",
    "\n",
    "$$\n",
    "\\ln \\mathcal{L}(y|X,\\ \\beta,\\ \\sigma^{2})\\ =\\ -\\frac{T}{2}\\ln(2\\pi)-\\frac{T}{2}\\ln(\\sigma^{2})-\\frac{1}{2\\sigma^{2}}[y'y-2y'X\\beta+\\beta'X'X\\beta]\n",
    "$$\n",
    "\n",
    "$$\n",
    "\\\\\n",
    "$$\n",
    "\n",
    "**FOC: beta:**\n",
    " \n",
    "$$\n",
    "\\frac{\\partial\\ln \\mathcal{L}}{\\partial\\beta}\\ =\\ -\\frac{1}{2\\sigma^{2}}\\left[ \\frac{\\partial[y'y-2y'X\\beta+\\beta'X'X\\beta]}{\\partial\\beta} \\right]\n",
    "$$\n",
    "\n",
    "$$\n",
    "= ... \n",
    "$$\n",
    "\n",
    " \n",
    "$$ \n",
    "\\frac{1}{\\sigma^{2}}[X'y-X'X\\beta] \\overbrace{=}^{!} 0\n",
    "$$\n",
    "\n",
    " \n",
    "$$\n",
    "\\rightarrow \\; \\hat{\\beta} = (X'X)^{-1}X'y\n",
    "$$\n",
    "\n",
    "\n",
    "$$\n",
    "\\\\\n",
    "$$\n",
    " \n",
    "\n",
    "$$\n",
    "\\\\\n",
    "$$\n",
    "\n",
    "**FOC: $\\sigma^2$:**\n",
    "\n",
    " \n",
    "$$\n",
    "\\frac{\\partial\\ln \\mathcal{L}}{\\partial\\sigma^{2}}\\ =\\ -\\frac{T}{2\\sigma^{2}}+\\frac{1}{2\\sigma^{4}} \\left[(y-X\\beta)'(y-X\\beta)\\right] \\overbrace{=}^{!} 0\n",
    "$$\n",
    "\n",
    " \n",
    "$$\n",
    "...\n",
    "$$\n",
    "\n",
    "$$\n",
    "\\frac{1}{\\sigma^{2}} \\left[(y-X\\beta)'(y-X\\beta) \\right]\\ =\\ T\n",
    "$$\n",
    "\n",
    "$$\n",
    "\\\\\n",
    "$$\n",
    "\n",
    "Since we have already solved for $\\hat{\\beta}$, we can solve for $\\sigma^{2}$ by replacing $\\beta$ with its estimate:\n",
    "\n",
    "$$\n",
    "\\frac{1}{\\sigma^{2}}\\left[(y-X\\hat{\\beta})'(y-X\\hat{\\beta})\\right]\\ =\\ T\n",
    "$$\n",
    "\n",
    "\n",
    "$$\n",
    "\\rightarrow \\; \\hat{\\sigma}^{2}=\\frac{e'e}{T}.\n",
    "$$\n",
    "\n",
    "$$\n",
    "\\\\\n",
    "$$\n",
    "\n",
    "- appreciate: linear G-LRM allows to optimize sequentially: first for parameters, then for variance of errors. \n",
    "\n",
    "- appreciate: Fifth, even if the model was non-linear in $\\beta$ but with a Gaussian White Noise error, the ML solution for $\\sigma^2$ will coincide with $\\frac{e'e}{T}$.\n",
    "\n"
   ]
  },
  {
   "cell_type": "markdown",
   "metadata": {},
   "source": [
    "### B.5.3 Getting Standard Errors"
   ]
  },
  {
   "cell_type": "markdown",
   "metadata": {},
   "source": [
    "For a maximization problem we have:\n",
    "\n",
    "$$\n",
    "\\hat{var}(\\theta) = \\left[I(\\theta)\\right]^{-1}\\ =\\ \\left(-E \\left[H(\\theta)\\right]\\right)^{-1}.\n",
    "$$\n",
    "\n",
    "$$\n",
    "\\\\\n",
    "$$\n",
    "\n",
    "**Jacobian:**\n",
    "\n",
    "$$\n",
    "\\frac{\\partial\\ln \\mathcal{L}}{\\partial\\theta}=\\begin{pmatrix} \\frac{X'(y-X\\beta)}{\\sigma^{2}}\\\\\n",
    "-\\frac{T}{2\\sigma^{2}} +\\frac{(y-X\\beta)'(y-X\\beta)}{2\\sigma^{4}}\n",
    "\\end{pmatrix}\n",
    "$$\n",
    "\n",
    "$$\n",
    "\\\\\n",
    "$$\n",
    "**Entries of Hessian:**\n",
    "\n",
    " \n",
    "$$\n",
    "\\frac{\\partial^{2}\\ln \\mathcal{L}}{\\partial\\beta \\; \\partial\\beta}= ... = -\\frac{X'X}{\\sigma^{2}}\n",
    "$$\n",
    "\n",
    "$$\n",
    "\\displaystyle \\frac{\\partial^{2}\\ln \\mathcal{L}}{\\partial\\beta \\; \\partial\\sigma^{2}}=...=-\\frac{X'\\epsilon}{\\sigma^{4}}\n",
    "$$\n",
    "\n",
    "\n",
    " \n",
    "\n",
    "$$\n",
    "\\frac{\\partial^{2}\\ln \\mathcal{L}}{\\partial\\sigma^{2} \\; \\partial\\beta}\\ =...=-\\frac{\\epsilon'X}{\\sigma^{4}}\n",
    "$$\n",
    "\n",
    "\n",
    " \n",
    "$$\n",
    "\\frac{\\partial^{2}\\ln \\mathcal{L}}{\\partial\\sigma^{2} \\; \\partial\\sigma^{2}}\\ =\\ ... \\frac{T}{2\\sigma^{4}}-\\frac{\\epsilon'\\epsilon}{\\sigma^{6}}\n",
    "$$\n",
    "\n",
    "$$\n",
    "\\\\\n",
    "$$\n",
    "\n",
    "\n",
    "Ergo, **Hessian matrix G-LRM:**\n",
    "\n",
    "$$\n",
    "H=\\frac{\\partial^2\\ln \\mathcal{L}}{\\partial\\theta^2 }= \\begin{pmatrix} -\\frac{X'X}{\\sigma^{2}} & -\\frac{X'\\epsilon}{\\sigma^{4}}\\\\\n",
    "-\\frac{\\epsilon'X}{\\sigma^{4}} & \\frac{T}{2\\sigma^{4}}-\\frac{\\epsilon'\\epsilon}{\\sigma^{6}}\n",
    "\\end{pmatrix}\n",
    "$$\n",
    "\n",
    "$$\n",
    "\\\\\n",
    "$$\n",
    "\n",
    "**Expectation Hessian:**\n",
    "\n",
    "$$\n",
    " E[H]=E \\begin{pmatrix} -\\frac{X'X}{\\sigma^{2}} & -\\frac{X'\\epsilon}{\\sigma^{4}}\\\\\n",
    "-\\frac{\\epsilon'X}{\\sigma^{4}} & \\frac{T}{2\\sigma^{4}}-\\frac{\\epsilon'\\epsilon}{\\sigma^{6}}\n",
    "\\end{pmatrix} = \\begin{pmatrix} -\\frac{X'X}{\\sigma^{2}} & 0 \\\\ \n",
    "0 & - \\frac{T}{2\\sigma^{4}} \\end{pmatrix}\n",
    "$$\n",
    "\n",
    " \n",
    "\n",
    "$$\n",
    "\\\\\n",
    "$$\n",
    "\n",
    "**Inverting Negative Expectation of Hessian:**\n",
    "\n",
    "$$\n",
    "I[\\theta]=-E[H(\\theta)]=-\\begin{pmatrix} -\\frac{X'X}{\\sigma^{2}}  & 0\\\\\n",
    "0 & - \\frac{T}{2\\sigma^{4}} \\end{pmatrix} = \\begin{pmatrix} \\frac{X'X}{\\sigma^{2}} & 0\\\\\n",
    "0 & \\frac{T}{2\\sigma^{4}} \\end{pmatrix}\n",
    "$$\n",
    "\n",
    "Finally,  \n",
    "\n",
    "$$\n",
    "\\hat{var}(\\theta) \\equiv I[\\theta]^{-1}=\\begin{pmatrix} \\sigma^{2}(X'X)^{-1} & 0\\\\\n",
    "0 & \\frac{2\\sigma^{4}}{T} \\end{pmatrix}\n",
    "$$\n",
    "\n",
    " \n",
    " "
   ]
  },
  {
   "cell_type": "code",
   "execution_count": null,
   "metadata": {},
   "outputs": [],
   "source": []
  },
  {
   "cell_type": "markdown",
   "metadata": {},
   "source": [
    "# C. Quizzes - Basics"
   ]
  },
  {
   "cell_type": "markdown",
   "metadata": {},
   "source": [
    "**see ilias**"
   ]
  },
  {
   "cell_type": "code",
   "execution_count": null,
   "metadata": {},
   "outputs": [],
   "source": []
  },
  {
   "cell_type": "markdown",
   "metadata": {},
   "source": [
    "# D. Exercises - Basics "
   ]
  },
  {
   "cell_type": "markdown",
   "metadata": {},
   "source": [
    "## D.1 Decomposing Joint Probabilities\n",
    "\n",
    "Decompose the joint probability density function into marginal and conditional densities."
   ]
  },
  {
   "cell_type": "markdown",
   "metadata": {},
   "source": [
    "## D.2 Decomposing Joint Probabilities of Markov Processes\n",
    "\n",
    "Decompose the joint probability density function of a markov process into marginal and conditional densities."
   ]
  },
  {
   "cell_type": "markdown",
   "metadata": {},
   "source": [
    "## D.3 Asymptotics of MLE\n",
    "\n",
    "State the asymptotic distribution of any Maximum Likelihood Estimate."
   ]
  },
  {
   "cell_type": "markdown",
   "metadata": {},
   "source": [
    "## D.4 G-LRM\n",
    "\n",
    "Write down the linear regression model with Gaussian errors and define each term of the model."
   ]
  },
  {
   "cell_type": "markdown",
   "metadata": {},
   "source": [
    "## D.5 Likelihood of G-LRM\n",
    "\n",
    "Assume you oberve 100 observations of $\\{y_i,x_i\\}$ with $i=1,…,100$, drawn from a Gaussian linear regression model. Write down the joint likelihood function for the observation. Highlight the dependence on the model parameters."
   ]
  },
  {
   "cell_type": "markdown",
   "metadata": {},
   "source": [
    "## D.6 Least Squares vs ML Objective Function\n",
    "\n",
    "State the log likelihood function of a Gaussian linear regression model and show ist similarity and difference to a least squares objective function."
   ]
  },
  {
   "cell_type": "markdown",
   "metadata": {},
   "source": [
    "## D.7 S.E. of MLE\n",
    "\n",
    "How to compute the Maximum Likelihood standard error of the variane parameter of a linear Gaussian regression model?"
   ]
  },
  {
   "cell_type": "code",
   "execution_count": null,
   "metadata": {},
   "outputs": [],
   "source": []
  },
  {
   "cell_type": "markdown",
   "metadata": {},
   "source": [
    "# E. Exercises - Challenging "
   ]
  },
  {
   "cell_type": "markdown",
   "metadata": {},
   "source": [
    "## E.1 MLE Non-Linear vs Linear Model\n",
    "\n",
    "Write down a linear and a non-linear regression model. Assume Gaussian errors. Write down the joint log likelihood function. Talk about similarities and dissimilarities of both likelihood. Derive analytically the estimates for parameters and the volatility of the error term. Can one estimate the unknown quantities iteratively or only jointly? What are advantages of an iterative approach? Which model structure allows an iterative approach and which structure prevents it?"
   ]
  },
  {
   "cell_type": "markdown",
   "metadata": {},
   "source": [
    "## E.2 Start Values\n",
    "\n",
    "Choose a non-trivial problem of your choice to explain how to find smart (good) starting values for a MLE optimization.\n",
    "\n",
    "Hint: OLS is one method of choice, others exist."
   ]
  },
  {
   "cell_type": "code",
   "execution_count": null,
   "metadata": {},
   "outputs": [],
   "source": []
  },
  {
   "cell_type": "markdown",
   "metadata": {},
   "source": [
    "# F. Python\n",
    "\n",
    "**MU: I will upload the python code asap.**"
   ]
  },
  {
   "cell_type": "markdown",
   "metadata": {},
   "source": [
    "# F. Python for Financial Data Analysis\n",
    "\n",
    "Dear students,\n",
    "\n",
    "We approach the time-series modeling part as follows. First, you learn about ARMA models. Second, you learn how to siumulate these. Third, you learn how to estimate these. These estimations will lead us into the machine learning aspects of our course.\n",
    "\n",
    "We are currently learning about how to estimate the parameters and residuals of a linear model. Our application of choice are ARMA models. \n",
    "\n",
    "I provide you with a set of Python applications for estimating linear regression problems using MAXIMUM LIKELIHOOD. The applications carry easily over to NON-LINEAR PROBLEMS. \n",
    "\n",
    "To keep set-up costs low I use the application from last chapter, namely, fitting an AR(3) to the 3-month government bond yield.\n",
    "\n",
    "In order to really learn, we will not use packages but rather code everything from scratch.  "
   ]
  },
  {
   "cell_type": "markdown",
   "metadata": {},
   "source": [
    "## F.1 Preparing y and X for Fitting an AR(3)\n",
    "\n",
    "Here, we are fitting a linear Gaussian model. That takes the form\n",
    "$$\n",
    "y = X \\beta + \\epsilon, \\; \\epsilon \\sim N(0,\\sigma^2)\n",
    "$$\n",
    "with $y$ and $X$ being observed.\n",
    "\n",
    "Our application is to fit the level of the 3-month government bond yield (monthly data) onto its past 3 lags. Hence,\n",
    "\n",
    "$$\n",
    "y_t = \\text{3-month gov bond yield at time t}\n",
    "$$\n",
    "\n",
    "$$\n",
    "X_t = \\text{constant} | y_{t-1}    |  y_{t-2} | y_{t-3}.\n",
    "$$\n",
    "\n",
    "I minimize repetition by loading in the respective $y$ and $X$ from our last assignment.  "
   ]
  },
  {
   "cell_type": "code",
   "execution_count": 1,
   "metadata": {},
   "outputs": [],
   "source": [
    "import pandas as pd"
   ]
  },
  {
   "cell_type": "code",
   "execution_count": 2,
   "metadata": {},
   "outputs": [],
   "source": [
    "y_df = pd.read_csv(\"y_AR3_3mGovYield.csv\", index_col=[0])"
   ]
  },
  {
   "cell_type": "markdown",
   "metadata": {},
   "source": [
    "We check what the y_df looks like"
   ]
  },
  {
   "cell_type": "code",
   "execution_count": 3,
   "metadata": {},
   "outputs": [
    {
     "data": {
      "text/html": [
       "<div>\n",
       "<style scoped>\n",
       "    .dataframe tbody tr th:only-of-type {\n",
       "        vertical-align: middle;\n",
       "    }\n",
       "\n",
       "    .dataframe tbody tr th {\n",
       "        vertical-align: top;\n",
       "    }\n",
       "\n",
       "    .dataframe thead th {\n",
       "        text-align: right;\n",
       "    }\n",
       "</style>\n",
       "<table border=\"1\" class=\"dataframe\">\n",
       "  <thead>\n",
       "    <tr style=\"text-align: right;\">\n",
       "      <th></th>\n",
       "      <th>3</th>\n",
       "    </tr>\n",
       "    <tr>\n",
       "      <th>Date</th>\n",
       "      <th></th>\n",
       "    </tr>\n",
       "  </thead>\n",
       "  <tbody>\n",
       "    <tr>\n",
       "      <th>1954-07-01</th>\n",
       "      <td>0.72</td>\n",
       "    </tr>\n",
       "    <tr>\n",
       "      <th>1954-08-01</th>\n",
       "      <td>0.92</td>\n",
       "    </tr>\n",
       "    <tr>\n",
       "      <th>1954-09-01</th>\n",
       "      <td>1.01</td>\n",
       "    </tr>\n",
       "    <tr>\n",
       "      <th>1954-10-01</th>\n",
       "      <td>0.98</td>\n",
       "    </tr>\n",
       "    <tr>\n",
       "      <th>1954-11-01</th>\n",
       "      <td>0.93</td>\n",
       "    </tr>\n",
       "    <tr>\n",
       "      <th>...</th>\n",
       "      <td>...</td>\n",
       "    </tr>\n",
       "    <tr>\n",
       "      <th>2005-12-01</th>\n",
       "      <td>3.89</td>\n",
       "    </tr>\n",
       "    <tr>\n",
       "      <th>2006-01-01</th>\n",
       "      <td>4.24</td>\n",
       "    </tr>\n",
       "    <tr>\n",
       "      <th>2006-02-01</th>\n",
       "      <td>4.43</td>\n",
       "    </tr>\n",
       "    <tr>\n",
       "      <th>2006-03-01</th>\n",
       "      <td>4.51</td>\n",
       "    </tr>\n",
       "    <tr>\n",
       "      <th>2006-04-01</th>\n",
       "      <td>4.60</td>\n",
       "    </tr>\n",
       "  </tbody>\n",
       "</table>\n",
       "<p>622 rows × 1 columns</p>\n",
       "</div>"
      ],
      "text/plain": [
       "               3\n",
       "Date            \n",
       "1954-07-01  0.72\n",
       "1954-08-01  0.92\n",
       "1954-09-01  1.01\n",
       "1954-10-01  0.98\n",
       "1954-11-01  0.93\n",
       "...          ...\n",
       "2005-12-01  3.89\n",
       "2006-01-01  4.24\n",
       "2006-02-01  4.43\n",
       "2006-03-01  4.51\n",
       "2006-04-01  4.60\n",
       "\n",
       "[622 rows x 1 columns]"
      ]
     },
     "execution_count": 3,
     "metadata": {},
     "output_type": "execute_result"
    }
   ],
   "source": [
    "y_df"
   ]
  },
  {
   "cell_type": "code",
   "execution_count": 4,
   "metadata": {},
   "outputs": [
    {
     "data": {
      "text/plain": [
       "<matplotlib.axes._subplots.AxesSubplot at 0x7f8885760dd0>"
      ]
     },
     "execution_count": 4,
     "metadata": {},
     "output_type": "execute_result"
    },
    {
     "data": {
      "image/png": "[encoded data removed]",
      "text/plain": [
       "<Figure size 432x288 with 1 Axes>"
      ]
     },
     "metadata": {
      "needs_background": "light"
     },
     "output_type": "display_data"
    }
   ],
   "source": [
    "y_df.plot()"
   ]
  },
  {
   "cell_type": "markdown",
   "metadata": {},
   "source": [
    "Let's get X"
   ]
  },
  {
   "cell_type": "code",
   "execution_count": 5,
   "metadata": {},
   "outputs": [],
   "source": [
    "X_df = pd.read_csv(\"X_AR3_3mGovYield.csv\", index_col=[0])"
   ]
  },
  {
   "cell_type": "code",
   "execution_count": 6,
   "metadata": {},
   "outputs": [],
   "source": [
    "X_df.index = y_df.index"
   ]
  },
  {
   "cell_type": "code",
   "execution_count": 7,
   "metadata": {},
   "outputs": [
    {
     "data": {
      "text/html": [
       "<div>\n",
       "<style scoped>\n",
       "    .dataframe tbody tr th:only-of-type {\n",
       "        vertical-align: middle;\n",
       "    }\n",
       "\n",
       "    .dataframe tbody tr th {\n",
       "        vertical-align: top;\n",
       "    }\n",
       "\n",
       "    .dataframe thead th {\n",
       "        text-align: right;\n",
       "    }\n",
       "</style>\n",
       "<table border=\"1\" class=\"dataframe\">\n",
       "  <thead>\n",
       "    <tr style=\"text-align: right;\">\n",
       "      <th></th>\n",
       "      <th>0</th>\n",
       "      <th>rLag1</th>\n",
       "      <th>rLag2</th>\n",
       "      <th>rLag3</th>\n",
       "    </tr>\n",
       "    <tr>\n",
       "      <th>Date</th>\n",
       "      <th></th>\n",
       "      <th></th>\n",
       "      <th></th>\n",
       "      <th></th>\n",
       "    </tr>\n",
       "  </thead>\n",
       "  <tbody>\n",
       "    <tr>\n",
       "      <th>1954-07-01</th>\n",
       "      <td>1.0</td>\n",
       "      <td>0.64</td>\n",
       "      <td>0.76</td>\n",
       "      <td>0.97</td>\n",
       "    </tr>\n",
       "    <tr>\n",
       "      <th>1954-08-01</th>\n",
       "      <td>1.0</td>\n",
       "      <td>0.72</td>\n",
       "      <td>0.64</td>\n",
       "      <td>0.76</td>\n",
       "    </tr>\n",
       "    <tr>\n",
       "      <th>1954-09-01</th>\n",
       "      <td>1.0</td>\n",
       "      <td>0.92</td>\n",
       "      <td>0.72</td>\n",
       "      <td>0.64</td>\n",
       "    </tr>\n",
       "    <tr>\n",
       "      <th>1954-10-01</th>\n",
       "      <td>1.0</td>\n",
       "      <td>1.01</td>\n",
       "      <td>0.92</td>\n",
       "      <td>0.72</td>\n",
       "    </tr>\n",
       "    <tr>\n",
       "      <th>1954-11-01</th>\n",
       "      <td>1.0</td>\n",
       "      <td>0.98</td>\n",
       "      <td>1.01</td>\n",
       "      <td>0.92</td>\n",
       "    </tr>\n",
       "    <tr>\n",
       "      <th>...</th>\n",
       "      <td>...</td>\n",
       "      <td>...</td>\n",
       "      <td>...</td>\n",
       "      <td>...</td>\n",
       "    </tr>\n",
       "    <tr>\n",
       "      <th>2005-12-01</th>\n",
       "      <td>1.0</td>\n",
       "      <td>3.88</td>\n",
       "      <td>3.71</td>\n",
       "      <td>3.42</td>\n",
       "    </tr>\n",
       "    <tr>\n",
       "      <th>2006-01-01</th>\n",
       "      <td>1.0</td>\n",
       "      <td>3.89</td>\n",
       "      <td>3.88</td>\n",
       "      <td>3.71</td>\n",
       "    </tr>\n",
       "    <tr>\n",
       "      <th>2006-02-01</th>\n",
       "      <td>1.0</td>\n",
       "      <td>4.24</td>\n",
       "      <td>3.89</td>\n",
       "      <td>3.88</td>\n",
       "    </tr>\n",
       "    <tr>\n",
       "      <th>2006-03-01</th>\n",
       "      <td>1.0</td>\n",
       "      <td>4.43</td>\n",
       "      <td>4.24</td>\n",
       "      <td>3.89</td>\n",
       "    </tr>\n",
       "    <tr>\n",
       "      <th>2006-04-01</th>\n",
       "      <td>1.0</td>\n",
       "      <td>4.51</td>\n",
       "      <td>4.43</td>\n",
       "      <td>4.24</td>\n",
       "    </tr>\n",
       "  </tbody>\n",
       "</table>\n",
       "<p>622 rows × 4 columns</p>\n",
       "</div>"
      ],
      "text/plain": [
       "              0  rLag1  rLag2  rLag3\n",
       "Date                                \n",
       "1954-07-01  1.0   0.64   0.76   0.97\n",
       "1954-08-01  1.0   0.72   0.64   0.76\n",
       "1954-09-01  1.0   0.92   0.72   0.64\n",
       "1954-10-01  1.0   1.01   0.92   0.72\n",
       "1954-11-01  1.0   0.98   1.01   0.92\n",
       "...         ...    ...    ...    ...\n",
       "2005-12-01  1.0   3.88   3.71   3.42\n",
       "2006-01-01  1.0   3.89   3.88   3.71\n",
       "2006-02-01  1.0   4.24   3.89   3.88\n",
       "2006-03-01  1.0   4.43   4.24   3.89\n",
       "2006-04-01  1.0   4.51   4.43   4.24\n",
       "\n",
       "[622 rows x 4 columns]"
      ]
     },
     "execution_count": 7,
     "metadata": {},
     "output_type": "execute_result"
    }
   ],
   "source": [
    "X_df"
   ]
  },
  {
   "cell_type": "markdown",
   "metadata": {},
   "source": [
    "## F.2 MLE from Scratch: Conceptual"
   ]
  },
  {
   "cell_type": "markdown",
   "metadata": {},
   "source": [
    "We summarize the key equations\n",
    "\n",
    "1. A linear Gaussian LRM ($y=X \\beta + \\epsilon$ with $\\epsilon \\sim N(0,\\sigma^2)$) has join log likelihood function of\n",
    "\n",
    "\n",
    "$$\n",
    "\\ln \\mathcal{L}=\\frac{-T}{2}\\ln(2\\pi)-\\frac{T}{2}\\ln(\\sigma^{2})-\\frac{1}{2\\sigma^{2}}(y-X\\beta)'(y-X\\beta)\n",
    "$$\n",
    "\n",
    "2. The Gaussian LRM has the following ANALYTICAL MLE solution of \n",
    "$$\n",
    "\\beta_{MLE} = \\beta_{ols} \\qquad \\text{and} \\qquad \\sigma^2_{MLE} = \\frac{1}{T} (y-X\\beta_{MLE})'(y-X\\beta_{MLE}).\n",
    "$$\n",
    "\n",
    "Hence, no numerical optimization required.\n",
    "\n",
    "3. Yet, for training purpose, we NUMERICALLY optimize the log likelihood function. This allows us to learn and to compare the numerical solution to the analytical solution. For this simple problem (linear and Gauss), we wont find a meaningful difference.\n",
    "\n",
    "4. A general numerical optimization optimizes for $\\beta$ and $\\sigma$. Yet, the computationally more efficient and robust way is to use an insight of the first order conditions (FOC) of the problem. Namely, the MLE for $\\beta$ does not depend on the MLE for $\\sigma^2$, while the latter depends on the former. \n",
    "\n",
    "5. For now, I optimize over $\\beta$ and $\\sigma^2$ jointly."
   ]
  },
  {
   "cell_type": "markdown",
   "metadata": {},
   "source": [
    "## F.3 Joint Neg Log-Likelihood: Python Implementation"
   ]
  },
  {
   "cell_type": "markdown",
   "metadata": {},
   "source": [
    "Get $T$ and $dim(\\beta) =:K$"
   ]
  },
  {
   "cell_type": "code",
   "execution_count": 8,
   "metadata": {},
   "outputs": [
    {
     "data": {
      "text/plain": [
       "622"
      ]
     },
     "execution_count": 8,
     "metadata": {},
     "output_type": "execute_result"
    }
   ],
   "source": [
    "T = y_df.shape[0]\n",
    "T"
   ]
  },
  {
   "cell_type": "code",
   "execution_count": 9,
   "metadata": {},
   "outputs": [
    {
     "data": {
      "text/plain": [
       "4"
      ]
     },
     "execution_count": 9,
     "metadata": {},
     "output_type": "execute_result"
    }
   ],
   "source": [
    "K = X_df.shape[1]\n",
    "K"
   ]
  },
  {
   "cell_type": "markdown",
   "metadata": {},
   "source": [
    "Unit-wise, let me say the following: Units should not matter as long as you keep track on what the units are. But, numerically speaking, you do not want the quantities to become too small. Rounding errors and numerical inaccuracies are not your friend and especially not when the units get too small.\n",
    "\n",
    "On the other hand, most intuition is build for annualized finance data. \n",
    "\n",
    "Last not least, the upcoming optimization did not work for me when I used monthly quantities in decimals.\n",
    "\n",
    "Hence, here, you see what works. So I am going to use $y$ and $X$ in annualized percentage terms. Hence, 9 stands for 9\\%. "
   ]
  },
  {
   "cell_type": "code",
   "execution_count": 10,
   "metadata": {},
   "outputs": [
    {
     "data": {
      "text/plain": [
       "3    5.219389\n",
       "dtype: float64"
      ]
     },
     "execution_count": 10,
     "metadata": {},
     "output_type": "execute_result"
    }
   ],
   "source": [
    "y_df.mean()"
   ]
  },
  {
   "cell_type": "markdown",
   "metadata": {},
   "source": [
    "calculation wise, I prefer to have the data as numpy"
   ]
  },
  {
   "cell_type": "code",
   "execution_count": 11,
   "metadata": {},
   "outputs": [
    {
     "data": {
      "text/plain": [
       "5.219389067524116"
      ]
     },
     "execution_count": 11,
     "metadata": {},
     "output_type": "execute_result"
    }
   ],
   "source": [
    "import numpy as np\n",
    "y = np.matrix(y_df)\n",
    "np.mean(y)"
   ]
  },
  {
   "cell_type": "code",
   "execution_count": 12,
   "metadata": {},
   "outputs": [
    {
     "data": {
      "text/plain": [
       "0        1.000000\n",
       "rLag1    5.213023\n",
       "rLag2    5.206994\n",
       "rLag3    5.201431\n",
       "dtype: float64"
      ]
     },
     "execution_count": 12,
     "metadata": {},
     "output_type": "execute_result"
    }
   ],
   "source": [
    "X_df.mean()"
   ]
  },
  {
   "cell_type": "code",
   "execution_count": 13,
   "metadata": {},
   "outputs": [
    {
     "data": {
      "text/plain": [
       "matrix([[1.        , 5.21302251, 5.20699357, 5.20143087]])"
      ]
     },
     "execution_count": 13,
     "metadata": {},
     "output_type": "execute_result"
    }
   ],
   "source": [
    "X = np.matrix(X_df)\n",
    "X[:,1:] = X[:,1:]\n",
    "np.mean(X, axis=0)"
   ]
  },
  {
   "cell_type": "markdown",
   "metadata": {},
   "source": [
    "A successfull numerical optimization starts with smart (informative) starting values. \n",
    "\n",
    "1. I know that the AR(3) coefficients are usually between -1 and 2. I want uninformative, yet realistic starting values. I hence choose \"0\".\n",
    "\n",
    "2. I know that the upper bound for $\\sigma^2$ is the variance of $y$. "
   ]
  },
  {
   "cell_type": "code",
   "execution_count": 14,
   "metadata": {},
   "outputs": [
    {
     "data": {
      "text/plain": [
       "7.875277761809741"
      ]
     },
     "execution_count": 14,
     "metadata": {},
     "output_type": "execute_result"
    }
   ],
   "source": [
    "y.std()**2 #a value of 7.87 stands for (7.87)%^2 meaing 7.87/10000 (decimal units)"
   ]
  },
  {
   "cell_type": "markdown",
   "metadata": {},
   "source": [
    "hence, I set the starting value for $\\sigma^2$ to half of the variance of $y$. That is my rather uninformative, yet not crazy guess"
   ]
  },
  {
   "cell_type": "code",
   "execution_count": 15,
   "metadata": {},
   "outputs": [
    {
     "data": {
      "text/plain": [
       "array([0.        , 0.        , 0.        , 0.        , 3.93763888])"
      ]
     },
     "execution_count": 15,
     "metadata": {},
     "output_type": "execute_result"
    }
   ],
   "source": [
    "#start values for optimization\n",
    "beta0 = np.zeros(K+1) #K times beta and 1 times sigma2\n",
    "beta0[K] = 0.5 * y.std()**2\n",
    "\n",
    "beta0"
   ]
  },
  {
   "cell_type": "markdown",
   "metadata": {},
   "source": [
    "Now, we write the NEGATIVE joint log likelihood function as a python function. The input must be the parameters $\\beta$ and $\\sigma$, the output is\n",
    "\n",
    "$$\n",
    "-1 \\times ln(L)\n",
    "$$"
   ]
  },
  {
   "cell_type": "code",
   "execution_count": 16,
   "metadata": {},
   "outputs": [],
   "source": [
    "#define -1* log likelihood function as a function of model parameter\n",
    "\n",
    "def _lnL(param):\n",
    "    #give input to model parameters\n",
    "    beta = param[0:K].reshape(K,1) # make it a column vector\n",
    "    sigma2 = param[K] #last entry of param MUST be variance of residual\n",
    "    \n",
    "    # evaluate model (G-LRM) at param. Record only fitting error\n",
    "    eps = y - X * beta\n",
    "    \n",
    "    #compute the G-LRM log likelihood function\n",
    "    # ln L = -T/2 * ln(2*pi) - T/2 ln(sigma2) - 1/(2*sigma2) * (y - X*beta)'(y - X*beta)\n",
    "    # Note: constant summands do not affect the soln. Hence, I could leave out the first term on the rhs. yet, I keep it in so students can match code to formula more easily\n",
    "    term1 = -(T/2) * np.log(2*np.pi) #contains no information on beta nor sigma2. could be deleted\n",
    "    term2 = -(T/2) * np.log(sigma2) #robust code ensures that sigma2 cannot be negative (prior to executing the log)\n",
    "    term3 = -1/2 * (eps.T*eps)[0,0]/sigma2\n",
    "\n",
    "    lnL_T = term1 + term2 + term3\n",
    "    \n",
    "    return (-1.0 * lnL_T)"
   ]
  },
  {
   "cell_type": "markdown",
   "metadata": {},
   "source": [
    "Let's test whether the function runs at least thru for the starting parameters"
   ]
  },
  {
   "cell_type": "code",
   "execution_count": 17,
   "metadata": {},
   "outputs": [
    {
     "name": "stdout",
     "output_type": "stream",
     "text": [
      "3771.4419976826057\n"
     ]
    }
   ],
   "source": [
    "print(_lnL(beta0))"
   ]
  },
  {
   "cell_type": "markdown",
   "metadata": {},
   "source": [
    "## F.4 Setting up Numerical Optimization"
   ]
  },
  {
   "cell_type": "markdown",
   "metadata": {},
   "source": [
    "We are setting bounds for all model parameters. We know the variance is non-negative. You don't want bounds to be too tight. make them large enough."
   ]
  },
  {
   "cell_type": "code",
   "execution_count": 18,
   "metadata": {},
   "outputs": [
    {
     "data": {
      "text/plain": [
       "array([-1.00000000e+02, -1.00000000e+02, -1.00000000e+02, -1.00000000e+02,\n",
       "        7.87527776e-04])"
      ]
     },
     "execution_count": 18,
     "metadata": {},
     "output_type": "execute_result"
    }
   ],
   "source": [
    "#lower bounds for optimization\n",
    "lb = -100 * np.ones(K+1) #initialization\n",
    "lb[K] = 0.0001*y.std()**2 #implies an R2 of (1-0.0001)\n",
    "\n",
    "lb"
   ]
  },
  {
   "cell_type": "code",
   "execution_count": 19,
   "metadata": {},
   "outputs": [
    {
     "data": {
      "text/plain": [
       "array([100., 100., 100., 100., 100.])"
      ]
     },
     "execution_count": 19,
     "metadata": {},
     "output_type": "execute_result"
    }
   ],
   "source": [
    "#upper bounds for optimization\n",
    "ub = 100 * np.ones(K+1) #initialization\n",
    "\n",
    "ub"
   ]
  },
  {
   "cell_type": "markdown",
   "metadata": {},
   "source": [
    "Python's scipy.optimize package requires to translate lb and ub into bounds"
   ]
  },
  {
   "cell_type": "code",
   "execution_count": 20,
   "metadata": {},
   "outputs": [
    {
     "data": {
      "text/plain": [
       "((-100.0, 100.0),\n",
       " (-100.0, 100.0),\n",
       " (-100.0, 100.0),\n",
       " (-100.0, 100.0),\n",
       " (0.0007875277761809742, 100.0))"
      ]
     },
     "execution_count": 20,
     "metadata": {},
     "output_type": "execute_result"
    }
   ],
   "source": [
    "bounds = tuple( (lb[x], ub[x]) for x in range(0,len(beta0)) )\n",
    "\n",
    "bounds"
   ]
  },
  {
   "cell_type": "markdown",
   "metadata": {},
   "source": [
    "## F.5 Calling the Numerical Minimizer and handing over the Neg Log Likelihood"
   ]
  },
  {
   "cell_type": "code",
   "execution_count": 21,
   "metadata": {},
   "outputs": [],
   "source": [
    "import scipy.optimize as sco"
   ]
  },
  {
   "cell_type": "code",
   "execution_count": 22,
   "metadata": {},
   "outputs": [],
   "source": [
    "MLE_AR3 = sco.minimize(fun = _lnL, x0 = beta0, bounds=bounds, method='L-BFGS-B', options={'disp':True})"
   ]
  },
  {
   "cell_type": "markdown",
   "metadata": {},
   "source": [
    "## F.6 Getting the MLE Estimates"
   ]
  },
  {
   "cell_type": "code",
   "execution_count": 23,
   "metadata": {},
   "outputs": [
    {
     "data": {
      "text/plain": [
       "array([ 0.08678835,  1.39376315, -0.61196636,  0.20252034,  0.1737547 ])"
      ]
     },
     "execution_count": 23,
     "metadata": {},
     "output_type": "execute_result"
    }
   ],
   "source": [
    "MLE_AR3.x"
   ]
  },
  {
   "cell_type": "markdown",
   "metadata": {},
   "source": [
    "The AR(3) parameters coincide with the OLS counterpart. \n",
    "\n",
    "The MLE estimate for $\\sigma^2$ is 0.1737547. Watch the units! As y and X were in percent, that numbers is in percent square. It might be more intuitive to state the MLE estimate for the vol\n",
    "\n",
    "$$\n",
    "std(\\epsilon)_{MLE} = \\sqrt(\\sigma^2) = \\sqrt{0.1737547} = 0.4168,\n",
    "$$\n",
    "\n",
    "which unit wise says the annualized monthly vol of interest rate shocks was 0.4168 percent."
   ]
  },
  {
   "cell_type": "markdown",
   "metadata": {},
   "source": [
    "## F.7 Numerically vs Analytically Optimal Variance of Residual"
   ]
  },
  {
   "cell_type": "markdown",
   "metadata": {},
   "source": [
    "We know that for G-LRM, the optimal MLE for $\\sigma^2$ is the average value of the squared residuals. Hence, lets compute that"
   ]
  },
  {
   "cell_type": "code",
   "execution_count": 24,
   "metadata": {},
   "outputs": [
    {
     "data": {
      "text/plain": [
       "array([[ 0.08678835],\n",
       "       [ 1.39376315],\n",
       "       [-0.61196636],\n",
       "       [ 0.20252034]])"
      ]
     },
     "execution_count": 24,
     "metadata": {},
     "output_type": "execute_result"
    }
   ],
   "source": [
    "beta_MLE = MLE_AR3.x[0:K].reshape(K,1)\n",
    "\n",
    "beta_MLE"
   ]
  },
  {
   "cell_type": "code",
   "execution_count": 25,
   "metadata": {},
   "outputs": [
    {
     "data": {
      "text/plain": [
       "(622, 1)"
      ]
     },
     "execution_count": 25,
     "metadata": {},
     "output_type": "execute_result"
    }
   ],
   "source": [
    "y.shape"
   ]
  },
  {
   "cell_type": "code",
   "execution_count": 26,
   "metadata": {},
   "outputs": [
    {
     "data": {
      "text/plain": [
       "(1, 1)"
      ]
     },
     "execution_count": 26,
     "metadata": {},
     "output_type": "execute_result"
    }
   ],
   "source": [
    "sigma2_MLE_analytical = (y.reshape(T,1)-X*beta_MLE).T * (y.reshape(T,1) - X*beta_MLE) / T\n",
    "\n",
    "sigma2_MLE_analytical.shape\n",
    "\n",
    " "
   ]
  },
  {
   "cell_type": "code",
   "execution_count": 27,
   "metadata": {},
   "outputs": [
    {
     "data": {
      "text/plain": [
       "0.416842367976678"
      ]
     },
     "execution_count": 27,
     "metadata": {},
     "output_type": "execute_result"
    }
   ],
   "source": [
    "sigma_MLE_analytical = np.sqrt(sigma2_MLE_analytical[0,0])\n",
    "\n",
    "sigma_MLE_analytical"
   ]
  },
  {
   "cell_type": "markdown",
   "metadata": {},
   "source": [
    "The RELATIVE numerical error for sigma_MLE is"
   ]
  },
  {
   "cell_type": "code",
   "execution_count": 28,
   "metadata": {},
   "outputs": [
    {
     "data": {
      "text/plain": [
       "-8.228506834103796e-06"
      ]
     },
     "execution_count": 28,
     "metadata": {},
     "output_type": "execute_result"
    }
   ],
   "source": [
    "(np.sqrt(MLE_AR3.x[K]) - sigma_MLE_analytical) / sigma_MLE_analytical"
   ]
  },
  {
   "cell_type": "markdown",
   "metadata": {},
   "source": [
    "which is negligebly small. Yet, if you find the residual variance analytically, you reduce the parameter space by 20\\%. So, if you do not compute it analytically, your computer resources spend 20\\% of their time on a redundant task."
   ]
  },
  {
   "cell_type": "code",
   "execution_count": null,
   "metadata": {},
   "outputs": [],
   "source": []
  },
  {
   "cell_type": "code",
   "execution_count": null,
   "metadata": {},
   "outputs": [],
   "source": []
  }
 ],
 "metadata": {
  "kernelspec": {
   "display_name": "Python 3",
   "language": "python",
   "name": "python3"
  },
  "language_info": {
   "codemirror_mode": {
    "name": "ipython",
    "version": 3
   },
   "file_extension": ".py",
   "mimetype": "text/x-python",
   "name": "python",
   "nbconvert_exporter": "python",
   "pygments_lexer": "ipython3",
   "version": "3.7.6"
  }
 },
 "nbformat": 4,
 "nbformat_minor": 4
}