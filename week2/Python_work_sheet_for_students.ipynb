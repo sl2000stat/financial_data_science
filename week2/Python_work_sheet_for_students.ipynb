{
 "cells": [
  {
   "cell_type": "markdown",
   "metadata": {},
   "source": [
    "# Task #1: Concave Utility Function\n",
    "\n",
    "Write a python program to create a concave utility function in wealth for arbitrary values of risk aversion. An investor has initial wealth of 1000 Euros. An investment offers the following prospects on future wealth: Future wealth has a 50% chance of ending at 1 Euro and a 50% chance at ending at 999,999.00 Euros. Highlight in red the utility in the high marginal utility state and in green the utility in the low marginal utility state. \n",
    "\n",
    "Plot two utility functions into one graph. Explain the graph in economically meaningful terms. \n",
    "\n",
    " \n",
    "Hint: A convenient way to characterize a utility function for illustrative purpose is\n",
    "\n",
    "\\begin{align*}\n",
    "U(W_T) &= \\frac{W^{1-\\gamma}_T - 1}{1-\\gamma}, \\; \\gamma \\geq 0, \\gamma \\neq 1 \\\\\\\\\n",
    "U(W_T) &= ln (W_T), \\; \\gamma = 1\n",
    "\\end{align*}\n",
    "\n",
    " \n",
    "where $\\gamma$ is the coefficient of relative risk aversion.\n"
   ]
  },
  {
   "cell_type": "markdown",
   "metadata": {},
   "source": [
    "# Task #2: Convex Marginal Utility\n",
    "\n",
    "Consider the setting from Task #1. Write a python program to compute marginal utility as a function of future wealth. Add a second plot to the output of Task #1 to show the respective marginal utility functions. Interpret the graph in economically meaningful terms."
   ]
  },
  {
   "cell_type": "code",
   "execution_count": 1,
   "metadata": {},
   "outputs": [],
   "source": [
    "#import some useful libraries\n",
    "import pandas as pd\n",
    "import numpy as np\n",
    "import matplotlib.pyplot as plt\n",
    "import math\n",
    "from scipy.misc import derivative\n"
   ]
  },
  {
   "cell_type": "code",
   "execution_count": 2,
   "metadata": {},
   "outputs": [
    {
     "data": {
      "text/plain": "<Figure size 432x288 with 1 Axes>",
      "image/png": "[encoded data removed]"
     },
     "metadata": {
      "needs_background": "light"
     },
     "output_type": "display_data"
    }
   ],
   "source": [
    "#Task1\n",
    "def utility_function(wealth,risk_aversion_value):\n",
    "\n",
    "    \"\"\"This function creates the utility function\"\"\"\n",
    "\n",
    "    if risk_aversion_value == 1 and risk_aversion_value >= 0:\n",
    "        # math.log being the natural logarithm\n",
    "        utility = math.log(wealth)\n",
    "    elif risk_aversion_value != 1:\n",
    "        utility = (wealth**(1-risk_aversion_value) - 1) / (1 - risk_aversion_value)\n",
    "    else:\n",
    "        print(\"unvalid value for the coefficient of relative risk\")\n",
    "        utility = 0\n",
    "\n",
    "    return utility\n",
    "\n",
    "# plotting\n",
    "number_of_values = 1002\n",
    "# empty Dataframe\n",
    "df_for_plotting = pd.DataFrame()\n",
    "# from 1- 1001: 1000 values\n",
    "df_for_plotting[\"x\"] = list(range(1,number_of_values))\n",
    "df_for_plotting[\"y1\"] = df_for_plotting[\"x\"].map(lambda x : utility_function(x,1))\n",
    "df_for_plotting[\"y2\"] = df_for_plotting[\"x\"].map(lambda x : utility_function(x,0.8))\n",
    "plt.plot(df_for_plotting[\"x\"] ,df_for_plotting[\"y1\"],label = f\"utility with value risk aversion of 1\",color =\"slategray\")\n",
    "plt.plot(df_for_plotting[\"x\"] ,df_for_plotting[\"y2\"],label = f\"utility with value risk aversion of 0.8\",color = \"goldenrod\")\n",
    "\n",
    "# annotations\n",
    "x_annothigh = 60\n",
    "x_annotlow = 900\n",
    "plt.annotate(text = \"high utility margin\",xy= (x_annothigh,utility_function(x_annothigh,1)))\n",
    "plt.annotate(text = \"low utility margin\",xy= (x_annotlow,utility_function(x_annotlow,1)))\n",
    "plt.annotate(text = \"high utility margin\",xy= (x_annothigh,utility_function(x_annothigh,0.8)))\n",
    "plt.annotate(text = \"low utility margin\",xy= (x_annotlow,utility_function(x_annotlow,0.8)))\n",
    "# style\n",
    "plt.legend()\n",
    "plt.title(\"Utility functions\")\n",
    "plt.xlabel(\"WEALTH in €\")\n",
    "plt.ylabel(\"Utility\")\n",
    "plt.show()"
   ]
  },
  {
   "cell_type": "markdown",
   "source": [
    "# Explanation of task 1:\n",
    "self explaining"
   ],
   "metadata": {
    "collapsed": false,
    "pycharm": {
     "name": "#%% md\n"
    }
   }
  },
  {
   "cell_type": "code",
   "execution_count": 3,
   "outputs": [
    {
     "data": {
      "text/plain": "<Figure size 432x288 with 1 Axes>",
      "image/png": "[encoded data removed]"
     },
     "metadata": {
      "needs_background": "light"
     },
     "output_type": "display_data"
    }
   ],
   "source": [
    "def helperfunc(x):\n",
    "    return utility_function(x,0.9)\n",
    "#Task2\n",
    "# plot the derivation of the utiliy function\n",
    "def deriv(wealth):\n",
    "    \"\"\"This function calculates the derivative\"\"\"\n",
    "    return derivative(helperfunc,wealth)\n",
    "\n",
    "# defininf x-axis intervals\n",
    "x = np.linspace(1, number_of_values)\n",
    "\n",
    "# plotting the function\n",
    "# plt.plot(x, helperfunc(x), color='purple', label='Function')\n",
    "\n",
    "# plotting its derivative\n",
    "plt.plot(x, deriv(x), color='green', label='Derivative')\n",
    "\n",
    "plt.show()"
   ],
   "metadata": {
    "collapsed": false,
    "pycharm": {
     "name": "#%%\n"
    }
   }
  },
  {
   "cell_type": "markdown",
   "metadata": {
    "pycharm": {
     "name": "#%% md\n"
    }
   },
   "source": [
    "# Explanation of task 2:\n",
    "At the beginning, there is a high margin utiliy, and it decreases with future wealth:\n",
    "If i got 1. Mio € and i recieve 1 additional €, my utulity wouldn't increase as much. In contrast from 1 € to 2 € i doubled my wealth."
   ]
  },
  {
   "cell_type": "code",
   "execution_count": 3,
   "outputs": [],
   "source": [
    "\n"
   ],
   "metadata": {
    "collapsed": false,
    "pycharm": {
     "name": "#%%\n"
    }
   }
  }
 ],
 "metadata": {
  "kernelspec": {
   "display_name": "Python 3",
   "language": "python",
   "name": "python3"
  },
  "language_info": {
   "codemirror_mode": {
    "name": "ipython",
    "version": 3
   },
   "file_extension": ".py",
   "mimetype": "text/x-python",
   "name": "python",
   "nbconvert_exporter": "python",
   "pygments_lexer": "ipython3",
   "version": "3.8.3"
  }
 },
 "nbformat": 4,
 "nbformat_minor": 4
}