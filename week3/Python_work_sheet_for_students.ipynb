{
 "cells": [
  {
   "cell_type": "markdown",
   "metadata": {},
   "source": [
    "# Task #1: Risk Premium\n",
    "\n",
    "Consider the setting of the last Python work sheet. Write a Python program that computes: (i) Expected Wealth, (ii) Certainty Equivalent, (iii) Risk Premium in Euros and (iv) Risk Premium in percentage terms. Compare these quantities for the two utility specifications of your last Python work sheet. Interpret results in an economically meaningful way. "
   ]
  },
  {
   "cell_type": "markdown",
   "metadata": {},
   "source": [
    "# Task #2: Mean-Variance Approximation\n",
    "\n",
    "Consider the setting of the last Python work sheet. Write a python program that computes the second-oder Taylor approximation of the expected utility function. Plot the exact utility function for a risk aversion of your choice and compare it to the mean-variance approximation."
   ]
  },
  {
   "cell_type": "code",
   "execution_count": 6,
   "outputs": [],
   "source": [
    "import pandas as pd\n",
    "import numpy as np\n",
    "import matplotlib.pyplot as plt\n",
    "import math\n",
    "from scipy.misc import derivative"
   ],
   "metadata": {
    "collapsed": false,
    "pycharm": {
     "name": "#%%\n"
    }
   }
  },
  {
   "cell_type": "code",
   "execution_count": 7,
   "outputs": [
    {
     "name": "stdout",
     "output_type": "stream",
     "text": [
      "500000.0\n",
      "999.9994999998746\n",
      "499000.00050000014\n",
      "49900.00005000001\n"
     ]
    }
   ],
   "source": [
    "# from last sheet\n",
    "def utility_function(wealth):\n",
    "\n",
    "    \"\"\"This function creates the utility function for a fix risk_aversion_value\"\"\"\n",
    "\n",
    "    # fixed value fro risk aversion\n",
    "    risk_aversion_value = 1\n",
    "\n",
    "    if risk_aversion_value == 1 and risk_aversion_value >= 0:\n",
    "\n",
    "        # math.log being the natural logarithm, but np.log is better\n",
    "        utility = np.log(wealth)\n",
    "\n",
    "    elif risk_aversion_value != 1:\n",
    "        utility = (wealth**(1-risk_aversion_value) - 1) / (1 - risk_aversion_value)\n",
    "    else:\n",
    "        print(\"unvalid value for the coefficient of relative risk\")\n",
    "        utility = 0\n",
    "\n",
    "    return utility\n",
    "\n",
    "# Task1\n",
    "\n",
    "# variables\n",
    "initial_wealth = 1000\n",
    "prob_win = 0.5\n",
    "prob_loose = 1- prob_win\n",
    "wealth_given_win = 999999\n",
    "wealth_given_loss = 1\n",
    "\n",
    "def expected_wealth(prob_win,prob_loose,wealth_given_win,wealth_given_loss):\n",
    "    \"\"\"Expectation of wealth:\"\"\"\n",
    "    return prob_win*wealth_given_win + prob_loose*wealth_given_loss\n",
    "\n",
    "ew = expected_wealth(prob_win,prob_loose,wealth_given_win,wealth_given_loss)\n",
    "print(ew)\n",
    "\n",
    "def certainty_equiv(prob_win,prob_loose,wealth_given_win,wealth_given_loss):\n",
    "    \"\"\" Indifference between gambling and just taking the money: Same expected Utility as the gamble\"\"\"\n",
    "    # Note: E(U(W)) == U(CE) <=> CE = U**-1(E(U(W))\n",
    "    expectation_of_utility = prob_win*utility_function(wealth_given_win) + prob_loose*utility_function(wealth_given_loss)\n",
    "    # Inverse function of ln(X) = e**x\n",
    "    # Inverse function of other function: wt =1-y(sqrt(u(w)*(1-y) + 1) but not in use for y(risk aversion) = 1\n",
    "    return math.exp(expectation_of_utility)\n",
    "\n",
    "ce = certainty_equiv(prob_win,prob_loose,wealth_given_win,wealth_given_loss)\n",
    "print(ce)\n",
    "\n",
    "def risk_premium(ew,certainty_equivalent,intial_wealth):\n",
    "    \"\"\"This function calculates the risk premium: Difference between expected wealth and CE\"\"\"\n",
    "    return (ew - certainty_equivalent) ,((ew - certainty_equivalent)/intial_wealth*100)\n",
    "\n",
    "rp,rp_percent = risk_premium(ew,ce,initial_wealth)\n",
    "print(rp)\n",
    "print(rp_percent)"
   ],
   "metadata": {
    "collapsed": false,
    "pycharm": {
     "name": "#%%\n"
    }
   }
  },
  {
   "cell_type": "markdown",
   "source": [
    "Explanation Task 1:\n",
    "given the initial values of the gamble, the expected wealth is 500.000. The expected Utility of the gamble is 999.\n",
    "Since the expected utility equals the utility of the certainty equivalent, one can compute the wealth defined by the CE.\n",
    "The CE desplays the value of wealth, at which the investor is indifferent between the expected wealth of the gamble and certain wealth.\n",
    "Therefore the risk premium is the difference between these 2 quantities und can be interpreted as how much money\n",
    "one needs to compensate risk"
   ],
   "metadata": {
    "collapsed": false,
    "pycharm": {
     "name": "#%% md\n"
    }
   }
  },
  {
   "cell_type": "code",
   "execution_count": 8,
   "outputs": [
    {
     "data": {
      "text/plain": "<Figure size 432x288 with 1 Axes>",
      "image/png": "[encoded data removed]"
     },
     "metadata": {
      "needs_background": "light"
     },
     "output_type": "display_data"
    }
   ],
   "source": [
    "# Task2\n",
    "def derivatives(wealth):\n",
    "    \"\"\"Second order derivative function\"\"\"\n",
    "    return derivative(utility_function, wealth,n = 2)\n",
    "\n",
    "def taylor_approx(wealth):\n",
    "    \"\"\" 2 Order taylor approximation of the expectation of utility given wealth\"\"\"\n",
    "    return utility_function(ew) + 1/2 * derivatives(ew) * (wealth - ew)**2\n",
    "\n",
    "# expectation_of_utility = prob_win*utility_function(wealth_given_win) + prob_loose*utility_function(wealth_given_loss)\n",
    "def expectation_util(wealth):\n",
    "    \"\"\"This function computes the expectation of the utitily much more general\"\"\"\n",
    "    # with the general prob of 0.5\n",
    "    return np.sum(utility_function(wealth) * 0.5)\n",
    "\n",
    "x = np.linspace(1,1000000,num= 100)\n",
    "taylor = taylor_approx(x)\n",
    "\n",
    "\n",
    "x_values = [wealth_given_loss,wealth_given_win]\n",
    "y_values = [utility_function(wealth_given_loss), utility_function(wealth_given_win)]\n",
    "\n",
    "# plotting\n",
    "plt.plot(x,taylor,label =\"taylor approximitation\")\n",
    "plt.plot(x_values,y_values,label =\"Expected Utility\")\n",
    "plt.plot(x,utility_function(x),label = \"Utility\")\n",
    "plt.axvline(x = ew,linewidth = 4,color = \"r\")\n",
    "plt.title(f\"Utility function and approximation at point E[w] = {ew}\")\n",
    "plt.xlabel(\"Wealth\")\n",
    "plt.ylabel(\"Utility\")\n",
    "plt.legend()\n",
    "\n",
    "plt.show()\n"
   ],
   "metadata": {
    "collapsed": false,
    "pycharm": {
     "name": "#%%\n"
    }
   }
  },
  {
   "cell_type": "code",
   "execution_count": 8,
   "outputs": [],
   "source": [],
   "metadata": {
    "collapsed": false,
    "pycharm": {
     "name": "#%%\n"
    }
   }
  }
 ],
 "metadata": {
  "kernelspec": {
   "display_name": "Python 3",
   "language": "python",
   "name": "python3"
  },
  "language_info": {
   "codemirror_mode": {
    "name": "ipython",
    "version": 3
   },
   "file_extension": ".py",
   "mimetype": "text/x-python",
   "name": "python",
   "nbconvert_exporter": "python",
   "pygments_lexer": "ipython3",
   "version": "3.7.6"
  }
 },
 "nbformat": 4,
 "nbformat_minor": 4
}