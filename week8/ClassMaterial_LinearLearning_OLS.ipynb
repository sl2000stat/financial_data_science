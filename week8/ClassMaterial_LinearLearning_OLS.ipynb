{
 "cells": [
  {
   "cell_type": "markdown",
   "metadata": {},
   "source": [
    "# Linear Regression Models\n",
    "\n",
    "Dear students,\n",
    "\n",
    "finance data is most often in the format of a time-series. Time-series methods for predicting the return density are therefore one key element. Be reminded that the mean of that density would coincide with the expected return.\n",
    "\n",
    "The backbone of time series analysis is the linear regression model. In this section we are repeating all about regression work that one needs for financial data science work.\n",
    "\n",
    "---"
   ]
  },
  {
   "cell_type": "markdown",
   "metadata": {},
   "source": [
    "# B. Tutorial and Revision Manual \n",
    "\n",
    "## B.1. Estimating Parameters of Linear Models"
   ]
  },
  {
   "cell_type": "markdown",
   "metadata": {},
   "source": [
    "### Linear Regression Model"
   ]
  },
  {
   "cell_type": "markdown",
   "metadata": {},
   "source": [
    "The compact form of the Linear Regression Model is\n",
    "\n",
    "$$\n",
    "y := X\\; \\beta + \\epsilon, \\; \\epsilon :\\sim i.i.d.(0,\\sigma^2_{\\epsilon} I)\n",
    "$$\n",
    "\n",
    "with\n",
    "\n",
    "\\begin{align*}\n",
    "y &:= (y_1, y_2, ..., y_T)', \\text{observed}\\\\\\\\\n",
    "X &:= \\begin{pmatrix} \n",
    "\t\t\t\t\t\t\t\t\t\t\t1 & x_{11} & ... & x_{1p} \\\\\n",
    "\t\t\t\t\t\t\t\t\t\t\t... & ... & ... & ... \\\\\n",
    "\t\t\t\t\t\t\t\t\t\t\t1 & x_{T1} & ... & x_{Tp} \n",
    "\t\t  \\end{pmatrix}; \\text{observed} \\\\\\\\\n",
    "\\beta &:= [\\beta_0, \\beta_1, ..., \\beta_p]'; \\text{unknown in real-life applications} \\\\\\\\\n",
    "\\epsilon &:= (\\epsilon_1, ..., \\epsilon_T)'; \\text{unknown in real-life applications}\n",
    "\\end{align*}\n",
    " \n",
    " \n",
    "$$\n",
    "\\\\\n",
    "$$\n",
    "\n",
    " \n",
    "**Example:** Write AR(1) as LRM:    \n",
    "\n",
    "$$\n",
    "y_t := \\phi_0 + \\phi_1\\times y_{t-1} + \\epsilon_t; \\; \\epsilon_t \\sim iid(0,\\sigma^2_{\\epsilon}).\n",
    "$$\n",
    "\n",
    "coincides with\n",
    "\n",
    "\\begin{align*}\n",
    "y :&= X\\beta + \\epsilon \\\\\\\\\n",
    "\\underbrace{y}_{(T-1)\\times 1} &= (y_2, ..., y_T)'\\\\\\\\\n",
    "\\underbrace{X}_{(T-1) \\times 2} &= \\begin{pmatrix} 1 & y_1 \\\\ ... & ... \\\\ 1 & y_{T-1} \\end{pmatrix} \\\\\\\\\n",
    "\\underbrace{\\epsilon}_{(T-1)\\times 1} &= (\\epsilon_2, ..., \\epsilon_{T})' \\, :\\sim iid (0,\\sigma^2_{\\epsilon})\\\\\\\\\n",
    "\\beta &= (\\phi_0, \\phi_1)'.\n",
    "\\end{align*}\n",
    "\n",
    "$$\n",
    "\\\\\n",
    "$$\n",
    "\n",
    "**Example:** Write ARMA(1,1) as LRM\n",
    "\n",
    "$$\n",
    "y_t := \\phi_0 + \\phi_1 y_{t-1} + \\theta_1 \\epsilon_{t-1} + \\epsilon_t, \\; \\epsilon_t :\\sim iid(0,\\sigma^2_{\\epsilon}).\n",
    "$$\n",
    "\n",
    "coincides with\n",
    "\n",
    "\\begin{align*}\n",
    "y = X\\beta + \\epsilon \\\\\\\\\n",
    "\\underbrace{y}_{(T-1)\\times 1} &= (y_2, ..., y_T)'\\\\\\\\\n",
    "\\underbrace{X}_{(T-1) \\times 3} &= \\begin{pmatrix} 1 & y_1 & \\epsilon_1 \\\\ ... & ... \\\\ 1 & y_{T-1} & \\epsilon_{T-1} \\end{pmatrix} \\\\\\\\\n",
    "\\underbrace{\\epsilon}_{(T-1)\\times 1} &= (\\epsilon_2, ..., \\epsilon_{T})' \\, :\\sim iid (0,\\sigma^2_{\\epsilon})\\\\\\\\\n",
    "\\underbrace{\\beta}_{3 \\times 1} &= (\\phi_0, \\phi_1, \\theta_1)'.\n",
    "\\end{align*}\n",
    "\n",
    " \n"
   ]
  },
  {
   "cell_type": "markdown",
   "metadata": {},
   "source": [
    "### Preferred Estimation Technique: Ordinary Least Squares"
   ]
  },
  {
   "cell_type": "markdown",
   "metadata": {},
   "source": [
    "OLS provides **unbiased and consistent** estimates for $\\beta$, $\\sigma^2_{\\epsilon}$ and $\\epsilon$ if the data at hand shares the following characteristics:\n",
    "\n",
    "-  $X$ is **'weakly exogenous'**, i.e. measured without measurement error and effectively a constant for the problem\n",
    "\n",
    "$$\n",
    "\\\\\n",
    "$$\n",
    "\n",
    "- **'linearity assumption'**, i.e. $y$ and any deterministic transformation of $X$ share a linear relationship; \n",
    "\n",
    "$$\n",
    "\\\\\n",
    "$$\n",
    "\n",
    "- **White Noise Residuals** \n",
    "\n",
    "$$\n",
    "\\\\\n",
    "$$\n",
    "\n",
    "- **Absence of Multi-Colinearity**  \n",
    "\n",
    " \n",
    " \n",
    "$$\n",
    "\\\\\n",
    "$$\n",
    "\n",
    "**OLS Parametric Solution**\n",
    "\n",
    " \n",
    "\\begin{align*}\n",
    " \\hat{\\beta}_{ols} :&= (X' X)^{{}-1} X' y \\\\\\\\\n",
    " \\hat{\\epsilon}_{ols} :&= y - X\\hat{\\beta}_{ols} \\\\\\\\\n",
    " \\hat{\\sigma}^2_{\\epsilon, ols}:&= \\frac{1}{T-p-1} \\; \\hat{\\epsilon}_{ols}' \\, \\hat{\\epsilon}_{ols} \\\\\\\\\n",
    " \\hat{var}_{ols}[\\beta] :&= \\hat{\\sigma}^2_{\\epsilon,ols}\\, \\times \\, (X' X)^{{}-1}  \\\\\\\\\n",
    "         \\hat{s.e.}_{ols}[\\beta_i] :&= \\sqrt{[\\hat{var}_{ols}[\\beta]]_{[i,i]}} \\qquad \\text{ for } i \\in [0,1,...,p] \\\\\\\\\n",
    " \\hat{t}_{ols}[\\beta_i] :&= \\frac{[\\hat{\\beta}_{ols}]_{[i,1]}}{\\hat{s.e.}_{ols}[\\beta_i]} \\\\\\\\\n",
    " \\hat{R}^2_{ols} :&= 1 - \\frac{(T-p-1) \\times \\hat{\\sigma}^2_{\\epsilon,ols} }{(T-1) \\times \\sigma^2_y }, \\text{where } \\sigma^2_y := \\frac{\\sum_{t=1}^T (y_t-\\bar{y})^2}{T-1}, \\text{where $\\bar{y}$ is the sample mean of $Y$} \\\\\\\\\n",
    "  \\hat{\\bar{R}}^2_{ols} :&= 1 - \\frac{\\hat{\\sigma}^2_{\\epsilon,ols}}{\\sigma^2_y} \\\\\\\\\n",
    "\\end{align*}\n"
   ]
  },
  {
   "cell_type": "markdown",
   "metadata": {},
   "source": [
    "### Deriving Ordinary Least Squares Solution"
   ]
  },
  {
   "cell_type": "markdown",
   "metadata": {},
   "source": [
    "**OLS Objective Function:**\n",
    "\n",
    "\\begin{align*}\n",
    " \\hat{\\beta}_{ols} &:= \\min_{\\beta} \\; (y-X\\beta)' \\, (y-X \\beta),\n",
    "\\end{align*}\n",
    "\n",
    "\n",
    "Notice, the OLS objective function is also called 'L2-minimization', each fitting error gets the same weight in the objective function (a result of the IID assumption on the error). \n",
    "\n",
    "\n",
    " \n",
    "$$\n",
    "\\\\\n",
    "$$\n",
    "\n",
    "**Re-write Objective Function**\n",
    "\n",
    "\\begin{align*}\n",
    " \\min_{{\\beta}} \\;y'y - 2 {\\beta}' \\, X'y + {\\beta}' \\, X'X \\, \\beta. \n",
    "\\end{align*}\n",
    "\n",
    "\n",
    "$$\n",
    "\\\\\n",
    "$$\n",
    "\n",
    "**First-Order Condition (FOC) and Optimal Parameter Estimates:**\n",
    "\n",
    "\\begin{align*}\n",
    "\\hat{\\beta}_{ols} = (X' X)^{{}-1} X' y. \n",
    "\\end{align*}\n",
    "\n",
    "$$\n",
    "\\\\\n",
    "$$\n",
    "\n",
    "Notice, $ (X' X)^{{}-1}$ exists if $X$ has full rank.\n",
    "\n",
    "$$\n",
    "\\\\\n",
    "$$\n",
    "\n",
    "**Optimal Estimate for Variance of Residual:**\n",
    "\n",
    "\\begin{align*}\n",
    "\\hat{\\sigma}^2_{\\epsilon,ols} &= \\frac{1}{T-p-1} \\, (y - X\\hat{\\beta}_{ols})' \\, (y - X\\hat{\\beta}_{ols}),  \n",
    "\\end{align*}\n",
    "\n",
    " \n",
    "$$\n",
    "\\\\\n",
    "$$\n",
    "\n",
    "**Optimal Estimate of Residuals:**\n",
    " \n",
    "\\begin{align*}\n",
    "\\hat{\\epsilon}_{ols} = y - X\\hat{\\beta}_{ols}. \n",
    "\\end{align*}\n",
    "\n",
    "$$ \n",
    "\\\\ \\\\ \n",
    "$$\n",
    "\n",
    "**OLS, if applicable, is Unbiased:**\n",
    "\n",
    "\n",
    "\\begin{align*}\n",
    "\\hat{\\beta}_{ols} &= (X' X)^{{}-1} X' y \\nonumber \\\\ \\\\\n",
    "&=  (X' X)^{{}-1} X' (X\\beta + \\epsilon) \\\\\\\\\n",
    "&= (X' X)^{{}-1} X' X \\beta + (X' X)^{{}-1} X' \\epsilon \\nonumber \\\\\\\\\n",
    "&= \\beta + (X' X)^{{}-1} X' \\epsilon. \n",
    "\\end{align*}\n",
    "\n",
    "$$\n",
    "\\\\\n",
    "$$\n",
    "\n",
    "$$\n",
    "E[\\hat{\\beta}_{ols}] = \\beta   \n",
    "$$\n",
    "\n",
    "\n",
    "because of weak-exogeneity assumption on $X$ which implies $E[X'\\epsilon]=0$.\n",
    "\n",
    "$$\n",
    "\\\\\n",
    "$$\n",
    "\n",
    "**Precision of Parameter Estimates in terms of Variance:** \n",
    "\n",
    "\\begin{align*}\n",
    "\\hat{\\beta}_{ols} - E[\\hat{\\beta}_{ols}] & = (X' X)^{{}-1} X' \\epsilon \\quad \\; \\rightarrow \\\\\\\\\n",
    "var(\\hat{\\beta}_{ols}) &= E\\left[(X' X)^{{}-1} X' \\epsilon \\, \\epsilon' \\, X (X' X)^{{}-1} \\right] \\\\ \\\\\n",
    "&= (X' X)^{{}-1} X' \\; \\sigma^2_{\\epsilon} I \\; X (X' X)^{{}-1} \\\\\\\\\n",
    "&= \\sigma^2_{\\epsilon} \\, \\times \\, (X' X)^{{}-1},\n",
    "\\end{align*}\n",
    "\n",
    "$$\n",
    "\\\\\n",
    "$$\n",
    "\n",
    "$$\n",
    "\\hat{var}_{ols}[\\beta] = \\hat{\\sigma}^2_{\\epsilon,ols}\\, \\times \\, (X' X)^{{}-1}.\n",
    "$$\n",
    "\n",
    "$$ \n",
    "\\\\ \\\\\n",
    "$$\n",
    "\n",
    "**OLS Standard Error:**\n",
    "\n",
    "\n",
    "$$\n",
    "\\hat{s.e.}_{ols}[\\beta_i] := \\sqrt{[\\hat{var}_{ols}[\\beta]]_{[i,i]}},\\quad \\forall i \\in [0,1,...,p]\n",
    "$$\n",
    "\n",
    "Notice, the standard error for $\\hat{\\sigma}^2_{\\epsilon}$ cannot be determined in the OLS set-up.  \n",
    "\n",
    "$$\n",
    "\\\\\n",
    "$$\n",
    "\n",
    "**OLS t-Stat:**\n",
    "\n",
    "\n",
    "$$\n",
    "\\hat{t}_{ols}[\\beta_i] := \\frac{[\\hat{\\beta}_{ols}]_{[i,1]}}{\\hat{s.e.}_{ols}[\\beta_i]}, \\quad \\; \\forall i \\in [0,...,p].\n",
    "$$\n",
    "\n",
    "$$\n",
    "\\\\ \\\\ \n",
    "$$\n",
    "\n",
    "**OLS implied $R^2$:** \n",
    "\n",
    "\\begin{align*}\n",
    "R^2 &:= \\frac{var(X \\beta)}{var(y)} \\\\\\\\\n",
    "& = \\frac{var(y)-var(y-X \\beta)}{var(y)} \\nonumber \\\\\\\\\n",
    "& = 1-\\frac{var(y-X \\beta)}{var(y)} \\\\\\\\\n",
    "&= 1 - \\frac{(y-X\\hat{\\beta})'(y-X\\hat{\\beta})}{(y-\\bar{y})'(y-\\bar{y})}.  \n",
    "\\end{align*}\n",
    "\n",
    "$$\n",
    "\\\\\n",
    "$$\n",
    "\n",
    "**OLS implied Adjusted $R^2$:** \n",
    "\n",
    "\\begin{align*}\n",
    "\\bar{R}^2 &:=   1-R^2 \\times \\frac{T-1}{T-p-1} \\\\\\\\\n",
    "&=  1 - \\frac{\\hat{\\sigma}^2_{\\epsilon,ols}}{\\sigma^2_y},\n",
    "\\end{align*}\n",
    "\n",
    "\n",
    "where \n",
    "\\begin{align*}\n",
    "\\sigma^2_y := \\frac{\\sum_{t=1}^T (y_t-\\bar{y})}{T-1}.\n",
    "\\end{align*}"
   ]
  },
  {
   "cell_type": "markdown",
   "metadata": {},
   "source": [
    "### Generalizing the Concept of OLS"
   ]
  },
  {
   "cell_type": "markdown",
   "metadata": {},
   "source": [
    "You should start any regression work in finance with the notion that regression errors are not iid and that you need to apply some form of GLS estimator.\n",
    "\n",
    "$$\n",
    "\\\\\n",
    "$$\n",
    "\n",
    "**Generalized Least Squres Regression Model** \n",
    "\n",
    "\n",
    "$$\n",
    "y = X\\beta + \\epsilon, \\; E[\\epsilon|X]=0; \\; Var(\\epsilon|X) = \\Sigma \\equiv \\sigma^2 \\Omega\n",
    "$$\n",
    "\n",
    "with $dim(\\Omega) = T\\times T$, $dim(X) = T \\times K$ and $dim(\\beta) = K \\times 1$.  \n",
    "\n",
    "\n",
    "Let's see by example what heteroscedastic, autocorrelated and homoscedastic errors look like.\n",
    "\n",
    "\n",
    "$$\n",
    "\\\\\n",
    "$$\n",
    "\n",
    "**Applying OLS to a GLS Problem Makes Estimates Unbiased and Inefficient:**\n",
    "\n",
    "\n",
    "\\begin{align*}\n",
    "\\hat{\\beta}_{ols} &:= (X'X)^{-1} X'y \\\\\\\\\n",
    "&= \\beta + (X'X)^{-1} X'\\epsilon \\\\\\\\\n",
    "& \\rightarrow \\; E[\\hat{\\beta}_{ols}|X] = \\beta, \n",
    "\\end{align*}\n",
    "\n",
    "for as long as $E[\\epsilon|X]=0$ (i.e. weak exogeneity).\n",
    "\n",
    "$$\n",
    "\\\\\n",
    "$$\n",
    "\n",
    "\\begin{align*}\n",
    "Var(\\hat{\\beta}_{ols}|X) &= E[(\\hat{\\beta}_{ols} - \\beta)^2|X] \\\\\\\\\n",
    "&= E[(X'X)^{-1} X'\\epsilon \\epsilon' X(X'X)^{-1}|X] \\\\\\\\\n",
    "&\\geq  \\sigma^2 (X'X)^{-1}.\n",
    "\\end{align*} \n",
    "\n",
    "Notice, if $\\epsilon|X \\sim N(0,\\Sigma)$, then \n",
    "\n",
    "$$\n",
    "\\hat{\\beta}_{ols} \\sim N \\left(\\beta, \\qquad (X'X)^{-1} X'  \\Sigma X(X'X)^{-1} \\right).\n",
    "$$\n",
    "\n",
    "\n",
    "$$\n",
    "\\\\\n",
    "$$\n",
    "\n",
    "**GLS differentiates two cases:**\n",
    "\n",
    "* Case 1: $\\Sigma$ is known (unrealistic case, useful for didactical purpose)\n",
    "\n",
    "\n",
    "* Case 2: $\\Sigma$ is unknown (realistic case)\n",
    "\n",
    "\n",
    "$$\n",
    "\\\\\n",
    "$$\n",
    "\n",
    "**GLS Estimator for Case 1**\n",
    "\n",
    "\n",
    "If $\\Sigma$ is known, both $\\sigma^2$ and $\\Omega$ are known. Hence,\n",
    "\n",
    "$$\n",
    "\\Omega \\equiv C \\Lambda C',\n",
    "$$\n",
    "\n",
    "where $dim(C) = T \\times T$ matrix of eigenvectors and $dim(\\Lambda) = T\\times T$ diagonal matrix of eigenvalues. \n",
    "\n",
    "$$\n",
    "\\\\\n",
    "$$\n",
    "\n",
    "We define the rotation matrix $P$ \n",
    "\n",
    "$$\n",
    "P' := C \\Lambda^{-1/2}.\n",
    "$$\n",
    "\n",
    "$$\n",
    "\\\\\n",
    "$$\n",
    "\n",
    "Next, we **rotate the GLR equation by P**  \n",
    "\n",
    "\\begin{align*}\n",
    "Py &= P X\\beta + P \\epsilon \\\\\\\\\n",
    "y^* &= X^* \\beta + \\epsilon^*.\n",
    "\\end{align*}\n",
    "\n",
    "To double check the intuition, each element of $y^*$ is a linear combination of the original $y$ elements. The same holds for $X^*$ and $\\epsilon^*$. \n",
    "\n",
    "$$\n",
    "\\\\\n",
    "$$\n",
    "\n",
    "Online lecture confirms that \n",
    "$$\n",
    "Var(\\epsilon^*|X) = \\sigma^2 \\times I.\n",
    "$$\n",
    "\n",
    " \n",
    "\n",
    "Hence, the OLS slope between $y^*$ and $X^*$ is called the GLS estimate of beta. It reads\n",
    "\n",
    "\\begin{align}\n",
    "\\hat{\\beta}_{GLS} &= (X^{*'} X^*)^{-1} (X^{*'} y^*).\n",
    "\\end{align}\n",
    "\n",
    "$$\n",
    "\\\\\n",
    "$$\n",
    "\n",
    "Next, we **rotate back:**\n",
    "\n",
    "\\begin{align}\n",
    "\\hat{\\beta}_{GLS} &=  (X' \\, \\Omega^{-1} \\, X)^{-1} \\, (X' \\, \\Omega^{-1} \\, y).\n",
    "\\end{align}\n",
    "\n",
    " \n",
    "\n",
    "$$\n",
    "\\\\\n",
    "$$\n",
    "\n",
    "Note, as heteroscedasticity and auto-correlation make some regression errors larger than others, OLS misses to properly account for that when learning the slope coefficient. \n",
    "\n",
    "$$\n",
    "\\\\\n",
    "$$\n",
    "\n",
    "Note, if $\\Sigma$ and hence $\\Omega$ are known to the investor, then, the investor can weight each y/X observation by the variance of its regression error. This generalized learning scheme for beta will underweight observations that are generated by larger error variances and overweights observations with relatively small error variance terms.\n",
    "\n",
    "$$\n",
    "\\\\\n",
    "$$\n",
    "\n",
    "Next, **appreciate:** $\\hat{\\beta}_{GLS}$ is the unbiased linear estimator of the GLRM with the highest precision (smallest variance) of\n",
    "$$\n",
    "Var(\\hat{\\beta}_{GLS}|X) = \\sigma^2 (X' \\, \\Omega^{-1} X)^{-1}\n",
    "$$\n",
    "\n",
    "$$\n",
    "\\\\\n",
    "$$\n",
    "\n",
    "$$\n",
    "\\\\\n",
    "$$\n",
    "\n",
    "\n",
    "**GLS Estimator for Case 2**\n",
    "\n",
    "- Implementing  \n",
    "\n",
    "$$\n",
    "\\hat{\\beta}_{GLS} = (X' \\, \\Omega^{-1} \\, X)^{-1} \\, (X' \\, \\Omega^{-1} \\, y)\n",
    "$$\n",
    "\n",
    "is **impossible** if $\\Sigma$ and hence $\\Omega$ **are unknown**. \n",
    "\n",
    "$$\n",
    "\\\\\n",
    "$$\n",
    "\n",
    "- Estimating  additional $T(T+1)/2$ parameters is not feasible.\n",
    "\n",
    "\n",
    "$$\n",
    "\\\\\n",
    "$$\n",
    "\n",
    "Solving the problem using **Feasible GLS:**\n",
    "\n",
    "- run first a OLS solution for $\\beta$\n",
    "- then, calculate the sample covariance matrix $\\Sigma$ (and $\\Omega$)\n",
    "- then, re-run the GLS solution with that sample covariance matrix. \n",
    "- do that for a couple of rounds until convergence.\n",
    "\n",
    "\n",
    "$$\n",
    "\\\\\n",
    "$$\n",
    "\n",
    "Alternatively, **apply OLS and compute robust standard errors:**\n",
    "\n",
    "- this OLS estimator will be unbiased, \n",
    "- consistent \n",
    "- and asymptotically normal, \n",
    "- yet, inefficient. \n",
    "\n",
    "- The robust standard errors are the White (1980) heteroscedastic covariance matrix, or even better, the Newey-West covariance matrix. \n",
    "\n",
    " \n",
    "\n",
    "\n",
    " "
   ]
  },
  {
   "cell_type": "markdown",
   "metadata": {},
   "source": [
    "### Handling Measurement Error in OLS"
   ]
  },
  {
   "cell_type": "markdown",
   "metadata": {},
   "source": [
    "**'Classical errors-in-variables model'**. \n",
    "\n",
    "\n",
    "\\begin{align*}\n",
    "\\underbrace{y}_{T \\times 1} &= \\underbrace{\\beta}_{1 \\times 1} \\underbrace{x}_{T \\times 1} + \\underbrace{\\epsilon}_{T \\times 1}.\n",
    "\\end{align*}\n",
    "\n",
    "- Assume, in data we do not measure $x$ but only $\\tilde{x}$, i.e.\n",
    "\n",
    "$$\n",
    "\\tilde{x} := x + u \\; \\text{with} \\; E[u] = 0; \\; Var(u) = \\sigma^2_u\n",
    "$$\n",
    "\n",
    "\n",
    "For simplicity, we assume\n",
    "\\begin{align*}\n",
    "&  plim \\frac{1}{T} (y'u) = 0 \\\\\\\\\n",
    "& plim \\frac{1}{T} (x'u) = 0 \\\\\\\\\n",
    "& plim \\frac{1}{T} (\\epsilon'u) = 0  \n",
    "\\end{align*}\n",
    " \n",
    "$$\n",
    "\\\\\n",
    "$$\n",
    "\n",
    "Plug the noisy measurement of $x$ into the population:\n",
    "\n",
    "\\begin{align*}\n",
    "y &= \\beta \\underbrace{(\\tilde{x} - u)}_{x} + \\epsilon \\\\\\\\\n",
    "&= \\beta \\tilde{x} + \\tilde{\\epsilon}, \\; \\tilde{\\epsilon} \\equiv \\epsilon - \\beta u.\n",
    "\\end{align*}\n",
    "\n",
    "$$\n",
    "\\\\\n",
    "$$\n",
    "\n",
    "**Endogeneity Bias:** Error term of the regression (here, $\\tilde{\\epsilon}$) is correlated with the regressor, i.e.\n",
    "\n",
    "$$\n",
    "E[\\tilde{x}' \\tilde{\\epsilon}] \\neq 0,\n",
    "$$ \n",
    "\n",
    "$$\n",
    "\\\\\n",
    "$$\n",
    "\n",
    "**Magnitude of Engogeneity Bias:**\n",
    "\n",
    "\\begin{align*}\n",
    "\\hat{\\beta}_{ols} &= \\frac{cov(\\tilde{x},y)}{var(\\tilde{x})} \\\\\n",
    "&= \\frac{cov(x+u, \\beta x + \\epsilon)}{var(x+u)} \\\\\n",
    "&= \\beta \\times \\frac{Var(x)}{Var(x) + Var(u)},\n",
    "\\end{align*}\n",
    "\n",
    "$$\n",
    "\\\\\n",
    "$$\n",
    "\n",
    "Ergo,\n",
    "\n",
    "$$\n",
    "\\hat{\\beta}_{ols} - \\beta = -\\frac{Var(u)}{Var(u) + Var(x)} \\times \\beta.\n",
    "$$\n",
    "\n",
    "$$\n",
    "\\\\\n",
    "$$\n",
    "\n",
    " "
   ]
  },
  {
   "cell_type": "markdown",
   "metadata": {},
   "source": [
    "### Omitted Variable Bias and OLS"
   ]
  },
  {
   "cell_type": "markdown",
   "metadata": {},
   "source": [
    "\n",
    "Suppose  \n",
    "\n",
    "\\begin{align*}\n",
    "y &= \\beta_0 + x_1 \\beta_1 + x_2 \\beta_2 + \\epsilon_y,\\; \\text{with} \\\\\\\\\n",
    "x_2 &= a + b\\times x_1 + \\epsilon_{x,2}, \n",
    "\\end{align*}\n",
    "\n",
    "where both epsilons are iid shocks. \n",
    "\n",
    "\n",
    "$$\n",
    "\\\\\n",
    "$$\n",
    "Re-writing the last two equations \n",
    "\n",
    "\\begin{align*}\n",
    "y&= c + \\gamma x_1 + \\tilde{\\epsilon}_y, \\; \\text{with} \\\\\\\\\n",
    "c & \\equiv \\beta_0 + a\\beta_2 \\\\\\\\\n",
    "\\gamma & \\equiv \\beta_1 + b\\beta_2 \\\\\\\\\n",
    "\\tilde{\\epsilon}_y & \\equiv \\epsilon_y + \\beta_2\\epsilon_{x,2}.\n",
    "\\end{align*}\n",
    "\n",
    "Hence,\n",
    "\n",
    "\\begin{align*}\n",
    "& \\gamma > \\beta_1 \\quad \\text{for} \\quad b\\beta_2 > 0 \\\\\\\\\n",
    "& \\gamma < \\beta_1 \\quad \\text{for} \\quad b\\beta_2 < 0\n",
    "\\end{align*}"
   ]
  },
  {
   "cell_type": "markdown",
   "metadata": {},
   "source": [
    "### Instrumental Variable Approach and OLS"
   ]
  },
  {
   "cell_type": "markdown",
   "metadata": {},
   "source": [
    "\n",
    "The Instrumental Variable Approach can be viewed as a two-stage least squares problem\n",
    "\n",
    "* Stage 1: Project endogenous X-factor onto all exogenous X-factors and $I$\n",
    "\n",
    "\t\\begin{align*}\n",
    "\tX_{\\text{endog}} &= Z \\gamma + \\text{errors}, \\; Z \\equiv [X_{\\text{exog}} \\, I] \\\\\\\\\n",
    "\t\\rightarrow & \\hat{\\gamma}_{ols} = (Z'Z)^{-1} (Z'X_{\\text{endog}}) \\\\\\\\\n",
    "\t\\rightarrow & E[X_{\\text{endog}}| Z] = Z \\, (Z'Z)^{-1} (Z'X_{\\text{endog}}).\n",
    "\t\\end{align*}\n",
    "    \n",
    "    \n",
    "* Stage 2: Regress $y$ onto $X_{exog}$ and $E[X_{\\text{endog}}| Z]$\n",
    "\n",
    "\\begin{align*}\n",
    "\\hat{\\beta}_{ols,2sls} &= (\\tilde{X}' \\tilde{X})^{-1} (\\tilde{X'} y), \\; \\text{with}\\\\\\\\\n",
    "\\tilde{X} & \\equiv [X_{exog} \\quad E[X_{\\text{endog}}| Z]].\n",
    "\\end{align*}\n",
    "\n",
    "\n",
    " "
   ]
  },
  {
   "cell_type": "markdown",
   "metadata": {},
   "source": [
    "# C. Quizzes - Basics"
   ]
  },
  {
   "cell_type": "code",
   "execution_count": 1,
   "metadata": {},
   "outputs": [],
   "source": [
    "from MC_Qs_UnivariateTSModels import *"
   ]
  },
  {
   "cell_type": "markdown",
   "metadata": {},
   "source": [
    "**see ilias**"
   ]
  },
  {
   "cell_type": "markdown",
   "metadata": {},
   "source": [
    "# D. Exercises - Basics "
   ]
  },
  {
   "cell_type": "markdown",
   "metadata": {},
   "source": [
    "## D.1 Linear Regression Model\n",
    "\n",
    "Consider the linear regression model $y = X \\beta + \\epsilon$. Define each term of the equation and explain why it is called a linear model."
   ]
  },
  {
   "cell_type": "markdown",
   "metadata": {},
   "source": [
    "## D.2 MA(1) as LRM\n",
    "\n",
    "Write an MA(1) model as a linear regression problem."
   ]
  },
  {
   "cell_type": "markdown",
   "metadata": {},
   "source": [
    "## D.3 Linear Regression Model\n",
    "\n",
    "Assume a return factor of interest, $f_t$, follows a conditional Gaussian distribution with a one-step ahead  mean of $c + \\phi_f \\times f_{t-1} + \\theta_1 \\times \\epsilon_{t-1}$ and one-step ahead variance $\\sigma^2_{\\epsilon}$, where $c,\\phi,\\theta,  \\sigma^2_{\\epsilon}$ are constants and $\\epsilon$ being a forecast error. Write down the data generating process for $f_t$."
   ]
  },
  {
   "cell_type": "markdown",
   "metadata": {},
   "source": [
    "## D.4 Estimating a LRM\n",
    "\n",
    "Write down a linear regression model. Highlight which parameters are to be estimated and also highlight the information that is used to pin down the parameters."
   ]
  },
  {
   "cell_type": "markdown",
   "metadata": {},
   "source": [
    "## D.5 OLS as Method of Choice\n",
    "\n",
    "Name the necessary data characteristics to ensure that OLS is the best estimation method of choice."
   ]
  },
  {
   "cell_type": "markdown",
   "metadata": {},
   "source": [
    "## D.6 Weak-Exogeneity\n",
    "\n",
    "Explain the concept of 'weak exogeneity'."
   ]
  },
  {
   "cell_type": "markdown",
   "metadata": {},
   "source": [
    "## D.7 Linear Model\n",
    "\n",
    "Explain the concept of 'linearity' assumption in a linear regression model."
   ]
  },
  {
   "cell_type": "markdown",
   "metadata": {},
   "source": [
    "## D.8 Multi-Collinearity\n",
    "\n",
    "Explain the concept and danger of multi-collinearity."
   ]
  },
  {
   "cell_type": "markdown",
   "metadata": {},
   "source": [
    "## D.9 t-Statistics\n",
    "\n",
    "Write down the definition of the t-stat as a function of parameter estimate and sample volatility."
   ]
  },
  {
   "cell_type": "markdown",
   "metadata": {},
   "source": [
    "## D.10 Variance Explained\n",
    "\n",
    "Write down the definition of $R^2$ and adjusted-$R^2$. Highlight similarities and differences of both quantities."
   ]
  },
  {
   "cell_type": "markdown",
   "metadata": {},
   "source": [
    "## D.11 Objective Function OLS\n",
    "\n",
    "State the objective function of Ordinary Least Squares."
   ]
  },
  {
   "cell_type": "markdown",
   "metadata": {},
   "source": [
    "## D.12 Graphical Interpretation of OLS\n",
    "\n",
    "Visualize the objective of Ordinary Least Squares using a two dimensional diagram where you plot the independent variable on the x-axis and the dependent variable on the y-axis."
   ]
  },
  {
   "cell_type": "markdown",
   "metadata": {},
   "source": [
    "## D.13 L2 Minimization\n",
    "\n",
    "Explain the concept of L2 minimization."
   ]
  },
  {
   "cell_type": "markdown",
   "metadata": {},
   "source": [
    "## D.14 Algebra\n",
    "\n",
    "Verify that $(y-X\\beta)'(y-X\\beta)$ equals $y'y - 2\\beta'X'y + \\beta'X'X\\beta$."
   ]
  },
  {
   "cell_type": "markdown",
   "metadata": {},
   "source": [
    "## D.15 Optimization\n",
    "\n",
    "Find the $\\beta$ that minimizes $y'y - 2\\beta'X'y + \\beta'X'X\\beta$."
   ]
  },
  {
   "cell_type": "markdown",
   "metadata": {},
   "source": [
    "## D.16 Innovations\n",
    "\n",
    "Explain how to identify innovations in the response variable, assuming it follows a classical linear regression problem."
   ]
  },
  {
   "cell_type": "markdown",
   "metadata": {},
   "source": [
    "## D.17 Non-IID Errors\n",
    "\n",
    "Explain the meaning of regression errors being non-iid."
   ]
  },
  {
   "cell_type": "markdown",
   "metadata": {},
   "source": [
    "## D.18 IID Errors\n",
    "\n",
    "Assume you observe $T$ observations of $y$ and $x$. The respective $\\epsilon$ vector has dimension $T \\times 1$ with covariance matrix $\\Sigma$. Specify $\\Sigma$ such that $\\epsilon$ is iid."
   ]
  },
  {
   "cell_type": "markdown",
   "metadata": {},
   "source": [
    "## D.19 Heteroscedasticity\n",
    "\n",
    "Provide an investment related example for heteroscedastic regression errors."
   ]
  },
  {
   "cell_type": "markdown",
   "metadata": {},
   "source": [
    "## D.20 Auto-correlated Errors\n",
    "\n",
    "Provide an investment related example for auto-correlated errors."
   ]
  },
  {
   "cell_type": "markdown",
   "metadata": {},
   "source": [
    "## D.21 OLS when you should use GLS\n",
    "\n",
    "Assume you work with a Gaussian Generalized Linear Regression Model. Also assume, you estimate the slope coefficeints using OLS. What do you know about the distributional characteristic of that OLS estiamte?"
   ]
  },
  {
   "cell_type": "markdown",
   "metadata": {},
   "source": [
    "## D.22 Rotation Matrix\n",
    "\n",
    "Explain the components and the meaning of the following rotation matrix $P' = C \\Lambda^{-1/2}$."
   ]
  },
  {
   "cell_type": "markdown",
   "metadata": {},
   "source": [
    "## D.23 GLS Solution\n",
    "\n",
    "Consider the GLS problem with known covariance matrix of regression errors. State the GLS solution for the slope coefficient and ist precision."
   ]
  },
  {
   "cell_type": "markdown",
   "metadata": {},
   "source": [
    "## D.24 GLS Solution\n",
    "\n",
    "Consider the GLS problem with known covariance matrix of regression errors.  State the solution for the slope coefficient when using OLS and when using GLS. Provide intuition for the similarities and differences."
   ]
  },
  {
   "cell_type": "markdown",
   "metadata": {},
   "source": [
    "## D.25 Feasible GLS\n",
    "\n",
    "Explain how to run a FGLS estimation."
   ]
  },
  {
   "cell_type": "markdown",
   "metadata": {},
   "source": [
    "## D.26 OLS vs FGLS\n",
    "\n",
    "Explain similarities and differences of the OLS vs FGLS solution for a Generalized Linear Regression Problem."
   ]
  },
  {
   "cell_type": "markdown",
   "metadata": {},
   "source": [
    "## D.27 Measurement Error\n",
    "\n",
    "Use an investment related example to illustrate what a measurement error is."
   ]
  },
  {
   "cell_type": "code",
   "execution_count": null,
   "metadata": {},
   "outputs": [],
   "source": []
  },
  {
   "cell_type": "markdown",
   "metadata": {},
   "source": [
    "# E. Exercises - Challenging "
   ]
  },
  {
   "cell_type": "markdown",
   "metadata": {},
   "source": [
    "## E.1 Estimating AR(2)\n",
    "\n",
    "Write down the DGP of an AR(2) model. Re-write the AR(2) as a linear regression model. Explain which variables are observed vs unobserved and why that model is called a linear model. "
   ]
  },
  {
   "cell_type": "markdown",
   "metadata": {},
   "source": [
    "## E.2 Estimating ARMA(2,2)\n",
    "\n",
    "Write an ARMA(2,2) model as a linear regression model. Explain which variables are observed vs unobserved and why that model is called a linear model. "
   ]
  },
  {
   "cell_type": "markdown",
   "metadata": {},
   "source": [
    "## E.3 Estimating AR(1)\n",
    "\n",
    "Write down the DGP of a AR(1) model with a constant intercept. Assume you observe a sample of 100 observations. Write down how to estimate the intercept, the slope coefficient, the variance of the error, their respective standard errors, t-stats and adjusted $R^2$."
   ]
  },
  {
   "cell_type": "markdown",
   "metadata": {},
   "source": [
    "## E.4 Unbiasedness of OLS\n",
    "\n",
    "Show that the OLS solution for the slope coefficient of a linear regression problem is unbiased."
   ]
  },
  {
   "cell_type": "markdown",
   "metadata": {},
   "source": [
    "## E.5 Precision of OLS Estimates\n",
    "\n",
    "Start with the assumption that the OLS estimate for $\\beta$ is unbiased. Next, determine the precision of the OLS estimate for $\\beta$."
   ]
  },
  {
   "cell_type": "markdown",
   "metadata": {},
   "source": [
    "## E.6 Generalized Linear Regression Model\n",
    "\n",
    "Write down the GLS model and define each parameter and explain is meaning using investment relevant examples."
   ]
  },
  {
   "cell_type": "markdown",
   "metadata": {},
   "source": [
    "## E.7 Estimating a Generalized Linear Regression Model\n",
    "\n",
    "Write down the GLS regression model. Explain two estimation approaches to estimate the parameters of the model. Characterize the statistical properties of each solution approach."
   ]
  },
  {
   "cell_type": "markdown",
   "metadata": {},
   "source": [
    "## E.8 Errors-in-Variable Model\n",
    "\n",
    "Write down the classical errors-in-variables model. Show that if X is measured with error, the OLS estimate for the slope coefficient will be biased donwards. Also, characterize the size of the bias in terms of the magnitude of beta and the variances  of X and the measurement error."
   ]
  },
  {
   "cell_type": "markdown",
   "metadata": {},
   "source": [
    "## E. 9 Measurement Errors\n",
    "\n",
    "Explain by example why it matters whether the indepedent or dependent variable is measured with error"
   ]
  },
  {
   "cell_type": "markdown",
   "metadata": {},
   "source": [
    "## E.10 Omitted Variable Bias\n",
    "\n",
    "Use a parametric example to explain the concept of an omitted variable bias. Show that the bias can be positive or negative."
   ]
  },
  {
   "cell_type": "markdown",
   "metadata": {},
   "source": [
    "## E.11 Instrumental Variable Approach \n",
    "\n",
    "Explain why the instrumental variable approach can be explained in terms of a two-stage least squares problem."
   ]
  },
  {
   "cell_type": "code",
   "execution_count": null,
   "metadata": {},
   "outputs": [],
   "source": []
  },
  {
   "cell_type": "markdown",
   "metadata": {},
   "source": [
    " # F. Python for Financial Data Analysis\n",
    "\n",
    "Dear students,\n",
    "\n",
    "We approach the time-series modeling part as follows. First, you learn about ARMA models. Second, you learn how to siumulate these. Third, you learn how to estimate these. These estimations will lead us into the machine learning aspects of our course.\n",
    "\n",
    "We are currently learning about how to estimate the parameters and residuals of a linear model. Our application of choice are ARMA models. \n",
    "\n",
    "I provide you with a set of Python applications for estimating linear regression problems. Our application builts on the 3-month government bond yield that you have seen in the Python part on \"statistical arbitrage\". In that application you found out that an AR(3) model for that interest rate has maximum support. Hence, here I do: (i) fit an AR(3)  3-month government bond yield), (ii) extract point estimates for parameters, extract the time-series of the residual and its volatility, (iii) quantify the precision of the parameter estimates in terms of t-stats and standard errors, (iv) quantify how much of interest rate movements are predictable (in-sample). In order to really learn, we will not use packages but rather code everything from scratch.  "
   ]
  },
  {
   "cell_type": "markdown",
   "metadata": {},
   "source": [
    "## F.1 Preparing y and X for Fitting an AR(3)\n",
    "\n",
    "In our example, we want to fit the level of the 3-month government bond yield (monthly data) onto its past 3 lags. Hence,\n",
    "\n",
    "$$\n",
    "y_t = \\text{3-month gov bond yield at time t}\n",
    "$$\n",
    "\n",
    "$$\n",
    "X_t = \\text{constant} | y_{t-1}    |  y_{t-2} | y_{t-3}.\n",
    "$$\n",
    "\n",
    "Note: It is always a good idea to add a constant to the regression.\n",
    "  "
   ]
  },
  {
   "cell_type": "markdown",
   "metadata": {},
   "source": [
    "**Zero**, load packages that we rely upon"
   ]
  },
  {
   "cell_type": "code",
   "execution_count": 2,
   "metadata": {},
   "outputs": [],
   "source": [
    "# econometric work\n",
    "import numpy as np\n",
    "import pandas as pd\n",
    "import datetime as dt\n",
    " \n",
    "\n",
    "# plotting  \n",
    "import matplotlib\n",
    "import matplotlib.pyplot as plt\n",
    "matplotlib.style.use('ggplot')"
   ]
  },
  {
   "cell_type": "markdown",
   "metadata": {},
   "source": [
    "**First**, read-in the data. A panel of interest rates is in the file \"GovBondYields.xls\". It contains monthly gov bond yiels of maturities 3months to 10 years for the period 1954 to 2006."
   ]
  },
  {
   "cell_type": "code",
   "execution_count": 3,
   "metadata": {},
   "outputs": [],
   "source": [
    "# Data: Term Structure of Interest Rates\n",
    "data = pd.read_excel('GovBondYields.xls')"
   ]
  },
  {
   "cell_type": "code",
   "execution_count": 4,
   "metadata": {},
   "outputs": [
    {
     "data": {
      "text/html": [
       "<div>\n",
       "<style scoped>\n",
       "    .dataframe tbody tr th:only-of-type {\n",
       "        vertical-align: middle;\n",
       "    }\n",
       "\n",
       "    .dataframe tbody tr th {\n",
       "        vertical-align: top;\n",
       "    }\n",
       "\n",
       "    .dataframe thead th {\n",
       "        text-align: right;\n",
       "    }\n",
       "</style>\n",
       "<table border=\"1\" class=\"dataframe\">\n",
       "  <thead>\n",
       "    <tr style=\"text-align: right;\">\n",
       "      <th></th>\n",
       "      <th>Date</th>\n",
       "      <th>3</th>\n",
       "      <th>6</th>\n",
       "      <th>12</th>\n",
       "      <th>24</th>\n",
       "      <th>36</th>\n",
       "      <th>60</th>\n",
       "      <th>84</th>\n",
       "      <th>120</th>\n",
       "    </tr>\n",
       "  </thead>\n",
       "  <tbody>\n",
       "    <tr>\n",
       "      <th>0</th>\n",
       "      <td>1954-04-01</td>\n",
       "      <td>0.97</td>\n",
       "      <td>0.940464</td>\n",
       "      <td>0.96</td>\n",
       "      <td>1.20922</td>\n",
       "      <td>1.54</td>\n",
       "      <td>1.87</td>\n",
       "      <td>1.92921</td>\n",
       "      <td>2.29</td>\n",
       "    </tr>\n",
       "  </tbody>\n",
       "</table>\n",
       "</div>"
      ],
      "text/plain": [
       "        Date     3         6    12       24    36    60       84   120\n",
       "0 1954-04-01  0.97  0.940464  0.96  1.20922  1.54  1.87  1.92921  2.29"
      ]
     },
     "execution_count": 4,
     "metadata": {},
     "output_type": "execute_result"
    }
   ],
   "source": [
    "data.head(1) #visualize data"
   ]
  },
  {
   "cell_type": "markdown",
   "metadata": {},
   "source": [
    "We set the column \"Date\" to be the index of the pandas data frame"
   ]
  },
  {
   "cell_type": "code",
   "execution_count": 5,
   "metadata": {},
   "outputs": [],
   "source": [
    "data = data.set_index('Date')"
   ]
  },
  {
   "cell_type": "code",
   "execution_count": 6,
   "metadata": {},
   "outputs": [
    {
     "data": {
      "text/html": [
       "<div>\n",
       "<style scoped>\n",
       "    .dataframe tbody tr th:only-of-type {\n",
       "        vertical-align: middle;\n",
       "    }\n",
       "\n",
       "    .dataframe tbody tr th {\n",
       "        vertical-align: top;\n",
       "    }\n",
       "\n",
       "    .dataframe thead th {\n",
       "        text-align: right;\n",
       "    }\n",
       "</style>\n",
       "<table border=\"1\" class=\"dataframe\">\n",
       "  <thead>\n",
       "    <tr style=\"text-align: right;\">\n",
       "      <th></th>\n",
       "      <th>3</th>\n",
       "      <th>6</th>\n",
       "      <th>12</th>\n",
       "      <th>24</th>\n",
       "      <th>36</th>\n",
       "      <th>60</th>\n",
       "      <th>84</th>\n",
       "      <th>120</th>\n",
       "    </tr>\n",
       "    <tr>\n",
       "      <th>Date</th>\n",
       "      <th></th>\n",
       "      <th></th>\n",
       "      <th></th>\n",
       "      <th></th>\n",
       "      <th></th>\n",
       "      <th></th>\n",
       "      <th></th>\n",
       "      <th></th>\n",
       "    </tr>\n",
       "  </thead>\n",
       "  <tbody>\n",
       "    <tr>\n",
       "      <th>1954-04-01</th>\n",
       "      <td>0.97</td>\n",
       "      <td>0.940464</td>\n",
       "      <td>0.96</td>\n",
       "      <td>1.20922</td>\n",
       "      <td>1.54</td>\n",
       "      <td>1.87</td>\n",
       "      <td>1.92921</td>\n",
       "      <td>2.29</td>\n",
       "    </tr>\n",
       "  </tbody>\n",
       "</table>\n",
       "</div>"
      ],
      "text/plain": [
       "             3         6     12       24    36    60       84    120\n",
       "Date                                                                \n",
       "1954-04-01  0.97  0.940464  0.96  1.20922  1.54  1.87  1.92921  2.29"
      ]
     },
     "execution_count": 6,
     "metadata": {},
     "output_type": "execute_result"
    }
   ],
   "source": [
    "data.head(1) #double check we got what we wanted"
   ]
  },
  {
   "cell_type": "markdown",
   "metadata": {},
   "source": [
    "We call the 3-month gov yield \"r\". The headings suggest that \"3\" stands for 3-month yield"
   ]
  },
  {
   "cell_type": "code",
   "execution_count": 7,
   "metadata": {},
   "outputs": [],
   "source": [
    "r = data.iloc[:,0]"
   ]
  },
  {
   "cell_type": "code",
   "execution_count": 8,
   "metadata": {},
   "outputs": [
    {
     "data": {
      "text/plain": [
       "<matplotlib.axes._subplots.AxesSubplot at 0x7fdcbd245fd0>"
      ]
     },
     "execution_count": 8,
     "metadata": {},
     "output_type": "execute_result"
    },
    {
     "data": {
      "image/png": "[encoded data removed]",
      "text/plain": [
       "<Figure size 432x288 with 1 Axes>"
      ]
     },
     "metadata": {},
     "output_type": "display_data"
    }
   ],
   "source": [
    "r.plot() #double check the units of r and whether the overall shape is what you expected it to be"
   ]
  },
  {
   "cell_type": "markdown",
   "metadata": {},
   "source": [
    "Clearly, $r$ is persistent. A previous exercise found out that an AR(3) has the lowest AIC value. This motivates us to fit an AR(3) to $r$"
   ]
  },
  {
   "cell_type": "markdown",
   "metadata": {},
   "source": [
    "**Second**, we bring the AR(3) for $r$ into the regression notation $y=X \\beta + \\epsilon$"
   ]
  },
  {
   "cell_type": "markdown",
   "metadata": {},
   "source": [
    "The number of time points coincide with"
   ]
  },
  {
   "cell_type": "code",
   "execution_count": 9,
   "metadata": {},
   "outputs": [],
   "source": [
    "T = len(r)"
   ]
  },
  {
   "cell_type": "code",
   "execution_count": 10,
   "metadata": {},
   "outputs": [
    {
     "data": {
      "text/plain": [
       "625"
      ]
     },
     "execution_count": 10,
     "metadata": {},
     "output_type": "execute_result"
    }
   ],
   "source": [
    "T"
   ]
  },
  {
   "cell_type": "markdown",
   "metadata": {},
   "source": [
    "I like to start with specifying $y$. Here, y contains the time $t$ realization of $r$ and maps it onto its last three lags. Hence, the first start value for $r$ can only start in $r[3]$, so that it can be mapped to $r[2], r[1], r[0]$"
   ]
  },
  {
   "cell_type": "code",
   "execution_count": 11,
   "metadata": {},
   "outputs": [],
   "source": [
    "y_df = r[3:T] #_df highlights its a pandas data frame"
   ]
  },
  {
   "cell_type": "markdown",
   "metadata": {},
   "source": [
    "For numerical computations, it might be more convenient to work with numpy matrices. So, I rewrite $y_df$ as a numpy matrix"
   ]
  },
  {
   "cell_type": "code",
   "execution_count": 12,
   "metadata": {},
   "outputs": [],
   "source": [
    "y = np.matrix(y_df)"
   ]
  },
  {
   "cell_type": "code",
   "execution_count": 13,
   "metadata": {},
   "outputs": [
    {
     "data": {
      "text/plain": [
       "(1, 622)"
      ]
     },
     "execution_count": 13,
     "metadata": {},
     "output_type": "execute_result"
    }
   ],
   "source": [
    "y.shape #double check the dimension of y"
   ]
  },
  {
   "cell_type": "markdown",
   "metadata": {},
   "source": [
    "I want $y$ to be a column vector (here as a matrix variable) with dimension $(T-3) \\times 1$. So, I reshape it"
   ]
  },
  {
   "cell_type": "code",
   "execution_count": 14,
   "metadata": {},
   "outputs": [],
   "source": [
    "y =  y.reshape(T-3,1) # nice looking column vector (in matrix format)"
   ]
  },
  {
   "cell_type": "code",
   "execution_count": 15,
   "metadata": {},
   "outputs": [
    {
     "data": {
      "text/plain": [
       "622"
      ]
     },
     "execution_count": 15,
     "metadata": {},
     "output_type": "execute_result"
    }
   ],
   "source": [
    "len(y) # double check length"
   ]
  },
  {
   "cell_type": "markdown",
   "metadata": {},
   "source": [
    "Now, we create $X$, the explanatory variables. I like to start with the lag 1 variable. "
   ]
  },
  {
   "cell_type": "code",
   "execution_count": 16,
   "metadata": {},
   "outputs": [],
   "source": [
    "rLag1 = r[2:T-1]"
   ]
  },
  {
   "cell_type": "code",
   "execution_count": 17,
   "metadata": {},
   "outputs": [
    {
     "data": {
      "text/plain": [
       "622"
      ]
     },
     "execution_count": 17,
     "metadata": {},
     "output_type": "execute_result"
    }
   ],
   "source": [
    "len(rLag1) # double check the length"
   ]
  },
  {
   "cell_type": "markdown",
   "metadata": {},
   "source": [
    "Then, I move on to lag 2"
   ]
  },
  {
   "cell_type": "code",
   "execution_count": 18,
   "metadata": {},
   "outputs": [],
   "source": [
    "rLag2 = r[1:T-2]"
   ]
  },
  {
   "cell_type": "code",
   "execution_count": 19,
   "metadata": {},
   "outputs": [
    {
     "data": {
      "text/plain": [
       "622"
      ]
     },
     "execution_count": 19,
     "metadata": {},
     "output_type": "execute_result"
    }
   ],
   "source": [
    "len(rLag2) # double check the length"
   ]
  },
  {
   "cell_type": "markdown",
   "metadata": {},
   "source": [
    "Then, lag 3"
   ]
  },
  {
   "cell_type": "code",
   "execution_count": 20,
   "metadata": {},
   "outputs": [],
   "source": [
    "rLag3 = r[0:T-3]"
   ]
  },
  {
   "cell_type": "code",
   "execution_count": 21,
   "metadata": {},
   "outputs": [
    {
     "data": {
      "text/plain": [
       "622"
      ]
     },
     "execution_count": 21,
     "metadata": {},
     "output_type": "execute_result"
    }
   ],
   "source": [
    "len(rLag3) #double check the length"
   ]
  },
  {
   "cell_type": "markdown",
   "metadata": {},
   "source": [
    "Now, we put a constant and these three lags into a matrix $X$. We use the logic from above. We create $X$ as a pandas data frame and later over-write it as a numpy matrix."
   ]
  },
  {
   "cell_type": "markdown",
   "metadata": {},
   "source": [
    "Our regression constant is called \"ones\""
   ]
  },
  {
   "cell_type": "code",
   "execution_count": 22,
   "metadata": {},
   "outputs": [],
   "source": [
    "ones = np.ones(T-3)"
   ]
  },
  {
   "cell_type": "markdown",
   "metadata": {},
   "source": [
    "We initialize $X$_df with the constant"
   ]
  },
  {
   "cell_type": "code",
   "execution_count": 23,
   "metadata": {},
   "outputs": [],
   "source": [
    "X_df = pd.DataFrame(ones)"
   ]
  },
  {
   "cell_type": "markdown",
   "metadata": {},
   "source": [
    "We add the values of the pandas data frame for all three lag variables to $X$_df"
   ]
  },
  {
   "cell_type": "code",
   "execution_count": 24,
   "metadata": {},
   "outputs": [],
   "source": [
    "X_df[\"rLag1\"] = rLag1.values\n",
    "X_df[\"rLag2\"] = rLag2.values\n",
    "X_df[\"rLag3\"] = rLag3.values"
   ]
  },
  {
   "cell_type": "markdown",
   "metadata": {},
   "source": [
    "Now, we reformat $X$_df as a numpy matrix"
   ]
  },
  {
   "cell_type": "code",
   "execution_count": 25,
   "metadata": {},
   "outputs": [],
   "source": [
    "X             = np.matrix(X_df)"
   ]
  },
  {
   "cell_type": "code",
   "execution_count": 26,
   "metadata": {},
   "outputs": [
    {
     "data": {
      "text/plain": [
       "(622, 4)"
      ]
     },
     "execution_count": 26,
     "metadata": {},
     "output_type": "execute_result"
    }
   ],
   "source": [
    "X.shape #double check it has the dimensions you expected"
   ]
  },
  {
   "cell_type": "markdown",
   "metadata": {},
   "source": [
    "**Third**, now, you can give $y$ and $X$ to a regression package of your choice to fit y onto X. \n",
    "\n",
    "I continue below with coding up my own package. I use the notation from my lecture above."
   ]
  },
  {
   "cell_type": "markdown",
   "metadata": {},
   "source": [
    "## F.2 Find Point Estimates and Volatility of Residual for AR(3) Model on the 3-month Gov Yield"
   ]
  },
  {
   "cell_type": "markdown",
   "metadata": {},
   "source": [
    "**First**, we collect the key formula from above\n",
    "\n",
    "\\begin{align*}\n",
    " \\hat{\\beta}_{ols} :&= (X' X)^{{}-1} X' y \\\\\\\\\n",
    " \\hat{\\epsilon}_{ols} :&= y - X\\hat{\\beta}_{ols} \\\\\\\\\n",
    " \\end{align*}\n"
   ]
  },
  {
   "cell_type": "markdown",
   "metadata": {},
   "source": [
    "**Second**, I choose a \"divide an conquer strategy\". I devide the math formula into sub problem. And, I use notation that is self expanalatory given the above latex formula\n",
    "\n",
    "I start with $(X'X)^{-1}$"
   ]
  },
  {
   "cell_type": "code",
   "execution_count": 27,
   "metadata": {},
   "outputs": [],
   "source": [
    "xpxi = (X.getT() * X).getI() #it is OK to use a package for transpose and inversion. "
   ]
  },
  {
   "cell_type": "markdown",
   "metadata": {},
   "source": [
    "For follow up work, I recommend to always flag an inversion. That is were numerical issues can cook up. My preferred way is to check that the eigenvalues of $X'X$ are positive. This ensures the term is invertible. I talk about eigenvalues and principal components in the master class"
   ]
  },
  {
   "cell_type": "code",
   "execution_count": 28,
   "metadata": {},
   "outputs": [
    {
     "data": {
      "text/plain": [
       "matrix([[ 0.00721336, -0.00090918,  0.0005602 , -0.0007273 ],\n",
       "        [-0.00090918,  0.00887018, -0.01174648,  0.00304389],\n",
       "        [ 0.0005602 , -0.01174648,  0.02337232, -0.01173236],\n",
       "        [-0.0007273 ,  0.00304389, -0.01173236,  0.00883406]])"
      ]
     },
     "execution_count": 28,
     "metadata": {},
     "output_type": "execute_result"
    }
   ],
   "source": [
    "xpxi #at least the matrix is non-NAN"
   ]
  },
  {
   "cell_type": "markdown",
   "metadata": {},
   "source": [
    "**Third**, Now I continue to compute the OLS estimate for $\\beta$"
   ]
  },
  {
   "cell_type": "code",
   "execution_count": 29,
   "metadata": {},
   "outputs": [],
   "source": [
    "beta_ols = xpxi * (X.getT() * y) #const, rLag1, rLag2, rLag3"
   ]
  },
  {
   "cell_type": "markdown",
   "metadata": {},
   "source": [
    "I am so excited to see whether the coefficients are close to 0 or close to 1, "
   ]
  },
  {
   "cell_type": "code",
   "execution_count": 30,
   "metadata": {},
   "outputs": [
    {
     "data": {
      "text/plain": [
       "matrix([[ 0.08678418],\n",
       "        [ 1.39377645],\n",
       "        [-0.61199535],\n",
       "        [ 0.20253518]])"
      ]
     },
     "execution_count": 30,
     "metadata": {},
     "output_type": "execute_result"
    }
   ],
   "source": [
    "beta_ols #huuh: rLag1 has a loading of 1.4"
   ]
  },
  {
   "cell_type": "markdown",
   "metadata": {},
   "source": [
    "Remember, an AR(1) with loading of equal or larger than 1 says that the data is non-stationary. In our AR(3) application, the loading on lag1 is larger than 1, yet, at least one of the other lags has a negative loading. We can hence not say that data is non-stationary. For that we would have to run a formal stationarity test. Yet, as a theory oriented person, I treat interest rates as a stationary quantity, which I know is just very persistent."
   ]
  },
  {
   "cell_type": "markdown",
   "metadata": {},
   "source": [
    "**Fourth**, often overlooked, hence, I highlight it, get the respective time series of the residuals. In economic terms, this teaches you about the realized shocks to interest rates. Get back to me with suggestions of what could be the reason for interest rate shocks being non zero (!)"
   ]
  },
  {
   "cell_type": "code",
   "execution_count": 31,
   "metadata": {},
   "outputs": [],
   "source": [
    "eps_ols = y - X * beta_ols #ensure the X and beta_ols dimensions add up and match dim(y)"
   ]
  },
  {
   "cell_type": "code",
   "execution_count": 32,
   "metadata": {},
   "outputs": [
    {
     "data": {
      "text/plain": [
       "[<matplotlib.lines.Line2D at 0x7fdcbd53bad0>]"
      ]
     },
     "execution_count": 32,
     "metadata": {},
     "output_type": "execute_result"
    },
    {
     "data": {
      "image/png": "[encoded data removed]",
      "text/plain": [
       "<Figure size 432x288 with 1 Axes>"
      ]
     },
     "metadata": {},
     "output_type": "display_data"
    }
   ],
   "source": [
    "plt.plot(y_df.index, eps_ols)"
   ]
  },
  {
   "cell_type": "markdown",
   "metadata": {},
   "source": [
    "**Fifth**, looking at the results and connecting it to what really happened in the world...\n",
    "\n",
    "Wow, the earthquake like movements around 1980s are NO statistical artefact. The U.S. economy had troubles around that time. Inflation moved in the late 1970s to 16\\%. The Fed Chairman Paul Volcker raised the short term policy rate (Federal funds rate) to levels of 16\\%, which created a recession. Then, he lowered it again, before, he again raised it to cause a second recession. In the end, inflation came back to levels of around 4-2\\% and the aftermath is called the period of the Great Moderation. You see that in the interest rate shocks. Later in the course, you will also learn, why you can extract from such a figure that the volatility of the residual is most likely NOT a constant, but time-varying. You even learn here already that volatility clusters. You see that in the picture. Around 1980, there were huge interest rate shocks, likely because of a hightend standard deviation (vol), while afterwards, the vol must have been way smaller, as we do not observe large shocks in that period of the Great Moderation.\n",
    "\n",
    "Isn't it fascinating what a $\\epsilon$ can tell you about history(!)"
   ]
  },
  {
   "cell_type": "markdown",
   "metadata": {},
   "source": [
    "**Sixth**, finally, we compute the volatility of the residual (interest rate shock). The respective formula from class  is\n",
    "\n",
    "$$\n",
    "\\hat{\\sigma}^2_{\\epsilon, ols}:= \\frac{1}{T-p-1} \\; \\hat{\\epsilon}_{ols}' \\, \\hat{\\epsilon}_{ols} \n",
    "$$"
   ]
  },
  {
   "cell_type": "code",
   "execution_count": 33,
   "metadata": {},
   "outputs": [],
   "source": [
    "var_eps_ols = 1 / (len(y) - 3 - 1) * (eps_ols.getT() * eps_ols) \n",
    "\n",
    "vol_eps_ols = np.sqrt(var_eps_ols) #unconditional vol of residual, unconditional vol of interest rate shock"
   ]
  },
  {
   "cell_type": "markdown",
   "metadata": {},
   "source": [
    "Make sure you understands the units of the vol, i.e. is it in decimals or percent, is it annualized or in monthly units?"
   ]
  },
  {
   "cell_type": "code",
   "execution_count": 34,
   "metadata": {},
   "outputs": [
    {
     "data": {
      "text/plain": [
       "0.41818919641730506"
      ]
     },
     "execution_count": 34,
     "metadata": {},
     "output_type": "execute_result"
    }
   ],
   "source": [
    "vol_eps_ols[0,0] #what are the units?"
   ]
  },
  {
   "cell_type": "markdown",
   "metadata": {},
   "source": [
    "As for the units, $\\epsilon$ has the units of $y$ and $X$. The latter were annualized and in percent. Hence, vol_eps_ols is annualized and in percent. \n",
    "\n",
    "It says that the interest rate shock has an annualized volatility of 0.42\\%."
   ]
  },
  {
   "cell_type": "markdown",
   "metadata": {},
   "source": [
    "## F.3 Quantify the Precision of the Parameter Estimates in Terms of t-stats and Standard Errors"
   ]
  },
  {
   "cell_type": "markdown",
   "metadata": {},
   "source": [
    "**First**, the key question here is: \"how informative was the data for $\\beta$\"? This is the same question than asking \"how large are the standard errors on the point estimate of $\\beta$?\". "
   ]
  },
  {
   "cell_type": "markdown",
   "metadata": {},
   "source": [
    "**Second**, we collect the necessary OLS formula for the standard error. Note, we first compute the variance matrix of the beta estimates, which quantifies the uncertainty around the point estimate. Then, we compute the standard error out of the matrix. The latter is then transformed into the t-statistic...\n",
    "\n",
    "\\begin{align*}\n",
    "\\hat{var}_{ols}[\\beta] :&= \\hat{\\sigma}^2_{\\epsilon,ols}\\, \\times \\, (X' X)^{{}-1}  \\\\\\\\\n",
    " \\hat{s.e.}_{ols}[\\beta_i] :&= \\sqrt{[\\hat{var}_{ols}[\\beta]]_{[i,i]}} \\text{ for } i \\in [0,1,...,p] \\\\\\\\\n",
    " \\hat{t}_{ols}[\\beta_i] :&= \\frac{[\\hat{\\beta}_{ols}]_{[i,1]}}{\\hat{s.e.}_{ols}[\\beta_i]} \\\\\\\\\n",
    "\\end{align*}"
   ]
  },
  {
   "cell_type": "markdown",
   "metadata": {},
   "source": [
    "**Third**, I implement the above formulas in a \"divide and conquer strategy\". I start with what I call a bit loosely the precision matrix"
   ]
  },
  {
   "cell_type": "code",
   "execution_count": 35,
   "metadata": {},
   "outputs": [],
   "source": [
    "varMatrix_beta = var_eps_ols[0,0] * xpxi # its a full matrix."
   ]
  },
  {
   "cell_type": "code",
   "execution_count": 36,
   "metadata": {},
   "outputs": [
    {
     "data": {
      "text/plain": [
       "matrix([[ 1.26148817e-03, -1.59000101e-04,  9.79684831e-05,\n",
       "         -1.27191390e-04],\n",
       "        [-1.59000101e-04,  1.55123702e-03, -2.05425040e-03,\n",
       "          5.32321828e-04],\n",
       "        [ 9.79684831e-05, -2.05425040e-03,  4.08740340e-03,\n",
       "         -2.05178122e-03],\n",
       "        [-1.27191390e-04,  5.32321828e-04, -2.05178122e-03,\n",
       "          1.54492053e-03]])"
      ]
     },
     "execution_count": 36,
     "metadata": {},
     "output_type": "execute_result"
    }
   ],
   "source": [
    "varMatrix_beta"
   ]
  },
  {
   "cell_type": "markdown",
   "metadata": {},
   "source": [
    "I really need only the diagonal elements for the standard errors. Here, it goes"
   ]
  },
  {
   "cell_type": "code",
   "execution_count": 37,
   "metadata": {},
   "outputs": [],
   "source": [
    "stdErrors_beta_ols = np.sqrt(varMatrix_beta.diagonal())"
   ]
  },
  {
   "cell_type": "code",
   "execution_count": 38,
   "metadata": {},
   "outputs": [
    {
     "data": {
      "text/plain": [
       "matrix([[0.03551743, 0.03938575, 0.0639328 , 0.03930548]])"
      ]
     },
     "execution_count": 38,
     "metadata": {},
     "output_type": "execute_result"
    }
   ],
   "source": [
    "stdErrors_beta_ols"
   ]
  },
  {
   "cell_type": "markdown",
   "metadata": {},
   "source": [
    "The standard errors are only meaningful in relation to the magnitude of the point estimates. Hence, we standardize these and obtain the t-statistic.\n",
    "\n",
    "Before we devide or multiply quantities, we want to ensure that the dimensions are as we expect them to be:"
   ]
  },
  {
   "cell_type": "code",
   "execution_count": 39,
   "metadata": {},
   "outputs": [
    {
     "data": {
      "text/plain": [
       "(4, 1)"
      ]
     },
     "execution_count": 39,
     "metadata": {},
     "output_type": "execute_result"
    }
   ],
   "source": [
    "beta_ols.shape #4x1 vector"
   ]
  },
  {
   "cell_type": "code",
   "execution_count": 40,
   "metadata": {},
   "outputs": [
    {
     "data": {
      "text/plain": [
       "(1, 4)"
      ]
     },
     "execution_count": 40,
     "metadata": {},
     "output_type": "execute_result"
    }
   ],
   "source": [
    "stdErrors_beta_ols.shape #aha! The dimension is not as expected"
   ]
  },
  {
   "cell_type": "markdown",
   "metadata": {},
   "source": [
    "So, we first have to reshape stdError_beta_ols to a $4 \\times 1$ columnvector"
   ]
  },
  {
   "cell_type": "code",
   "execution_count": 41,
   "metadata": {},
   "outputs": [],
   "source": [
    "stdErrors_beta_ols = stdErrors_beta_ols.reshape(4,1)"
   ]
  },
  {
   "cell_type": "code",
   "execution_count": 42,
   "metadata": {},
   "outputs": [
    {
     "data": {
      "text/plain": [
       "(4, 1)"
      ]
     },
     "execution_count": 42,
     "metadata": {},
     "output_type": "execute_result"
    }
   ],
   "source": [
    "stdErrors_beta_ols.shape #nice! now we got the dimension we need"
   ]
  },
  {
   "cell_type": "markdown",
   "metadata": {},
   "source": [
    "So, now, we can run an element-wise division to get the t-stat for each parameter estimate"
   ]
  },
  {
   "cell_type": "code",
   "execution_count": 43,
   "metadata": {},
   "outputs": [],
   "source": [
    "tStat_beta_ols = beta_ols / stdErrors_beta_ols"
   ]
  },
  {
   "cell_type": "code",
   "execution_count": 44,
   "metadata": {},
   "outputs": [
    {
     "data": {
      "text/plain": [
       "matrix([[ 2.44342479],\n",
       "        [35.3878389 ],\n",
       "        [-9.57247795],\n",
       "        [ 5.1528489 ]])"
      ]
     },
     "execution_count": 44,
     "metadata": {},
     "output_type": "execute_result"
    }
   ],
   "source": [
    "tStat_beta_ols #nice! highly significant parameters. That is what a data scientist wants"
   ]
  },
  {
   "cell_type": "markdown",
   "metadata": {},
   "source": [
    "**Fourth**, interpretation: The lags are highly significant. The most significant one is Lag1. That is not surprising and also the reason why an AR(1) would capture already most of the auto correlation in interest rates. "
   ]
  },
  {
   "cell_type": "markdown",
   "metadata": {},
   "source": [
    "**Fifth**, one thing that is missing! Check whether the residuals are iid. One way to do that is to fit an AR(1) to the residuals and check whether the loading on the lag parameter is insignificant. I leave that to you as an exercise....\n",
    "\n",
    "Also, later in the course, you understand why you could repeat this regression for the squared of the interest rate shocks. In fact, this will be a test whether the volatility of the epsilon shock is constant. It needs to be constant for an iid shock. ... I am awaiting your questions!"
   ]
  },
  {
   "cell_type": "markdown",
   "metadata": {},
   "source": [
    "## F.4 Quantify How Much of Interest Rate Movements are Predictable (in-sample)"
   ]
  },
  {
   "cell_type": "markdown",
   "metadata": {},
   "source": [
    "There are different ways to approach this question. I prefer to look at the $R^2$ and adjusted $R^2$. \n",
    "\n",
    "Let's collect the appropriate formulas\n",
    "\n",
    "\\begin{align*}\n",
    "\\hat{R}^2_{ols} :&= 1 - \\frac{(T-p-1) \\times \\hat{\\sigma}^2_{\\epsilon,ols} }{(T-1) \\times \\sigma^2_y }, \\text{where } \\sigma^2_y := \\frac{\\sum_{t=1}^T (y_t-\\bar{y})^2}{T-1}, \\text{where $\\bar{y}$ is the sample mean of $Y$} \\\\\\\\\n",
    "  \\hat{\\bar{R}}^2_{ols} :&= 1 - \\frac{\\hat{\\sigma}^2_{\\epsilon,ols}}{\\sigma^2_y} \\\\\\\\\n",
    "\\end{align*}"
   ]
  },
  {
   "cell_type": "markdown",
   "metadata": {},
   "source": [
    "I will go directly for the adjusted $R^2$ as we are in a multivariate setting. So, I simply subtract the ratio of unexplained variance over total variance from 1. Lets do that..."
   ]
  },
  {
   "cell_type": "code",
   "execution_count": 45,
   "metadata": {},
   "outputs": [],
   "source": [
    "y_dm =  y-y.mean() #622x1, demeand y"
   ]
  },
  {
   "cell_type": "markdown",
   "metadata": {},
   "source": [
    "We sum up the second power of the last term via a multiplication"
   ]
  },
  {
   "cell_type": "code",
   "execution_count": 46,
   "metadata": {},
   "outputs": [],
   "source": [
    "y2_dm = y_dm.T * y_dm #still a numpy matrix"
   ]
  },
  {
   "cell_type": "markdown",
   "metadata": {},
   "source": [
    "Finally, we divide the latter by $T-1$ to get the variance of $y$"
   ]
  },
  {
   "cell_type": "code",
   "execution_count": 47,
   "metadata": {},
   "outputs": [],
   "source": [
    "var_y = y2_dm  / (T-1)"
   ]
  },
  {
   "cell_type": "markdown",
   "metadata": {},
   "source": [
    "The adjusted R2 comes out as"
   ]
  },
  {
   "cell_type": "code",
   "execution_count": 48,
   "metadata": {},
   "outputs": [],
   "source": [
    "adjR2_ols = 1 - var_eps_ols[0,0] / var_y[0,0]"
   ]
  },
  {
   "cell_type": "code",
   "execution_count": 49,
   "metadata": {},
   "outputs": [
    {
     "data": {
      "text/plain": [
       "0.977722115777261"
      ]
     },
     "execution_count": 49,
     "metadata": {},
     "output_type": "execute_result"
    }
   ],
   "source": [
    "adjR2_ols"
   ]
  },
  {
   "cell_type": "markdown",
   "metadata": {},
   "source": [
    "Nearly 98\\% in-sample predictability for monthly variations of the 3-month gov bond yield. \n",
    "\n",
    "At the Chair be played aroudn predicting interest rates using nonlinear regressions, which we call nowadays neural networks. The result was that beating a linear model for interest rates is nearly impossible. The high R2 is one indication for that."
   ]
  },
  {
   "cell_type": "code",
   "execution_count": null,
   "metadata": {},
   "outputs": [],
   "source": []
  }
 ],
 "metadata": {
  "kernelspec": {
   "display_name": "Python 3",
   "language": "python",
   "name": "python3"
  },
  "language_info": {
   "codemirror_mode": {
    "name": "ipython",
    "version": 3
   },
   "file_extension": ".py",
   "mimetype": "text/x-python",
   "name": "python",
   "nbconvert_exporter": "python",
   "pygments_lexer": "ipython3",
   "version": "3.7.6"
  }
 },
 "nbformat": 4,
 "nbformat_minor": 4
}