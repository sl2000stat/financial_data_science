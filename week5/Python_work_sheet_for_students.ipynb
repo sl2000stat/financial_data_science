{
 "cells": [
  {
   "cell_type": "markdown",
   "metadata": {},
   "source": [
    "# Task 1: CAPM - Object-Oriented\n",
    "\n",
    "Write a class called \"CAPM\". The members of the class are: alpha, beta, t-stat of alpha, t-stat of beta, adjusted R^2. The member function \"fit_SML(.)\" uses the GLS package of the statsmodels to fit the CAPM SML and to pin down alpha, beta, t-stat of alpha, t-stat of beta, adjusted R^2. Also, store the regression package's summary table as a private member of the CAPM class. Let member function \"display_Regression_Table(.)\" print out the regression summary table.\n",
    "\n",
    "Test your class on an asset of your choice. How much of the asset's risk is diversifiable and how much is systematatic? Did the asset earn a significant alpha? How large has been the annualized Sharpe Ratio? Compare the average realized return with the SML-implied expected return."
   ]
  },
  {
   "cell_type": "code",
   "execution_count": 106,
   "outputs": [],
   "source": [
    "# needed libraries\n",
    "import numpy as np\n",
    "import pandas as pd\n",
    "import statsmodels.formula.api as sm\n",
    "import matplotlib.pyplot as plt"
   ],
   "metadata": {
    "collapsed": false,
    "pycharm": {
     "name": "#%%\n"
    }
   }
  },
  {
   "cell_type": "code",
   "execution_count": 107,
   "outputs": [],
   "source": [
    "class CAPM():\n",
    "\n",
    "    def __init__(self,df):\n",
    "        self.df = df\n",
    "        return None\n",
    "\n",
    "    def fit_SML(self):\n",
    "\n",
    "        # create the model\n",
    "        model = sm.gls(formula='log_ret_exc_apple ~ log_ret_exc_sp500', data=self.df)\n",
    "\n",
    "        # fit the model\n",
    "        results = model.fit()\n",
    "\n",
    "        # get reuslts\n",
    "        self.alpha = results.params[0]\n",
    "        self.beta = results.params[1]\n",
    "\n",
    "        self.t_stat_alpha = results.tvalues[0]\n",
    "        self.t_stat_beta = results.tvalues[1]\n",
    "\n",
    "        self.alpha_st = results.bse[0]\n",
    "        self.beta_st = results.bse[1]\n",
    "\n",
    "        self.adjusted_R = results.rsquared\n",
    "        self.__summary_table = results.summary()\n",
    "\n",
    "        self.residuals = results.resid\n",
    "\n",
    "        self.cov_matrix = results.cov_HC0\n",
    "\n",
    "        # print(results.cov_HC0)\n",
    "        # print(results.HC0_se)\n",
    "\n",
    "        return None\n",
    "\n",
    "    def display_Regression_Table(self):\n",
    "        print(self.__summary_table)\n",
    "        return None"
   ],
   "metadata": {
    "collapsed": false,
    "pycharm": {
     "name": "#%%\n"
    }
   }
  },
  {
   "cell_type": "code",
   "execution_count": 108,
   "outputs": [],
   "source": [
    "def set_time_index(df, timecolname):\n",
    "\n",
    "    \"\"\"This function sets the time col as index and makes sure it's a datetime object.\n",
    "\n",
    "    :param df: full Dataframe\n",
    "    :param timecolname: colname of the column that has time information in it\n",
    "    :return: full Dataframe\n",
    "    \"\"\"\n",
    "    # take the time column and convert it to a datetime object\n",
    "    df[timecolname] = pd.to_datetime(df[timecolname])\n",
    "\n",
    "    # set the index of the DF as the time Column\n",
    "    df.set_index(timecolname, inplace = True)\n",
    "\n",
    "    return df"
   ],
   "metadata": {
    "collapsed": false,
    "pycharm": {
     "name": "#%%\n"
    }
   }
  },
  {
   "cell_type": "code",
   "execution_count": 109,
   "outputs": [
    {
     "name": "stdout",
     "output_type": "stream",
     "text": [
      "               Close\n",
      "Date                \n",
      "2004-01-02  0.327318\n",
      "2004-01-05  0.341008\n",
      "2004-01-06  0.339777\n",
      "2004-01-07  0.347468\n",
      "2004-01-08  0.359312\n",
      "                  Close\n",
      "Date                   \n",
      "2004-01-02  1108.479980\n",
      "2004-01-05  1122.219971\n",
      "2004-01-06  1123.670044\n",
      "2004-01-07  1126.329956\n",
      "2004-01-08  1131.920044\n",
      "               yld\n",
      "Date              \n",
      "2004-01-02  0.0101\n",
      "2004-01-05  0.0097\n",
      "2004-01-06  0.0092\n",
      "2004-01-07  0.0094\n",
      "2004-01-08  0.0099\n"
     ]
    }
   ],
   "source": [
    "# import the needed data\n",
    "df_apple = pd.read_csv(\"apple.csv\", header = 0, sep = \",\")\n",
    "df_apple = set_time_index(df_apple,\"Date\")\n",
    "print(df_apple.head())\n",
    "\n",
    "df_sp500 = pd.read_csv(\"sp500.csv\", header = 0, sep = \",\")\n",
    "df_sp500 = set_time_index(df_sp500,\"Date\")\n",
    "print(df_sp500.head())\n",
    "\n",
    "\n",
    "df_riskf_annual = pd.read_csv(\"riskfree.csv\", header = 0, sep = \",\")\n",
    "df_riskf_annual = set_time_index(df_riskf_annual,\"Date\")\n",
    "print(df_riskf_annual.head())\n"
   ],
   "metadata": {
    "collapsed": false,
    "pycharm": {
     "name": "#%%\n"
    }
   }
  },
  {
   "cell_type": "code",
   "execution_count": 110,
   "outputs": [
    {
     "name": "stdout",
     "output_type": "stream",
     "text": [
      "               yld  yld_daily\n",
      "Date                         \n",
      "2004-01-02  0.0101   0.000040\n",
      "2004-01-05  0.0097   0.000038\n",
      "2004-01-06  0.0092   0.000037\n",
      "2004-01-07  0.0094   0.000037\n",
      "2004-01-08  0.0099   0.000039\n",
      "               Close   log_ret  log_ret_exc\n",
      "Date                                       \n",
      "2004-01-02  0.327318       NaN          NaN\n",
      "2004-01-05  0.341008  0.040973     0.040934\n",
      "2004-01-06  0.339777 -0.003616    -0.003653\n",
      "2004-01-07  0.347468  0.022383     0.022346\n",
      "2004-01-08  0.359312  0.033518     0.033479\n"
     ]
    },
    {
     "data": {
      "text/plain": "<Figure size 432x288 with 1 Axes>",
      "image/png": "[encoded data removed]"
     },
     "metadata": {
      "needs_background": "light"
     },
     "output_type": "display_data"
    },
    {
     "name": "stdout",
     "output_type": "stream",
     "text": [
      "                  Close   log_ret  log_ret_exc\n",
      "Date                                          \n",
      "2004-01-02  1108.479980       NaN          NaN\n",
      "2004-01-05  1122.219971  0.012319     0.012281\n",
      "2004-01-06  1123.670044  0.001291     0.001255\n",
      "2004-01-07  1126.329956  0.002364     0.002327\n",
      "2004-01-08  1131.920044  0.004951     0.004912\n",
      "            log_ret_exc_apple  log_ret_exc_sp500\n",
      "Date                                            \n",
      "2004-01-02                NaN                NaN\n",
      "2004-01-05           0.040934           0.012281\n",
      "2004-01-06          -0.003653           0.001255\n",
      "2004-01-07           0.022346           0.002327\n",
      "2004-01-08           0.033479           0.004912\n",
      "...                       ...                ...\n",
      "2020-12-23          -0.007004           0.000742\n",
      "2020-12-24           0.007679           0.003527\n",
      "2020-12-28           0.035137           0.008681\n",
      "2020-12-29          -0.013408          -0.002233\n",
      "2020-12-30          -0.008567           0.001337\n",
      "\n",
      "[4279 rows x 2 columns]\n"
     ]
    }
   ],
   "source": [
    "# annualized risk free rate with 252 trading days:\n",
    "df_riskf_annual[\"yld_daily\"] = df_riskf_annual[\"yld\"] / 252\n",
    "print(df_riskf_annual.head())\n",
    "\n",
    "# compute excess log returns: log returns adjusted by provided risk free rate\n",
    "df_apple['log_ret'] = np.log(df_apple.Close) - np.log(df_apple.Close.shift(1))\n",
    "df_apple['log_ret_exc'] = df_apple['log_ret'] - df_riskf_annual[\"yld_daily\"]\n",
    "print(df_apple.head())\n",
    "\n",
    "df_sp500['log_ret'] = np.log(df_sp500.Close) - np.log(df_sp500.Close.shift(1))\n",
    "df_sp500['log_ret_exc'] = df_sp500['log_ret'] - df_riskf_annual[\"yld_daily\"]\n",
    "df_sp500['log_ret_exc'].plot()\n",
    "plt.show()\n",
    "print(df_sp500.head())\n",
    "\n",
    "df_capm = pd.DataFrame()\n",
    "df_capm[\"log_ret_exc_apple\"] = df_apple[\"log_ret_exc\"]\n",
    "df_capm[\"log_ret_exc_sp500\"] = df_sp500['log_ret_exc']\n",
    "print(df_capm)"
   ],
   "metadata": {
    "collapsed": false,
    "pycharm": {
     "name": "#%%\n"
    }
   }
  },
  {
   "cell_type": "code",
   "execution_count": 111,
   "outputs": [],
   "source": [
    "# sp500 data is a proxy to the market return, apple is the stock to calculate the capm properties\n",
    "\n",
    "# create the model\n",
    "capm_apple = CAPM(df_capm)\n",
    "\n",
    "# fit the model\n",
    "capm_apple.fit_SML()"
   ],
   "metadata": {
    "collapsed": false,
    "pycharm": {
     "name": "#%%\n"
    }
   }
  },
  {
   "cell_type": "code",
   "execution_count": 112,
   "outputs": [
    {
     "name": "stdout",
     "output_type": "stream",
     "text": [
      "                            GLS Regression Results                            \n",
      "==============================================================================\n",
      "Dep. Variable:      log_ret_exc_apple   R-squared:                       0.365\n",
      "Model:                            GLS   Adj. R-squared:                  0.365\n",
      "Method:                 Least Squares   F-statistic:                     2461.\n",
      "Date:                Wed, 05 May 2021   Prob (F-statistic):               0.00\n",
      "Time:                        16:59:37   Log-Likelihood:                 11367.\n",
      "No. Observations:                4278   AIC:                        -2.273e+04\n",
      "Df Residuals:                    4276   BIC:                        -2.272e+04\n",
      "Df Model:                           1                                         \n",
      "Covariance Type:            nonrobust                                         \n",
      "=====================================================================================\n",
      "                        coef    std err          t      P>|t|      [0.025      0.975]\n",
      "-------------------------------------------------------------------------------------\n",
      "Intercept             0.0011      0.000      4.273      0.000       0.001       0.002\n",
      "log_ret_exc_sp500     1.0521      0.021     49.607      0.000       1.011       1.094\n",
      "==============================================================================\n",
      "Omnibus:                      742.583   Durbin-Watson:                   1.930\n",
      "Prob(Omnibus):                  0.000   Jarque-Bera (JB):            10477.358\n",
      "Skew:                           0.390   Prob(JB):                         0.00\n",
      "Kurtosis:                      10.627   Cond. No.                         81.7\n",
      "==============================================================================\n",
      "\n",
      "Notes:\n",
      "[1] Standard Errors assume that the covariance matrix of the errors is correctly specified.\n"
     ]
    }
   ],
   "source": [
    "# print the regression results\n",
    "capm_apple.display_Regression_Table()\n",
    "# P> t => both significant at a 5 % level, even 1 % lvl\n",
    "# no meaningful positive alpha: alpha very small"
   ],
   "metadata": {
    "collapsed": false,
    "pycharm": {
     "name": "#%%\n"
    }
   }
  },
  {
   "cell_type": "code",
   "execution_count": 113,
   "outputs": [
    {
     "name": "stdout",
     "output_type": "stream",
     "text": [
      "0.0\n",
      "1.05\n",
      "4.27\n",
      "49.61\n",
      "0.37\n"
     ]
    }
   ],
   "source": [
    "# Answers for Ps5checker\n",
    "print(round(capm_apple.alpha,2))\n",
    "print(round(capm_apple.beta,2))\n",
    "print(round(capm_apple.t_stat_alpha,2))\n",
    "print(round(capm_apple.t_stat_beta,2))\n",
    "print(round(capm_apple.adjusted_R,2))"
   ],
   "metadata": {
    "collapsed": false,
    "pycharm": {
     "name": "#%%\n"
    }
   }
  },
  {
   "cell_type": "markdown",
   "source": [
    "Note: our capm model is based on daily data with excess returns!!"
   ],
   "metadata": {
    "collapsed": false,
    "pycharm": {
     "name": "#%% md\n"
    }
   }
  },
  {
   "cell_type": "code",
   "execution_count": 114,
   "outputs": [
    {
     "name": "stdout",
     "output_type": "stream",
     "text": [
      "____________________\n"
     ]
    }
   ],
   "source": [
    "# variance of daily excess returns from apple\n",
    "variance_excess_daily_apple = df_apple[\"log_ret_exc\"].var()\n",
    "# print(round(variance_excess_daily_apple,2))\n",
    "\n",
    "# variance of annual excess returns from apple\n",
    "df_apple[\"log_ret_exc_annual\"] = df_apple[\"log_ret_exc\"]*252\n",
    "variance_excess_annual_apple = df_apple[\"log_ret_exc_annual\"].var()\n",
    "# print(round(variance_excess_annual_apple,2))\n",
    "\n",
    "# sd of annual excess returns from apple\n",
    "sd_excess_annual_apple = df_apple[\"log_ret_exc_annual\"].std()\n",
    "# print(round(sd_excess_annual_apple,2))\n",
    "\n",
    "print(\"_\"*20)"
   ],
   "metadata": {
    "collapsed": false,
    "pycharm": {
     "name": "#%%\n"
    }
   }
  },
  {
   "cell_type": "code",
   "execution_count": 115,
   "outputs": [
    {
     "name": "stdout",
     "output_type": "stream",
     "text": [
      "____________________\n"
     ]
    }
   ],
   "source": [
    "# variance of daily excess returns from sp500\n",
    "variance_excess_daily_sp500 = df_sp500[\"log_ret_exc\"].var()\n",
    "df_sp500[\"log_ret_exc_annual\"] = df_sp500[\"log_ret_exc\"]*252\n",
    "# print(round(variance_excess_daily_sp500,2))\n",
    "\n",
    "# variance of annual excess returns from sp500\n",
    "variance_excess_annual_sp500 = df_sp500[\"log_ret_exc_annual\"].var()\n",
    "# print(round(variance_excess_annual_sp500,2))\n",
    "# print(round(variance_excess_annual_sp500 * capm_apple.beta**2,2))\n",
    "\n",
    "# sd of annual excess returns from sp500\n",
    "sd_excess_annual_sp500 = df_sp500[\"log_ret_exc_annual\"].std()\n",
    "# print(round(sd_excess_annual_sp500,2))\n",
    "\n",
    "# print(round(np.sqrt(variance_excess_annual_sp500 * capm_apple.beta**2),2))\n",
    "\n",
    "print(\"_\"*20)"
   ],
   "metadata": {
    "collapsed": false,
    "pycharm": {
     "name": "#%%\n"
    }
   }
  },
  {
   "cell_type": "code",
   "execution_count": 116,
   "outputs": [
    {
     "name": "stdout",
     "output_type": "stream",
     "text": [
      "18.3\n",
      "4.28\n",
      "____________________\n"
     ]
    }
   ],
   "source": [
    "variance_resid_excess_daily = variance_excess_daily_apple - (capm_apple.beta**2 * variance_excess_daily_sp500)\n",
    "# print(round(variance_resid_excess_daily,2))\n",
    "\n",
    "variance_resid_excess_annual = variance_excess_annual_apple - (capm_apple.beta**2 * variance_excess_annual_sp500)\n",
    "print(round(variance_resid_excess_annual,2))\n",
    "\n",
    "sd_resid_excess_annual = np.sqrt(variance_resid_excess_annual)\n",
    "print(round(sd_resid_excess_annual,2))\n",
    "print(\"_\"*20)"
   ],
   "metadata": {
    "collapsed": false,
    "pycharm": {
     "name": "#%%\n"
    }
   }
  },
  {
   "cell_type": "code",
   "execution_count": 117,
   "outputs": [],
   "source": [
    "# helper_df = pd.DataFrame()\n",
    "# helper_df[\"log_ret_apple_annual\"] = df_apple[\"log_ret\"] * 252\n",
    "# helper_df[\"log_ret_exc_apple_annual\"] = df_apple['log_ret_exc']* 252\n",
    "# helper_df[\"yld_annual\"] = df_riskf_annual[\"yld_daily\"] * 252\n",
    "# print(round(helper_df[\"log_ret_apple_annual\"].std(),2))\n",
    "# print(round(helper_df[\"log_ret_exc_apple_annual\"].std(),2))\n",
    "# print(helper_df[\"yld_annual\"].var())\n",
    "# print(helper_df.cov())"
   ],
   "metadata": {
    "collapsed": false,
    "pycharm": {
     "name": "#%%\n"
    }
   }
  },
  {
   "cell_type": "code",
   "execution_count": 118,
   "outputs": [
    {
     "name": "stdout",
     "output_type": "stream",
     "text": [
      "0.8\n",
      "0.61\n"
     ]
    }
   ],
   "source": [
    "print(round(sd_resid_excess_annual / sd_excess_annual_apple,2))\n",
    "print(round(round(np.sqrt(variance_excess_annual_sp500 * capm_apple.beta**2),2)/sd_excess_annual_apple,2))\n",
    "\n"
   ],
   "metadata": {
    "collapsed": false,
    "pycharm": {
     "name": "#%%\n"
    }
   }
  },
  {
   "cell_type": "code",
   "execution_count": 119,
   "outputs": [],
   "source": [
    "# get the total risk\n",
    "# helper_df = pd.DataFrame()\n",
    "# helper_df[\"log_ret_apple\"] = df_apple[\"log_ret\"]\n",
    "# helper_df[\"log_ret_sp500\"] = df_sp500['log_ret']\n",
    "# total_risk_annualized = helper_df.cov() * 252\n",
    "# total_risk_annualized = total_risk_annualized.iloc[0,0]\n",
    "# print(\"total annualized variance\")\n",
    "# print(round(total_risk_annualized,2))\n",
    "# print(\"total annualized sd\")\n",
    "# print(round(np.sqrt(total_risk_annualized),2))\n",
    "# var_resid = total_risk_annualized - (capm_apple.beta**2 * capm_apple.beta_st **2)  * 252\n",
    "# print(\"residual annualized variance\")\n",
    "# print(var_resid)\n",
    "# print(\"market annualized variance\")\n",
    "# print((capm_apple.beta**2 * capm_apple.beta_st **2) * 252)\n",
    "# idiosyncratic_risk_annualized = np.sqrt((capm_apple.beta**2 * capm_apple.beta_st **2) * 252)\n",
    "# systematic_risk_annualized = np.sqrt(var_resid)\n",
    "# diversifiable_risk = idiosyncratic_risk_annualized / total_risk_annualized\n",
    "# non_diversifiable_risk = systematic_risk_annualized / total_risk_annualized\n",
    "# print(round(idiosyncratic_risk_annualized,2))\n",
    "# print(round(systematic_risk_annualized,2))\n",
    "# print(round(diversifiable_risk,2))\n",
    "# print(round(non_diversifiable_risk,2))"
   ],
   "metadata": {
    "collapsed": false,
    "pycharm": {
     "name": "#%%\n"
    }
   }
  },
  {
   "cell_type": "code",
   "execution_count": 123,
   "outputs": [
    {
     "name": "stdout",
     "output_type": "stream",
     "text": [
      "0.06\n",
      "0.0715\n"
     ]
    }
   ],
   "source": [
    "annualized_average_excess_log_return = df_apple[\"log_ret_exc_annual\"].mean()\n",
    "# print(round(df_apple['log_ret_exc'].mean() * 252,2))\n",
    "# print(round(annualized_average_excess_log_return,2))\n",
    "\n",
    "# not quite sure, but gess also excess returns, note alpha, denoting r is very small, as in fact it shouldn't be there\n",
    "# uj = r + (um -r) *bj <=> uj-r = (um-r) * bj\n",
    "print(round(df_sp500['log_ret_exc'].mean() * 252,2))\n",
    "print(round(df_sp500['log_ret'].mean() * 252 ,4))\n",
    "annualized_sMl_implied_expected_return = capm_apple.alpha + capm_apple.beta * df_sp500['log_ret_exc'].mean() * 252\n",
    "# print(round(annualized_sMl_implied_expected_return,2))\n",
    "\n",
    "sr_annualized = annualized_average_excess_log_return / sd_excess_annual_apple\n",
    "# print(round(sr_annualized,2))"
   ],
   "metadata": {
    "collapsed": false,
    "pycharm": {
     "name": "#%%\n"
    }
   }
  },
  {
   "cell_type": "markdown",
   "source": [
    "----------------------------------------------------------------------------------------------\n",
    "\n",
    "\n",
    "# try\n",
    "total risk\n",
    "total risk of asset apple = beta^2 marketrisk^2 + residrisk^2 (in terms of variance)\n",
    "\n",
    "with beta^2 marketrisk = systematik risk, non_diversifiable\n",
    "with residrisk = specific asset risk, idiosyncratic, diversifiable\n",
    "\n",
    "\n",
    "with marketrisk being the std err of log_ret_exc_sp500"
   ],
   "metadata": {
    "collapsed": false,
    "pycharm": {
     "name": "#%% md\n"
    }
   }
  }
 ],
 "metadata": {
  "kernelspec": {
   "display_name": "Python 3",
   "language": "python",
   "name": "python3"
  },
  "language_info": {
   "codemirror_mode": {
    "name": "ipython",
    "version": 3
   },
   "file_extension": ".py",
   "mimetype": "text/x-python",
   "name": "python",
   "nbconvert_exporter": "python",
   "pygments_lexer": "ipython3",
   "version": "3.7.6"
  }
 },
 "nbformat": 4,
 "nbformat_minor": 4
}