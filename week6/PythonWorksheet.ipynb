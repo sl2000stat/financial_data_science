{
 "cells": [
  {
   "cell_type": "markdown",
   "metadata": {},
   "source": [
    "# Set-up"
   ]
  },
  {
   "cell_type": "markdown",
   "metadata": {},
   "source": [
    "Dear students,\n",
    "\n",
    "We approach the time-series modeling part as follows. First, you learn about ARMA models. Second, you learn how to siumulate these. Third, you learn how to estimate these. These estimations will lead us into the machine learning aspects of our course.\n",
    "\n",
    "The current problem set does therefore NOT talk about the simulation, nor the estimation of ARMA models. As we do not yet talk about the machine learning aspects, we will rely heavily on Python packages. \n",
    "\n",
    "Today, we do the following. I give you a time series of interest rate data, \"GovBondYields.xls\". The data is annualized and in percentage terms. These are US government bond yields of maturity 3, 6, 12, 24, 36, 60, 84 and 120 months. The frequency of the data is monthly. You are asked to analyze which auto-regressive lag structure does best fit the 3-month and 120-month interest rate.\n",
    "\n",
    "While you work through the work sheet you will learn about different data tools to answer the question. In particular, you will learn about\n",
    "\n",
    "$$\n",
    "\\\\\n",
    "$$\n",
    "\n",
    "- using a Python package to run a so called PACF test (partial auto-correlation function test)\n",
    "\n",
    "- using a Python package to run a so called AIC test (Akaike Information Criterium)\n",
    "\n",
    "- using Python to implement a so called BIC test (Bayesian Information Criterium)"
   ]
  },
  {
   "cell_type": "markdown",
   "metadata": {},
   "source": [
    "# Background Information \n",
    "\n",
    "Class notes have shown you how to use AR(p) models to estimate a return density. You have NOT yet learned how to estimate the AR(p) parametrization, yet, from you stats classes, you might guess that you could use OLS or MLE to do so. We will refresh that later in the course. For now, we will ask the question, \"how can a data scientist determine the value of **p** that best describes data?\". As you work through this work sheet, you will learn about three methods. These are applicable to any type of data. Your example will be taken from finance data.\n",
    "\n",
    "$$\n",
    "\\\\\n",
    "$$\n",
    "\n",
    "- PACF test\n",
    "\n",
    "- AIC test\n",
    "\n",
    "- BIC test.\n",
    "\n",
    "The PACF test is a regression based test. The other two are likelihood tests. Please be reminded, we talk in detail about regression and likelihood learning in week 8 to week 12.  "
   ]
  },
  {
   "cell_type": "markdown",
   "metadata": {},
   "source": [
    "## PACF Test"
   ]
  },
  {
   "cell_type": "markdown",
   "metadata": {},
   "source": [
    "The PACF test is particularly intuitive. Take a time-series of interest and set a maximal lag length (maximal p). We call the former \n",
    "\n",
    "$$\n",
    "\\{r_t\\}_t\n",
    "$$\n",
    "\n",
    "and the latter \n",
    "\n",
    "$$\n",
    "p_{max}.\n",
    "$$\n",
    "\n",
    "Next, fit $\\{r_t\\}_t$ in consecutive order to an $AR(1), AR(2), ..., AR(p_{max})$ model. You can use regression techniques for that. For each estimation, record the t-statistic of the LAST parameter estimate, i.e. $ \\hat{\\Phi}_{1,1},\\hat{\\Phi}_{2,2},...,\\hat{\\Phi}_{p_{max},p_{max}}$, where the first index represents the AR model that you fit, while the second index stands for the respective auto-correlation coefficient. For instance, $\\hat{\\Phi}_{2,2}$ stands for the auto-regressive coefficient of lag length 2 that you estimate from an AR(2) model. The following math representation helps:\n",
    "\n",
    "$$r_t \\overbrace{=}^{AR(1)} \\Phi_{0,1} + \\sum_{j=1}^{1} \\Phi_{1,j}  \\,r_{t-j} + \\epsilon_{1,t}$$\n",
    "$$r_t \\overbrace{=}^{AR(2)} \\Phi_{0,2} + \\sum_{j=1}^{2} \\Phi_{2,j} \\, r_{t-j} + \\epsilon_{2,t}$$\n",
    "$$...$$\n",
    "$$r_t \\overbrace{=}^{AR(p_{max})} \\Phi_{0,p_{max}} + \\sum_{j=1}^{p_{max}} \\Phi_{p_{max},\\,j} \\, r_{t-j} + \\epsilon_{p_{max}, \\, t}$$\n",
    "\n",
    " \n",
    "\n",
    "Given the early state of our BSc class, I will introduce you to a Python package that does all of that for you. For now, you only have to use the package properly and to interpret results.\n",
    "\n",
    "\n",
    "\n"
   ]
  },
  {
   "cell_type": "markdown",
   "metadata": {},
   "source": [
    "### Python's Package for PACF Test\n",
    "\n",
    "You can import a \"plot_pacf\" function from Python's statsmodels.graphics.tsaplots package. More information is here: https://www.statsmodels.org/stable/generated/statsmodels.tsa.stattools.pacf.html#statsmodels-tsa-stattools-pacf\n",
    "\n",
    "Work with the following test specification: (i) $p_{max} = 5$, (ii) estimation approach is OLS, (iii) instead of the t-stat, you use the 95\\% confidence interval of the estimates $\\hat{\\Phi}_{i,i}$ to decide whether or not lag length \"i\" is statistically significant.  \n",
    "\n",
    "Notice, the first bar at position x=0 describes the \"hypothetical\" 0-lag coefficeint, which is of course always equal to 1 and which you can ignore. You start to look at the vertical bars at positions x=1, x=2 up to $x=p_{max}$, which report the OLS estimates for $\\hat{\\Phi}_{1,1}$, $\\hat{\\Phi}_{2,2}$ up to $\\hat{\\Phi}_{p_{max}, p_{max}}$, respectively. If an estimate reaches above the confidence interval, it is statistically significant. \n",
    "\n",
    "**Task (1):** Do interest rates of different maturities share little or strong co-movement. Hint: plot the interest rate data.  \n",
    "\n",
    "**Task (2):** How large is the correlation between the 3-month and the 120-month interest rate?\n",
    "\n",
    "**Task (3) - not graded:** Provide an educated guess for the magnitude of the solution to Task (2).\n",
    " \n",
    "**Task (4):** Use the PACF plot to advise which AR(p) model fits 3-month and 120-month government bond yields best. To solve the problem, write down which lags are significant for the 3- and the 120-month interest rate"
   ]
  },
  {
   "cell_type": "code",
   "execution_count": null,
   "metadata": {},
   "outputs": [],
   "source": []
  },
  {
   "cell_type": "markdown",
   "metadata": {},
   "source": [
    "## AIC Test\n",
    "\n",
    "The AIC test is a likelihood test. AR models of different lag length are independently fit using MLE (we talk about that later in the course), and their respective optimal log likelihood value is recorded. Naturally, the more parameters you have, the higher the likelihood. That is not fair and prone to overfitting. Hence, the AIC penalizes the number of parameters by the term\n",
    "\n",
    "$$\n",
    "- \\frac{2}{T} p\n",
    "$$\n",
    "where $p$ is the lag length of the AR(p) process. The more parameters (the higher p), the larger the penalty onto the optimal likelihood.\n",
    "\n",
    "Notice, the AIC for a model with p parameters is defined as\n",
    "\n",
    "$$AIC(p) := \\frac{-2}{T}ln(L) + \\frac{2}{T}\\cdot p.$$\n",
    "    \n",
    "Note, how it is defind in terms of the negative log likelihood and negative penalty. Hence, the best model has the LOWEST AIC.\n",
    "\n",
    "As we are not yet in the machine learning part of our BSc course, we use a Python package for the AIC. Note, the package assumes the residual to be Gaussian, which allows the package to write down the likelihood and to find the optimal parameter estimte for a particular AR(p) model. Later in our BSc course, we do that explicitly ourselves. "
   ]
  },
  {
   "cell_type": "markdown",
   "metadata": {},
   "source": [
    "### Python Package for AIC Test\n",
    "\n",
    "We work with Python's statsmodels.tsa.ar_model package. See https://www.statsmodels.org/stable/generated/statsmodels.tsa.ar_model.AR.html\n",
    "\n",
    "After loading the package, you have to set-up an \"ar model\". You do that by calling \"ar_model.AR(xxx)\" where xxx is a numpy array that contains your time series of the interest rate. Next, you fit the \"ar model\" for the time series \"xxx\"  by using the \"ar model . fit()\" function. Choose \"MLE\" as the estimation method and maxlags of $p_{max}$. The function \".k_ar\" gives you the optimal lag length.\n",
    "\n",
    "**Task (5):** Use the AIC criterium to advise which AR(p) model fits 3-month and 120-month government bond yields best. To solve the problem, write down the optimal AIC lag length for both interest rates."
   ]
  },
  {
   "cell_type": "code",
   "execution_count": null,
   "metadata": {},
   "outputs": [],
   "source": []
  },
  {
   "cell_type": "markdown",
   "metadata": {},
   "source": [
    "## BIC Test\n",
    "\n",
    "The BIC test is another likelihood based test. It stands for Bayesian information criterium. The key difference to the AIC is the penalty term. It reads \n",
    "\n",
    "$$\n",
    "-\\frac{ln T}{p}.\n",
    "$$\n",
    "\n",
    "Hence, for $ln(T) > 2$, which says for more than 7 observations, the BIC penalty is larger than the AIC penalty. This implies already that the BIC tends to propse lower parameterized models.\n",
    "\n",
    "In summary, the BIC for model with p parameters is defined as\n",
    "\n",
    "$$BIC(p) := \\frac{-2}{T}ln(L) + \\frac{ln(T)}{T}\\cdot p$$.\n",
    "    \n",
    "Note, the BIC is defined in terms of the negative log-likelihood and the negative penalty term. Hence, you want to choose models with the lowest BIC."
   ]
  },
  {
   "cell_type": "markdown",
   "metadata": {},
   "source": [
    "### Python Package for BIC\n",
    "\n",
    "We use the Python package that we used for AIC. The only difference is that you have to pick the information criterium to be BIC, i.e. \"ic = bic\"\n",
    "\n",
    "**Task (6):** Use the BIC criterium to advise which AR(p) model fits 3-month and 120-month government bond yields best. To solve the problem, write down the optimal AIC lag length for both interest rates."
   ]
  }
 ],
 "metadata": {
  "kernelspec": {
   "display_name": "Python 3",
   "language": "python",
   "name": "python3"
  },
  "language_info": {
   "codemirror_mode": {
    "name": "ipython",
    "version": 3
   },
   "file_extension": ".py",
   "mimetype": "text/x-python",
   "name": "python",
   "nbconvert_exporter": "python",
   "pygments_lexer": "ipython3",
   "version": "3.7.6"
  }
 },
 "nbformat": 4,
 "nbformat_minor": 4
}
