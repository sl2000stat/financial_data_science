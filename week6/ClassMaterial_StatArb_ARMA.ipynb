{
 "cells": [
  {
   "cell_type": "markdown",
   "metadata": {},
   "source": [
    "# Introduction to Statistical Arbitrage"
   ]
  },
  {
   "cell_type": "markdown",
   "metadata": {},
   "source": [
    "Simplistically speaking, an arbitrage occurrs if you can buy a granny smith apple in Edeka for 1 euro, while you can sell exactly the same one at Edeka for more than 1 euro. In competitive markets that shall not exist as buyers and sellers ensure that the buying and selling price coincide.\n",
    "\n",
    "A statistical arbitrage trade can be also called probabilistic arbitrage. You are not completely sure to make a risk-less profit, yet, the odds are pretty good. Typical practical implementations refer to long short trading strategies where assets with similar return densities are traded against each other to benefit from temporary dislocations. Here is one example that relates to previous class material. Assume BMW and Daimler trade both at the same CAPM beta and with a CAPM alpha of 0 and 1\\%, respectively. Based on NPV logic, Daimler appears under-valued, relative to BMW. Buying Daimler and selling BMW results in a zero beta portfolio with a positive alpha of $1\\%$. If both returns are driven by pairwise independent Gaussian shocks (consistent with a single index model) with each having an idiosynscratic volatility of 30\\% ,  the return density of the long short trade is\n",
    "\n",
    "$$\n",
    "N(1\\%, (30\\%+30\\%)^2).\n",
    "$$\n",
    "\n",
    "If you use Python to draw from that distribution, you will notice that you will loose quite often, yet, if you stay in the game for long enough, your average return will be 1\\%. A week from now, I will show you how to simulate random variables in Python.\n",
    "\n",
    "$$\n",
    "\\\\\n",
    "$$\n",
    "\n",
    "\n",
    "\n",
    "The key to our introduction to statistical arbitrage is the ability to quantify the return density for a particular trading horizon. This lecture introduces you to ARMA models. These can be easily combined with the CAPM and other factor models, often referred to as ARMA-X models. These are backward looking time series models that allow us to quantify the return density with time-varying first and second moments."
   ]
  },
  {
   "cell_type": "markdown",
   "metadata": {},
   "source": [
    "# A. Online Lecture\n",
    "\n",
    "\n",
    "## A.1 Autoregressive Moving Average Modeling (ARMA)\n",
    "\n",
    "# B. Tutorial and Revision Manual\n",
    "\n",
    "## Why Use ARMA?\n",
    "\n",
    "- ARMA(p,q) models are heavily used in industry and research since the 1970s. They build a basic building block for short horizon forecasts and statistical arbitrage trading strategies \n",
    "\n",
    "\n",
    "- Remember our return decomposition\n",
    " \n",
    "\\begin{align*}\n",
    "r_t & \\equiv \\mu_{t-1} + \\epsilon_t.\n",
    "\\end{align*}\n",
    "\n",
    "\n",
    "An ARMA(p,q) assumption for $r_t$ implies that \n",
    "\n",
    "\n",
    "* (i) $\\mu_{t-1}$ depends linearly on the past $p$ realized returns and on the past $q$ forecast errors; and\n",
    "\n",
    "\n",
    "* (ii) $\\epsilon_t$ is an unforecastable i.i.d. random variable. \n",
    "\n",
    "\n",
    "\n",
    "\n",
    " \n",
    "\n",
    "$$\n",
    "\\\\\n",
    "$$\n",
    "\n",
    "## White Noise and Gaussian White Noise\n",
    "\n",
    "- $\\epsilon$ follows a White Noise process if\n",
    "\n",
    "$$\n",
    "\\epsilon_t \\sim i.i.d. \\;  (0, \\sigma^2_\\epsilon).\n",
    "$$\n",
    "\n",
    "- A White Noise process fulfills three assumptions:\n",
    "\n",
    "\n",
    "1. It is drift-less:\n",
    "\n",
    "\n",
    "$$\n",
    "E(\\epsilon_t) = E(\\epsilon_t \\vert \\epsilon_{t-1},\\epsilon_{t-2}, \\dotsc) = E(\\epsilon_t \\vert \\text{all information up to t - 1} ) = 0 \n",
    "$$\n",
    "\n",
    "\n",
    "\n",
    "2. The past carries no information about the future:\n",
    "\n",
    "\n",
    "$$\n",
    "E(\\epsilon_t\\epsilon_{t-j})=0\n",
    "$$\n",
    "\n",
    "\n",
    "\n",
    "3. It is homoscedastic:\n",
    "\n",
    "\n",
    "$$\n",
    "var (\\epsilon_t) = var (\\epsilon_t \\vert \\epsilon_{t-1}, \\epsilon_{t-2}, \\dotsc ) = var (\\epsilon_t \\vert \\text{all information up to t - 1} ) = \\sigma^2_\\epsilon \n",
    "$$\n",
    "\n",
    "\n",
    "\n",
    "$$\n",
    "\\\\\\\\\n",
    "$$\n",
    "\n",
    "- $\\epsilon_t$ follows a Gaussian White Process if \n",
    "\n",
    "\n",
    "$$\n",
    "\\epsilon_t \\sim i.i.d. \\; N (0, \\sigma^2_\\epsilon).\n",
    "$$\n",
    "\n",
    "\n",
    "\n",
    "- A Gaussian White Noise process adds a fourth one assumption:\n",
    "\n",
    "\n",
    "$$\n",
    "Prob(\\epsilon_t|\\, \\epsilon_{t-1}) = Prob(\\epsilon_t) = \\frac{1}{\\sqrt{2\\pi \\sigma^2_{\\epsilon}}} \\, e^{-\\frac{\\epsilon^2_t}{2\\sigma^2_{\\epsilon}}}. \n",
    "$$\n",
    "\n",
    "\n",
    "$$\n",
    "\\\\\n",
    "$$\n",
    "\n",
    "## Basic ARMA Models\n",
    "\n",
    "**Without loss of generality but to simplify notation we  assume  that our stationary process $x$ is demeaned.**\n",
    "\n",
    " \n",
    "**Demeand AR(1):**\n",
    "\n",
    "$$\n",
    "AR(1): \\quad x_t := \\phi \\times x_{t-1} + \\epsilon_t, \\,  \\epsilon_t \\sim iid(0,\\sigma^2_{\\epsilon}); \\quad x_0 = 0, \\; \\phi \\in \\mathcal{R}, \\; \\sigma^2_{\\epsilon} \\in \\mathcal{R}_+ . \n",
    "$$\n",
    "\n",
    "\n",
    "$$\n",
    "\\\\\n",
    "$$\n",
    "\n",
    "**Demeaned AR(p):**  \n",
    "\n",
    "$$AR(p): \\quad  x_t = \\phi_1  \\times  x_{t-1} + \\phi_2  \\times  x_{t-2} + \\dotsc + \\phi_p  \\times  x_{t-p} + \\epsilon_t, \\quad x_0 = 0, \\; \\phi_1, ..., \\phi_p \\in \\mathcal{R}\n",
    "$$\n",
    "\n",
    "\n",
    "$$\n",
    "\\\\\n",
    "$$\n",
    "\n",
    "**Demeand MA(1):**\n",
    "\n",
    "$$\n",
    "MA(1):  \\quad x_t = \\epsilon_t + \\theta  \\times  \\epsilon_{t-1}, \\epsilon_t \\sim iid(0,\\sigma^2_{\\epsilon}); \\quad x_0 = 0, \\; \\theta \\in \\mathcal{R}, \\; \\sigma^2_{\\epsilon} \\in \\mathcal{R}_+ .\n",
    "$$\n",
    "\n",
    "$$\n",
    "\\\\\n",
    "$$\n",
    "\n",
    "**Demeand MA(q):**\n",
    "\n",
    "\n",
    "$$\n",
    "MA(q):  \\quad x_t = \\epsilon_t + \\theta_1   \\times  \\epsilon_{t-1} + \\dotsc +\\theta_q  \\times  \\epsilon_{t-q}, \\quad x_0 = 0, \\; \\theta_1, ..., \\theta_q \\in \\mathcal{R}\n",
    "$$\n",
    "\n",
    "\n",
    "$$\n",
    "\\\\\n",
    "$$\n",
    "\n",
    "**Demeand ARMA(p,q):** \n",
    "\n",
    "\\begin{align}\n",
    "x_t & \\, \\overbrace{:=}^{\\text{ARMA(p,q)}} \\, \\phi_1  \\times  x_{t-1} + \\phi_2  \\times  x_{t-2} + \\dotsc + \\phi_p  \\times  x_{t-p} + \\epsilon_t +\\theta_1   \\times  \\epsilon_{t-1} + \\dotsc +\\theta_q  \\times  \\epsilon_{t-q} , \\quad x_0 = 0,\n",
    "\\end{align}\n",
    "\n",
    " \n",
    "\n",
    "\n",
    "$$\n",
    "\\\\\n",
    "$$\n",
    "\n",
    "## AR(1) = constrained MA($\\infty$)\n",
    "\n",
    " \n",
    "We assume a zero-mean stationary variable $x_t$ follows an $AR(1)$ process, i.e.\n",
    "\n",
    "\n",
    "$$\n",
    "x_t := \\phi \\times x_{t-1} + \\epsilon_t; \\quad \\epsilon_t :\\sim i.i.d(0,\\sigma^2_{\\epsilon}).\n",
    "$$\n",
    "\n",
    "$$\n",
    "\\\\\n",
    "$$\n",
    "We now substitute recursively the AR(1) structure into all x-values, i.e.\n",
    "\n",
    "\n",
    "\\begin{align*}\n",
    "x_t &= \\phi \\times (\\phi \\times x_{t-2} + \\epsilon_{t-1}) + \\epsilon_{t} \\\\\n",
    "&= \\phi^2 \\times x_{t-2}+ \\phi \\times \\epsilon_{t-1} + \\epsilon_{t} \\\\\n",
    "&= \\phi^k \\times x_{t-k} + \\phi^{k-1} \\times \\epsilon_{t-k+1} + \\dotsc + \\phi^{2} \\times \\epsilon_{t-2} + \\phi \\times \\epsilon_{t-1} + \\epsilon_t\n",
    "\\end{align*}\n",
    "\n",
    "$$\n",
    "\\\\\n",
    "$$\n",
    "\n",
    "\n",
    "The process is stationary only for $ |\\phi|<1 $. Only if that condition holds, you have that \n",
    "\n",
    "\n",
    "$$\n",
    "\\lim_{k \\to \\infty} \\phi^k x_{t-k} = 0\n",
    "$$\n",
    "\n",
    "\n",
    "which confirms the intuition that a stationary mean-zero process converges to zero. \n",
    "\n",
    "\n",
    "\n",
    "Putting everything together shows that the AR(1) process coincides with a constrained $MA(\\infty)$ process\n",
    "\n",
    "\n",
    "$$\n",
    "x_t= \\sum \\limits_{j=0}^{\\infty} \\phi^j \\epsilon_{t-j},\n",
    "$$\n",
    "\n",
    "\n",
    "which is constrained in the sense that the MA(q) coefficients $\\theta_j,\\; j\\geq 0$ are not free parameters but exponentials of the AR(1) coefficient $\\phi$, i.e. $\\theta_j = \\phi^j, \\forall j \\geq 0$.\n",
    "\n",
    "\n",
    "\n",
    "$$\n",
    "\\\\\n",
    "$$\n",
    "\n",
    "## Forecasting with ARMA Models\n",
    "\n",
    "- To simplify the exposition and to get the main learning points across, we will focus on a AR(1) model for a demeaned time-series $x_t$. The same techniques can be applied to any more general ARMA(p,q) model.\n",
    "\n",
    "$$\n",
    "\\\\\n",
    "$$\n",
    "\n",
    "**DGP of DEMEANED AR(1):**\n",
    "\n",
    "\\begin{align*}\n",
    "x_{t+1} & = \\phi \\times x_{t} + \\epsilon_{t+1}, \\quad x_0 = 0, \\, |\\phi|<1,  \\; \\epsilon_{t+1} \\sim i.i.d.(0,\\sigma^2_{\\epsilon}).\n",
    "\\end{align*}\n",
    "\n",
    "Conceptually, the conditional 1-step ahead forecast for $x_{t+1}$ is defined as\n",
    "\n",
    "\n",
    "$$\n",
    "E[x_{t+1} | \\mathcal{F}_{t}],\n",
    "$$\n",
    "\n",
    "Hence,\n",
    "\n",
    "\\begin{align*}\n",
    "E[x_{t+1}|\\mathcal{F}_{t}] &\\overbrace{=}^{AR(1)} E[\\phi \\times x_{t} + \\epsilon_{t+1} | \\mathcal{F}_{t}]. \n",
    "\\end{align*}\n",
    "\n",
    "\\begin{align*}\n",
    "E[\\phi \\times x_{t} + \\epsilon_{t+1} | \\mathcal{F}_{t}] & = \\phi \\times x_{t} + E[\\epsilon_{t+1} | \\mathcal{F}_{t}]. \n",
    "\\end{align*}\n",
    "\n",
    "\n",
    "\\begin{align*}\n",
    "E[x_{t+1}|\\mathcal{F}_{t}] &\\overbrace{=}^{AR(1)} \\phi \\times x_{t}.\n",
    "\\end{align*}\n",
    "\n",
    "\n",
    "$$\n",
    "\\\\\n",
    "$$\n",
    " \n",
    "**Next: 2-step ahead Forecast**:\n",
    "\n",
    "\n",
    "$$\n",
    "E[x_{t+2} | \\mathcal{F}_t].\n",
    "$$\n",
    "\n",
    "\n",
    "\\begin{align*}\n",
    "E[x_{t+2}|\\mathcal{F}_{t}] & \\overbrace{=}^{\\text{AR(1)}} E[\\phi \\times x_{t+1} + \\epsilon_{t+2}|\\mathcal{F}_{t}] \\\\\\\\\n",
    "&= E[ \\phi \\times \\left( \\phi x_t + \\epsilon_{t+1}\\right) + \\epsilon_{t+2} | \\mathcal{F}_t ] \\\\\\\\\n",
    "&= E[ \\phi^2 \\times x_{t} + \\phi \\times \\epsilon_{t+1} + \\epsilon_{t+2} | \\mathcal{F}_t ] \\\\\\\\\n",
    "&= \\phi^2 \\times x_{t} + \\phi \\times E[\\epsilon_{t+1}| \\mathcal{F}_t] + E[\\epsilon_{t+2} | \\mathcal{F}_t ] \\\\\\\\\n",
    "&= \\phi^2 \\times x_{t}.\n",
    "\\end{align*}\n",
    "  \n",
    "\n",
    "$$\n",
    "\\\\\n",
    "$$\n",
    "\n",
    "\n",
    "**Next: k-Step ahead forecast**:  \n",
    "$$\n",
    "E[x_{t+k}|\\mathcal{F}_{t}] = \\phi^k x_t\n",
    "$$\n",
    "\n",
    "$$\n",
    "\\\\\n",
    "$$\n",
    "\n",
    "\n",
    "\n",
    "### Stationary Considerations \n",
    "\n",
    "\n",
    "\\begin{align*}\n",
    "\\lim_{k \\to \\infty} E[x_{t+k}|\\mathcal{F}_t] &= \\lim_{k \\to \\infty} \\phi^k \\times x_{t}.\n",
    "\\end{align*}\n",
    "\n",
    "\n",
    " \n",
    "\n",
    "\n",
    "**Case 1:** $|\\phi|<1$. In that case, $\\lim_{k \\to \\infty} E[x_{t+k}|\\mathcal{F}_t] \\rightarrow 0$.\n",
    "\n",
    "\n",
    "**Case 2:** $|\\phi|=1$. In that case, $\\lim_{k \\to \\infty} E[x_{t+k}|\\mathcal{F}_t] \\rightarrow x_t$. \n",
    "\n",
    "\n",
    "**Case 3:** $|\\phi|>1$. In that case, $\\lim_{k \\to \\infty} E[x_{t+k}|\\mathcal{F}_t] \\rightarrow \\infty$. \n",
    "\n",
    "\n",
    "\n",
    "**Let's have two definitions:**\n",
    "\n",
    "*Unconditional Forecast: The unconditional forecast of a time series $x_t$ is denoted as $E[x_t]$ or $E[x_t | \\mathcal{F}_0]$ and coincides with $\\lim_{k \\to \\infty} E[x_{t+k}|\\mathcal{F}_t]$.* \n",
    "\n",
    "\n",
    "\n",
    "*Weak Stationarity: A time series $x_t$ is weakly stationary if its unconditional forecast and auto-covariance matrix is time-invariant (i.e. constant)*.\n",
    "\n",
    "\n",
    "\n",
    " \n",
    "### Stationarity Condition \n",
    "\n",
    "Stationarity condition:\n",
    "\n",
    "$$\n",
    "E[x_t] = E[x_{t-k}]\n",
    "$$ \n",
    "for any $k$. Hence, if $x_t$ follows\n",
    "\n",
    "\n",
    "$$\n",
    "x_t = \\phi x_{t-1} + \\epsilon_t, \\; \\epsilon_t \\sim iid (0,\\sigma^2_{\\epsilon})\n",
    "$$\n",
    "\n",
    "\n",
    "we have\n",
    "\n",
    "\n",
    "$$\n",
    "E[x_t] = \\phi E[x_{t-1}].\n",
    "$$\n",
    "\n",
    "\n",
    "As both unconditional expectations need to be the same, the only solution fulfilling this equation is\n",
    "\n",
    "\n",
    "$$\n",
    "E[x_t] = 0.\n",
    "$$\n",
    "\n",
    "$$\n",
    "\\\\\n",
    "$$\n",
    "\n",
    "### What if Data is Not Mean-Zero?\n",
    "\n",
    "- Either: demean the time-series if the unconditional mean is not of relevane for the analysis\n",
    "\n",
    "- Or: account explicitly for a constant in the data generating process, i.e. for a AR(1) it implies: \n",
    "\n",
    "\\begin{align*}\n",
    "x_{t+1} &= c + \\phi x_t + \\epsilon_{t+1}, \\; \\epsilon_{t+1} \\sim iid (0,\\sigma^2_{\\epsilon}), c \\in \\mathcal{R}, |\\phi|<1.\n",
    "\\end{align*}\n",
    "\n",
    "\n",
    "The conditional one-step ahead forecast is\n",
    "\n",
    "\n",
    "$$\n",
    "E[x_{t+1}|\\mathcal{F}_t] = c + \\phi x_t.\n",
    "$$\n",
    " \n",
    " \n",
    "The conditional two-step ahead forecast is\n",
    "\n",
    "\n",
    "\\begin{align*}\n",
    "E[x_{t+2}|\\mathcal{F}_t] &= E[c + \\phi x_{t+1} + \\epsilon_{t+2} |\\mathcal{F}_t] \\\\\\\\\n",
    "&= E[ c + \\phi \\left(c+\\phi x_t + \\epsilon_{t+1} \\right) + \\epsilon_{t+2}  |\\mathcal{F}_t] \\\\\\\\\n",
    "&= c(\\phi^0 + \\phi^1) +\\phi^2 x_t.\n",
    "\\end{align*}\n",
    "\n",
    "\n",
    "The conditional k-step ahead forecast is \n",
    "\n",
    "\n",
    "$$\n",
    "E[x_{t+k} |\\mathcal{F}_t] = c \\times (\\sum_{i=0}^{k-1} \\phi^i) + \\phi^k x_t.\n",
    "$$\n",
    "\n",
    "\n",
    "\n",
    "The unconditional forecast is\n",
    "\n",
    "\n",
    "\\begin{align*}\n",
    "\\lim_{k \\rightarrow \\infty} E[x_{t+k}|\\mathcal{F}_t] &= c \\times \\lim_{k\\rightarrow \\infty} \\sum_{i=0}^{k-1} \\phi^i + 0 \\\\\\\\\n",
    "&\\overbrace{=}^{|\\phi|<1} \\frac{c}{1-\\phi} \\\\\\\\\n",
    "&= E[x_t]. \n",
    "\\end{align*}\n",
    "\n",
    "Notice, the more persistent the time series the more different is the unconditional mean from $c$.\n",
    " \n",
    "\n",
    "$$\n",
    "\\\\\n",
    "$$\n",
    "\n",
    "### Unconditional Forecast\n",
    "\n",
    "If $x_t$ is a zero-mean AR(1) process, then its unconditional mean forecast is\n",
    "\n",
    "\n",
    "\\begin{align*}\n",
    "E[x_t] & \\equiv \\lim_{k \\to \\infty} E_t[x_{t+k}]  \\nonumber \\\\\\\\\n",
    "&= \\lim_{k \\to \\infty} \\phi^k \\times x_{t} \\nonumber \\\\\\\\\n",
    "&= 0, \\quad |\\phi|<1,\n",
    "\\end{align*}\n",
    "\n",
    "\n",
    "$$\n",
    "\\\\\n",
    "$$\n",
    "\n",
    "**Exercise:** Proof that an AR(1) process $x_t$ with mean $\\bar{x}$ is expected to converge to $\\bar{x}$, i.e.\n",
    "\n",
    "\n",
    "\\begin{align*}\n",
    "E[x_t] &= \\bar{x}.\n",
    "\\end{align*}\n",
    "\n",
    "\n",
    "$$\n",
    "\\\\\n",
    "$$\n",
    "\n",
    "\n",
    "\n",
    "\n",
    "\n",
    "## Assessing Risk and Confidence Bounds with ARMA\n",
    "\n",
    "We will focus on a AR(1) model for a demeaned time-series $x_t$. The same techniques can be applied to any more general ARMA(p,q) model.\n",
    "\n",
    "$$\n",
    "\\\\\n",
    "$$\n",
    "\n",
    "The data generating process of a zero-mean AR(1) process is\n",
    "\n",
    "\n",
    "\\begin{align*}\n",
    "x_{t+1} & = \\phi \\times x_{t} + \\epsilon_{t+1}, \\quad x_0 = 0,  \\; \\epsilon_{t+1} \\sim i.i.d.(0,\\sigma^2_{\\epsilon}).\n",
    "\\end{align*}\n",
    "\n",
    "\n",
    "The conditional 1-step ahead risk measure is\n",
    "\n",
    "\n",
    "\\begin{align*}\n",
    "Var(x_{t+1}|\\mathcal{F}_{t}) &\\overbrace{=}^{\\text{AR(1)}} Var(\\phi \\times x_{t} + \\epsilon_{t+1} |\\mathcal{F}_t) \\\\\\\\\n",
    "& = \\phi^2 Var(x_t|\\mathcal{F}_t) + Var(\\epsilon_{t+1}|\\mathcal{F}_t) \\\\\\\\\n",
    "& = \\phi^2 \\times 0 + \\sigma^2_{\\epsilon} \\\\\\\\\n",
    "& = \\sigma^2_{\\epsilon}.\n",
    "\\end{align*}\n",
    "\n",
    "\n",
    "The conditional 2-step ahead risk measure is\n",
    "\n",
    "\n",
    "\\begin{align*}\n",
    "Var(x_{t+2}|\\mathcal{F}_{t}) & \\overbrace{=}^{\\text{AR(1)}} Var(\\phi \\times x_{t+1} + \\epsilon_{t+2} | \\mathcal{F}_{t})   \\\\\\\\\n",
    "& = Var(\\phi^2 \\times x_t + \\phi \\times \\epsilon_{t+1} + \\epsilon_{t+2} |\\mathcal{F}_{t} ) \\\\\\\\\n",
    "& = \\phi^4 Var(x_t|\\mathcal{F}_t) + \\phi^2 Var(\\epsilon_{t+1}|\\mathcal{F}_t) + Var(\\epsilon_{t+2}|\\mathcal{F}_t) \\\\\\\\\n",
    "& = 0 + \\phi^2 \\sigma^2_{\\epsilon} +\\sigma^2_{\\epsilon} \\\\\\\\\n",
    "& = (1 + \\phi^2) \\times \\sigma^2_{\\epsilon}.\n",
    "\\end{align*}\n",
    "\n",
    "\n",
    "The conditional k-step ahead risk measure is\n",
    "\n",
    "\n",
    "\\begin{align*}\n",
    "Var(x_{t+k} | \\mathcal{F}_t) &= (\\phi^0+\\phi^2 + ... + \\phi^{2(k-1)} ) \\times \\sigma^2_{\\epsilon}.\n",
    "\\end{align*}\n",
    "\n",
    "\n",
    "The unconditional risk measure is for a AR(1) process can be found by exploiting the stationarity condition\n",
    "\n",
    "\n",
    "\\begin{align*}\n",
    "Var(x_{t+1}) &= \\phi^2 Var(x_t) + \\sigma^2_{\\epsilon} \\\\\\\\\n",
    "Var(x_t) &= \\frac{\\sigma^2_{\\epsilon}}{1-\\phi^2}.\n",
    "\\end{align*}\n",
    "\n",
    "\n",
    "$$\n",
    "\\\\ \n",
    "$$\n",
    "\n",
    "\n",
    "Note, if you want to quantify risk with a different measure than variance, you need to take a stand on the iid probability density function of the White Noise process. If we assume that the forecast error follows a Gaussian White Noise Process, we do basically say that as of now, the k-step ahead realization of a zero mean AR(1) process follows a Gaussian distribution that is centered around $\\phi^k x_t$ with variance $(\\phi^0+\\phi^2 + ... + \\phi^{2(k-1)} ) \\times \\sigma^2_{\\epsilon}$, i.e.\n",
    "\n",
    "\n",
    "\\begin{align*}\n",
    "x_{t+k}|\\mathcal{F}_t \\, \\overbrace{\\sim}^{GWN} \\,  N(\\phi^k \\times x_{t}, \\, (1 + \\phi^2 + \\phi^4 + ... + \\phi^{2(k-1)}) \\times \\sigma^2_{\\epsilon} ).\n",
    "\\end{align*}\n",
    "\n",
    "\n",
    "If forecast errors follow a non-Gaussian distribution, then $x_{t+k}|\\mathcal{F}_t $ follows a non-Gaussian distribution."
   ]
  },
  {
   "cell_type": "markdown",
   "metadata": {},
   "source": [
    "\n",
    "\n"
   ]
  },
  {
   "cell_type": "markdown",
   "metadata": {},
   "source": [
    "---"
   ]
  },
  {
   "cell_type": "markdown",
   "metadata": {},
   "source": [
    "# C. Quizzes - Basics"
   ]
  },
  {
   "cell_type": "markdown",
   "metadata": {},
   "source": [
    "on ilias"
   ]
  },
  {
   "cell_type": "markdown",
   "metadata": {},
   "source": [
    "# D. Exercises - Basics "
   ]
  },
  {
   "cell_type": "markdown",
   "metadata": {},
   "source": [
    "## D.1 ARMA and Return Decomposition\n",
    "\n",
    "Explain how an ARMA(p,q) model fits into the general return notation of $r_t = \\mu_{t-1} + \\epsilon_t$."
   ]
  },
  {
   "cell_type": "markdown",
   "metadata": {},
   "source": [
    "## D.2 White Noise\n",
    "\n",
    "Characterize a White Noise process."
   ]
  },
  {
   "cell_type": "markdown",
   "metadata": {},
   "source": [
    "## D.3 Gaussian White Noise\n",
    "\n",
    "Characterize a Gaussian White Noise Process."
   ]
  },
  {
   "cell_type": "markdown",
   "metadata": {},
   "source": [
    "## D.4 Gaussian White Noise\n",
    "\n",
    "Write down the parameterized probability density function of a Gaussian White Noise Process."
   ]
  },
  {
   "cell_type": "markdown",
   "metadata": {},
   "source": [
    "## D.5 Data Generating Processes of some ARMA\n",
    "\n",
    "Write down the DGP of an AR(1), MA(1), MA($\\infty)$ and ARMA(1,1) process."
   ]
  },
  {
   "cell_type": "markdown",
   "metadata": {},
   "source": [
    "## D.6 Unconditional vs Conditional Forecast\n",
    "\n",
    "Explain the difference between an unconditional and a conditional forecast."
   ]
  },
  {
   "cell_type": "markdown",
   "metadata": {},
   "source": [
    "## D.7 Weakly Stationarity\n",
    "\n",
    "What characterizes a weakly stationary time-series?"
   ]
  },
  {
   "cell_type": "markdown",
   "metadata": {},
   "source": [
    "## D.8 Unit-Root\n",
    "\n",
    "Write down an AR(1) process with a unit root."
   ]
  },
  {
   "cell_type": "markdown",
   "metadata": {},
   "source": [
    "## D.9 Conditional vs Unconditional Risk\n",
    "\n",
    "What is conditional and unconditional risk in a Gaussian model?"
   ]
  },
  {
   "cell_type": "code",
   "execution_count": null,
   "metadata": {},
   "outputs": [],
   "source": []
  },
  {
   "cell_type": "markdown",
   "metadata": {},
   "source": [
    "# E. Exercises  - Challenging "
   ]
  },
  {
   "cell_type": "markdown",
   "metadata": {},
   "source": [
    "## E.1 AR(1) as MA($\\infty$)\n",
    "\n",
    "Show in detail how to re-write an AR(1) as a constrained MA($\\infty$) process."
   ]
  },
  {
   "cell_type": "markdown",
   "metadata": {},
   "source": [
    "## E.2 Statistical Arbitrage with AR(1)\n",
    "\n",
    "Assume a factor follows the following AR(1) model: $f_t = c + \\phi f_{t-1} + \\epsilon_t$ with $\\epsilon_t$ being a White Noise process. Derive the conditional 1-step, 2-step, k-step ahead forecasts and the unconditional forecast."
   ]
  },
  {
   "cell_type": "markdown",
   "metadata": {},
   "source": [
    "## E.3 Convergence of AR(1)\n",
    "\n",
    "Assume the AR(1) model of some factor of interest reads $f_t = 0.06 + 0.95 \\times f_{t-1} + \\epsilon_t$, with $\\epsilon_t$ being a White Noise process. Where is $f_t$ converging to?"
   ]
  },
  {
   "cell_type": "markdown",
   "metadata": {},
   "source": [
    "# E.4 AR(2) for Statistical Arbitrage\n",
    "\n",
    "Assume some factor of interest follows a AR(2) model. Determine the 1-step, 2-step and unconditional variance estimate."
   ]
  },
  {
   "cell_type": "code",
   "execution_count": null,
   "metadata": {},
   "outputs": [],
   "source": []
  },
  {
   "cell_type": "markdown",
   "metadata": {},
   "source": [
    "# F. Python for Financial Data Analysis\n",
    "\n",
    "Dear students,\n",
    "\n",
    "We approach the time-series modeling part as follows. First, you learn about ARMA models. Second, you learn how to siumulate these. Third, you learn how to estimate these. These estimations will lead us into the machine learning aspects of our course.\n",
    "\n",
    "The current problem set does therefore NOT talk about the simulation, nor the estimation of ARMA models. As we do not yet talk about the machine learning aspects, we will rely heavily on Python packages. "
   ]
  },
  {
   "cell_type": "markdown",
   "metadata": {},
   "source": [
    "Now, I show you how you can determine the auto regressive order using the Bayesian Information Criterium. \n",
    "\n",
    "There are different ways of obtaining the same solution. Here, I present you with an approach that relies on Python coding, yet, demands a bit of work from us. "
   ]
  },
  {
   "cell_type": "markdown",
   "metadata": {},
   "source": [
    "**packages**"
   ]
  },
  {
   "cell_type": "markdown",
   "metadata": {},
   "source": [
    "we will need the following Python packages"
   ]
  },
  {
   "cell_type": "code",
   "execution_count": 2,
   "metadata": {},
   "outputs": [],
   "source": [
    "import numpy as np\n",
    "import pandas as pd\n",
    "\n",
    "import statsmodels.api as sm\n",
    "\n",
    "import matplotlib.pyplot as plt"
   ]
  },
  {
   "cell_type": "markdown",
   "metadata": {},
   "source": [
    "**We read in the data of interest**"
   ]
  },
  {
   "cell_type": "code",
   "execution_count": 3,
   "metadata": {},
   "outputs": [],
   "source": [
    "returns = np.genfromtxt('AR2_Series.csv',delimiter=',')"
   ]
  },
  {
   "cell_type": "markdown",
   "metadata": {},
   "source": [
    "Let's first visualize the time-series of the return that we try to model as an AR(p) process."
   ]
  },
  {
   "cell_type": "code",
   "execution_count": 4,
   "metadata": {},
   "outputs": [
    {
     "data": {
      "image/png": "[encoded data removed]",
      "text/plain": [
       "<Figure size 432x288 with 1 Axes>"
      ]
     },
     "metadata": {
      "needs_background": "light"
     },
     "output_type": "display_data"
    }
   ],
   "source": [
    "plt.plot(returns);"
   ]
  },
  {
   "cell_type": "markdown",
   "metadata": {},
   "source": [
    "OK, now, let's go easy on the problem. At first we need to generate the lagged data for all AR-model specifications which we want to test for. We can get these lagged data from the auxiliary function \"lag_data\", which returns a numpy array containing the time series data from lag 1 up to the maximum lag length."
   ]
  },
  {
   "cell_type": "code",
   "execution_count": 5,
   "metadata": {},
   "outputs": [],
   "source": [
    "def lag_data(data, lags):\n",
    "    \n",
    "    n = len(data)\n",
    "    lagged_data = np.zeros((n-lags,lags))\n",
    "    \n",
    "    for i in range(lags):\n",
    "        lagged_data[:,-(i+1)] = data[i:(n-lags+i)]\n",
    "    ts_data = data[lags:]\n",
    "    \n",
    "    return lagged_data, ts_data"
   ]
  },
  {
   "cell_type": "markdown",
   "metadata": {},
   "source": [
    "The idea is now to test each possible model specification AR(1), AR(2)...,AR($p_{max}$) in consecutive order by using a for loop. This means that we calculate the BIC value for each model and from all these values we finally select the model for which we have obtained the smallest BIC value.\n",
    "\n",
    "Notice, the BIC criterion reads\n",
    "\n",
    "$$BIC(p) := \\frac{-2}{T}ln(L) + \\frac{ln(T)}{T}\\cdot p$$\n",
    "\n",
    "We are going to use a Python package to obtain the log likelihood value for the BIC formula. This likelihood value is automatically returned by the OLS function of the statsmodels package. Notice, once we enter the machine learing part of our course, we will revisit the question of how to compute the likelihood from the OLS function. For now, we leave technical questions aside."
   ]
  },
  {
   "cell_type": "code",
   "execution_count": 6,
   "metadata": {},
   "outputs": [],
   "source": [
    "def BIC(data, max_lags):\n",
    "\n",
    "    BIC_values = np.zeros(max_lags)\n",
    "    X,Y = lag_data(data, max_lags)\n",
    "\n",
    "    for l in range(max_lags):\n",
    "\n",
    "        x_lag = X[:,0:l+1]\n",
    "        \n",
    "        T = len(data)\n",
    "        \n",
    "        log_likelihood = sm.OLS(Y,sm.add_constant(x_lag)).fit().llf\n",
    "        \n",
    "        p = l+2 # nr of parameters estimated by OLS\n",
    "        \n",
    "        BIC_values[l] = (-2/T) * log_likelihood + (np.log(T)/T) * p\n",
    "\n",
    "    opt_lags = 1+np.where(BIC_values==min(BIC_values))[0].item()\n",
    "\n",
    "    return BIC_values, opt_lags"
   ]
  },
  {
   "cell_type": "markdown",
   "metadata": {},
   "source": [
    "Now let's run the function BIC for our return series and see the result:"
   ]
  },
  {
   "cell_type": "code",
   "execution_count": 7,
   "metadata": {},
   "outputs": [],
   "source": [
    "BIC_values, optimal_lags = BIC(returns,10)"
   ]
  },
  {
   "cell_type": "markdown",
   "metadata": {},
   "source": [
    "The function returns the 10 BIC values which correspond to the AR(1),...,AR(10) models, as well as the  optimal value for p according to the BIC criterion."
   ]
  },
  {
   "cell_type": "code",
   "execution_count": 8,
   "metadata": {},
   "outputs": [
    {
     "data": {
      "text/plain": [
       "array([2.85685434, 2.82047395, 2.82213586, 2.82364301, 2.82493466,\n",
       "       2.82651189, 2.82818312, 2.82987282, 2.83151939, 2.83315569])"
      ]
     },
     "execution_count": 8,
     "metadata": {},
     "output_type": "execute_result"
    }
   ],
   "source": [
    "BIC_values"
   ]
  },
  {
   "cell_type": "code",
   "execution_count": 9,
   "metadata": {},
   "outputs": [
    {
     "data": {
      "text/plain": [
       "2"
      ]
     },
     "execution_count": 9,
     "metadata": {},
     "output_type": "execute_result"
    }
   ],
   "source": [
    "optimal_lags"
   ]
  },
  {
   "cell_type": "markdown",
   "metadata": {},
   "source": [
    "Given the previous output we conclude that the AR(2) model gives us the lowest BIC value which translates into being the most favorable AR(p) model according to the BIC criterium.\n",
    "\n",
    "And as a final note, I want to reveal, that I have indeed generated the time-series from the CSV file with an AR(2) parametrization and a level parameter equal to zero, slope parameters equal to 0.6 and 0.2, as well as variance parameter of 1, respectively."
   ]
  },
  {
   "cell_type": "code",
   "execution_count": null,
   "metadata": {},
   "outputs": [],
   "source": []
  }
 ],
 "metadata": {
  "kernelspec": {
   "display_name": "Python 3",
   "language": "python",
   "name": "python3"
  },
  "language_info": {
   "codemirror_mode": {
    "name": "ipython",
    "version": 3
   },
   "file_extension": ".py",
   "mimetype": "text/x-python",
   "name": "python",
   "nbconvert_exporter": "python",
   "pygments_lexer": "ipython3",
   "version": "3.7.6"
  }
 },
 "nbformat": 4,
 "nbformat_minor": 4
}