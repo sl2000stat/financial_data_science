{
 "cells": [
  {
   "cell_type": "markdown",
   "metadata": {},
   "source": [
    "# Monte Carlo Simulation\n",
    "\n",
    "A Monte Carlo Simulation is a plain Simulation. In my view, the key reason for simulation in finance is to look at quantities of interest for which you do no have closed form solutions. A closed-form solution means the solution is given explicit (in terms of numbers and letters). A semi-closed form solution means the solution is given in terms of numbers, letters and integrals. If the solution is neither in closed- nor in semi-closed form, you can still simulate to visualize the solution. \n",
    "\n",
    "Any simulation has known constants, random shocks and seeds. Do not forget about the seeds. Seeds start the sequence of random numbers that are generated on a computer. \n",
    "\n",
    "This lecture teaches you the essentials on simulation with a focus on financial data applications."
   ]
  },
  {
   "cell_type": "markdown",
   "metadata": {},
   "source": [
    "# A. Online Lecture\n",
    "\n",
    "$$\n",
    "\\\\\n",
    "$$\n",
    "\n",
    "## A.1 Monte Carlo Simulations"
   ]
  },
  {
   "cell_type": "markdown",
   "metadata": {},
   "source": [
    "# B Tutorial and Revision Manual\n",
    "\n",
    "## B.1 Motivation"
   ]
  },
  {
   "cell_type": "markdown",
   "metadata": {},
   "source": [
    " \n",
    "\n",
    "Consider a stationary AR(1) process with $|\\phi|<1$ and $0 \\leq \\sigma^2_{\\epsilon} < \\infty$ and $x_0 < \\infty$ and mean $\\bar{x} \\in \\mathcal{R}$, i.e.\n",
    "\n",
    "$$\n",
    "x_t = (1-\\phi) \\times \\bar{x} + \\phi \\times x_{t-1} + \\epsilon_t, \\quad \\epsilon_t \\sim i.i.d.(0,\\sigma^2_{\\epsilon}).\n",
    "$$\n",
    "\n",
    "Importantly, to an investor, $\\phi$, $\\sigma^2_{\\epsilon}$, $\\bar{x}$ and $x_0$ are known constants. Therefore, for the investor, the only unknown and from an ex-ante perspective the random outcome is the sequence of $\\{\\epsilon_t\\}_t$. \n",
    "\n",
    "\n",
    "\n",
    "Since $\\epsilon_t$ is a random variable, and $\\{\\epsilon_t\\}_t$ is a stochastic process, we can characterize $\\{\\epsilon_t\\}_t$ by its probability density function. If we have that, we can determine its first, second and any other moment or specific quantiles or risk measures such as the Value-at-Risk. \n",
    "\n",
    "\n",
    "\n",
    "Simulation is a way to quantify that probability density function in a numerical way. \n",
    "\n",
    "\n",
    "\n",
    "The only challenge for simulating $\\{\\epsilon_t\\}_t$ and hence $\\{x_t\\}_t$ is that we need to know the probability density function of $\\epsilon_t$. Hence, we must explicitly take a stand on which $i.i.d.$ distribution does $\\epsilon_t$ follow. A common assumption is that $\\epsilon_t$ follows a Gaussian White Noise process. It therefore suffices to understand how to simulate a Gaussian \n",
    "\n",
    "$$\n",
    "N(0,1)\n",
    "$$\n",
    "\n",
    "random variable. Any other univariate Gaussian variable \n",
    "\n",
    "$$\n",
    "N(a,b^2)\n",
    "$$ \n",
    "\n",
    "can be expressed as\n",
    "\n",
    "$$\n",
    "a + b \\times N(0,1).\n",
    "$$\n"
   ]
  },
  {
   "cell_type": "markdown",
   "metadata": {},
   "source": [
    "## B.2 Generating Random Numbers"
   ]
  },
  {
   "cell_type": "markdown",
   "metadata": {},
   "source": [
    "- Notice, simulating random numbers is at the core of any Monte Carlo simulation\n",
    "\n",
    "- Random numbers that a computer generates appear random but are produced by a deterministic algorithm\n",
    "\n",
    "- This has the advantage that everyone is able to re-run simulations of others with exactly the same sequence of random numbers\n",
    "\n",
    "- Strictly speaking, we therefore talk about **Pseudo Random Numbers**.\n",
    "\n",
    "$$\n",
    "\\\\\n",
    "$$\n",
    "\n",
    "Any random number can be drawn from a **U(0,1)**\n",
    "\n",
    "- Any pseudo-random number generator for $U(0,1)$ takes the form:\n",
    "\n",
    "\n",
    "$$\n",
    "x_{i+1} = f(x_i) \\quad \\text{and} \\quad u_{i+1} = g(x_{i+1})\n",
    "$$\n",
    "\n",
    "\n",
    "where $f$ and $g$ are deterministic functions and $x_i$ could be vector valued.  \n",
    "\n",
    "- Any random number generator will eventually produce a sequence of $x_i$ and $u_i$ that has already occurred. \n",
    "\n",
    "- A good random number generator does therefore need to:\n",
    "\n",
    "\n",
    "* have a long period (i.e. produce many distinct values before repeating)\n",
    "\n",
    "\n",
    "* allow to reproduce any random sequence\n",
    "\n",
    "\n",
    "* to be fast\n",
    "\n",
    "\n",
    "* be portable across computing platforms\n",
    "\n",
    "\n",
    "* to produce output that statistically speaking appears random\n",
    "\n",
    "\n",
    "$$\n",
    "\\\\\n",
    "$$\n",
    "\n",
    " \n",
    "**Example 1:**  $x_{0}=1, c = 0, a = 11, m = 16$ \n",
    "\n",
    "\n",
    "\n",
    "The first 5 entries of the sequence are\n",
    "$$\n",
    "x_{0}\\ =\\ 1\n",
    "$$\n",
    "$$\n",
    "x_{1}\\ =\\ (11)\\ \\mathrm{m}\\mathrm{o}\\mathrm{d}\\ 16=11\n",
    "$$\n",
    "$$\n",
    "x_{2}\\ =\\ (121)\\ \\mathrm{m}\\mathrm{o}\\mathrm{d}\\ 16=9\n",
    "$$\n",
    "$$\n",
    "x_{3}\\ =\\ (99)\\ \\mathrm{m}\\mathrm{o}\\mathrm{d}\\ 16=3\n",
    "$$\n",
    "$$\n",
    "x_{4}\\ =\\ (33)\\ \\mathrm{m}\\mathrm{o}\\mathrm{d}\\ 16=1\n",
    "$$\n",
    " \n",
    "\n",
    "**Observation:** $x_4$ coincides with the seed $x_0$.  The 'period' in this example is only '4'.\n",
    "\n",
    "\n",
    "$$\n",
    "\\\\\n",
    "$$\n",
    " \n",
    "**Learning point:** Good pseudo-random number generators have a large 'period'.  \n",
    "\n",
    "\n",
    "$$\n",
    "\\\\\n",
    "$$\n",
    "  \n",
    "\n",
    "Once we are able to draw random numbers from $U(0,1)$, we continue to draw a \n",
    "\n",
    "$$\n",
    "\\textbf{U(a,b)}\n",
    "$$\n",
    "\n",
    " \n",
    "\n",
    "If $U_i \\sim U(0,1)$ for $i = 1,...,n$. Then,\n",
    "\n",
    "$$\n",
    "x_i = a + (b-a) u_i\n",
    "$$\n",
    "\n",
    "follows a $U(a,b)$ distribution.\n",
    "\n",
    "\n",
    "$$\n",
    "\\\\\n",
    "$$\n",
    "\n",
    "\n",
    "**'Inverse Transform Method'**.  \n",
    "\n",
    "\n",
    "\n",
    "Suppose you have access to uniformly distributed random numbers $U$, with \n",
    "\n",
    "$$\n",
    "U \\sim U(0,1)\n",
    "$$\n",
    "\n",
    "and further assume you want to draw a random variable, which we call $X$, and that has a Cumulative Density Function $F(X=x)$.\n",
    "\n",
    "\n",
    "According to the Inverse Transform method\n",
    "\n",
    "$$\n",
    "X = F^{-1}(U), \\quad \\text{for} \\quad U \\sim U(0,1).\n",
    "$$\n",
    "Said differently, once you take a $U(0,1)$ variable and you plug it into the inverse of the CDF from which you would like to sample from, you end up with a draw from $F(x)$.\n",
    "\n",
    "\n",
    "\n",
    "\n",
    "The Inverse Transform method relies on $F$ being well defined, strictly increasing and available in closed-form. The inverse transform method is attractive but not the fastest sampling method. Yet, in order to get the concept of random number generation, it is really useful to understand the working of the Inverse Transform Method.\n",
    "\n",
    "$$\n",
    "\\\\\n",
    "$$\n",
    "\n",
    "The Gaussian does not have an analytial CDF.  Alternatives to the Inverse Transform Method have been developed. One such alternative is the well known \\textbf{Box-Muller method}.  The algorithm for the **Box-Muller method** is as follows:\n",
    "\n",
    "* Input: Pairwise independent $U_1 \\sim U(0,1)$ and $U_2 \\sim U(0,1)$\n",
    "\n",
    "\n",
    "* Output: Pairwise independent $N_1 \\sim N(0,1)$ and $N_2 \\sim N(0,1)$\n",
    "\n",
    "\n",
    "* Box-Muller method:\n",
    "\\begin{align}\n",
    " N_1 &:= \\sqrt{-2\\log(U_{1})} \\times \\cos(2\\pi U_{2}) \\\\\n",
    "N_2 &:= \\sqrt{-2\\log(U_{1})} \\times \\sin(2\\pi U_{2}).\n",
    "\\end{align}\n",
    "\n",
    " \n",
    "It can be shown that the joint density of $N_1$ and $N_2$ is multivariate Gaussian (with a zero-covariance, zero mean and unit variance), i.e.\n",
    "\n",
    "$$\n",
    "Prob(N_1=n_1, \\, N_2 = n_2) = \\frac{1}{\\sqrt{2 \\pi}} \\exp(-n^2_1 / 2) \\; \\times \\; \\frac{1}{\\sqrt{2 \\pi}} \\exp(-n^2_2 / 2).\n",
    "$$\n",
    "\n",
    "$$\n",
    "\\\\\n",
    "$$\n",
    "\n",
    "Nowadays, Matlab, R, Python and other statistical packages use Mersenne Twister to draw Gaussian variables more efficiently.  "
   ]
  },
  {
   "cell_type": "markdown",
   "metadata": {},
   "source": [
    "## B.3 Simulating ARMA Processes"
   ]
  },
  {
   "cell_type": "markdown",
   "metadata": {},
   "source": [
    " \n",
    "Note, simulating the probability density function that an ARMA(p,q) is straightforward.\n",
    "$$\n",
    "\\\\\n",
    "$$\n",
    "\n",
    "* Decide on the order $p \\; \\text{and} \\; q$ that you want to use\n",
    "$$\n",
    "\\\\\n",
    "$$\n",
    "\n",
    "* Decide upon the numerical values that the parameters of the ARMA(p,q) model take (incl the starting value)\n",
    "$$\n",
    "\\\\\n",
    "$$\n",
    "\n",
    "* Decide upon the iid distribution that the white noise innovation $\\epsilon$ shall follow\n",
    "$$\n",
    "\\\\\n",
    "$$\n",
    "\n",
    "* Decide on how many time periods $T$ you want to simulate\n",
    "$$\n",
    "\\\\\n",
    "$$\n",
    "\n",
    "* Decide how many random paths per time period, which we call here $P$ you like to simulate. Note, as $\\epsilon$ is a random variable that can take infinitely many values, there are infinite many possible realization for the ARMA(p,q) process. Each path corresponds to one such realizations. \n",
    "$$\n",
    "\\\\\n",
    "$$\n",
    "\n",
    "\n",
    "* Set the seed of the random generator, i.e. $x_0 = \\text{seed}.$.\n",
    "$$\n",
    "\\\\\n",
    "$$\n",
    "\n",
    "* Simulate the matrix of White Noise shocks with dimension $T \\times P.$ Note, for that you have to use the chosen distribution. \n",
    "$$\n",
    "\\\\\n",
    "$$\n",
    "\n",
    "* Usually, I would simulate a full path with length $T\\times 1$ and repeat that $P$ times.  \n",
    "\n",
    " "
   ]
  },
  {
   "cell_type": "markdown",
   "metadata": {},
   "source": [
    "---"
   ]
  },
  {
   "cell_type": "code",
   "execution_count": null,
   "metadata": {},
   "outputs": [],
   "source": []
  },
  {
   "cell_type": "markdown",
   "metadata": {},
   "source": [
    "# C. Quizzes - Basics"
   ]
  },
  {
   "cell_type": "markdown",
   "metadata": {},
   "source": [
    "see ilias."
   ]
  },
  {
   "cell_type": "markdown",
   "metadata": {},
   "source": [
    "# D. Exercises - Basics"
   ]
  },
  {
   "cell_type": "markdown",
   "metadata": {},
   "source": [
    "## D.1 Parameters in a Simulation\n",
    "\n",
    "Which quantities are known vs unknown if you want to simulate a specific ARMA(p,q) model?"
   ]
  },
  {
   "cell_type": "markdown",
   "metadata": {},
   "source": [
    "## D.2 Random Number Generator\n",
    "\n",
    "What characterizes a good random number generator?"
   ]
  },
  {
   "cell_type": "code",
   "execution_count": null,
   "metadata": {},
   "outputs": [],
   "source": []
  },
  {
   "cell_type": "markdown",
   "metadata": {},
   "source": [
    "# E. Exercises - Challenging  "
   ]
  },
  {
   "cell_type": "markdown",
   "metadata": {},
   "source": [
    "## E.1 Pseudo Random Number Generator\n",
    "\n",
    "Assume a linear congruential random number generator has the paramerization: $seed = 1, c = 0, a=11, m = 16$. Use that as a practical example to explain the working of a pseudo-random number generator. Compute the sequence of the first 5 entries and determine its period."
   ]
  },
  {
   "cell_type": "markdown",
   "metadata": {},
   "source": [
    "## E.2 Inverse Transfor Theorm\n",
    "\n",
    "Explain the meaning of the following expression: $X = F^{-1}(U)$ where $F(x)$ is the CDF of $x$ and U is uniformly distributed between 0 and 1."
   ]
  },
  {
   "cell_type": "markdown",
   "metadata": {},
   "source": [
    "## E.3 Box-Muller Method\n",
    "\n",
    "Explain the Box-Muller Method."
   ]
  },
  {
   "cell_type": "markdown",
   "metadata": {},
   "source": [
    "## E.4 Pseudo-Code\n",
    "\n",
    "Suppose you work with an ARMA(p,q) model and Gaussian White Noise shocks $\\epsilon$. Write a pseudo-code that plots a time-series of histograms. The histogram shall represent 1000 realizations of the ARMA(p,q) process, with 10 bins, whereas the time-series dimension is of magnitude 2x1 only."
   ]
  },
  {
   "cell_type": "code",
   "execution_count": null,
   "metadata": {},
   "outputs": [],
   "source": []
  },
  {
   "cell_type": "markdown",
   "metadata": {},
   "source": [
    "# F. Python for Financial Data Analysis\n",
    "\n",
    "Dear students,\n",
    "\n",
    "We approach the time-series modeling part as follows. First, you learn about ARMA models. Second, you learn how to siumulate these. Third, you learn how to estimate these. These estimations will lead us into the machine learning aspects of our course.\n",
    "\n",
    "We are currently learning about how to simulate stochastic processes. Our application of choice are ARMA models. \n",
    "\n",
    "I provide you with a set of Python applications on the basics for simulation: (i) simulating from a uniform, (ii) Gaussian, (iii) multi variate Gaussian and (iv) simulating an ARMA process."
   ]
  },
  {
   "cell_type": "markdown",
   "metadata": {},
   "source": [
    "## F.1 Simulating U(a,b) with a=0 and b=1\n",
    "\n",
    "Here, we do the following. We generate 10 000 data points of a U(0,1) distributed random variable. Next, we plot the results as a histogram with 15 bins. We fix the seed to 99.\n",
    " \n",
    "Make sure to play around with the seed to see its effect."
   ]
  },
  {
   "cell_type": "markdown",
   "metadata": {},
   "source": [
    "We load the packages of interest"
   ]
  },
  {
   "cell_type": "code",
   "execution_count": 1,
   "metadata": {},
   "outputs": [],
   "source": [
    "#packages\n",
    "import numpy as np\n",
    "import matplotlib.pyplot as plt"
   ]
  },
  {
   "cell_type": "markdown",
   "metadata": {},
   "source": [
    "Numpy offers a random number generator. We fix its seed to 99. Notice, the seed ensures everyone can re-generate your \"stochastic\" results to verify your work."
   ]
  },
  {
   "cell_type": "code",
   "execution_count": 3,
   "metadata": {},
   "outputs": [],
   "source": [
    "#seed\n",
    "np.random.seed(99) "
   ]
  },
  {
   "cell_type": "markdown",
   "metadata": {},
   "source": [
    "Next, we draw 10,000 times from U(0,1) and save it in $x$"
   ]
  },
  {
   "cell_type": "code",
   "execution_count": 4,
   "metadata": {},
   "outputs": [],
   "source": [
    "# 10,000 U(0,1) draws from numpy package\n",
    "x = np.random.uniform(low=0, high=1, size=10000)"
   ]
  },
  {
   "cell_type": "markdown",
   "metadata": {},
   "source": [
    "Next, we represent $x$ via a histogram with 15 bins"
   ]
  },
  {
   "cell_type": "code",
   "execution_count": 6,
   "metadata": {},
   "outputs": [
    {
     "data": {
      "image/png": "[encoded data removed]",
      "text/plain": [
       "<Figure size 432x288 with 1 Axes>"
      ]
     },
     "metadata": {
      "needs_background": "light"
     },
     "output_type": "display_data"
    }
   ],
   "source": [
    "#plot U(0,1), using 15 bins on the [0,1] interval\n",
    "count, bins, ignored = plt.hist(x, 15, density=True)"
   ]
  },
  {
   "cell_type": "code",
   "execution_count": null,
   "metadata": {},
   "outputs": [],
   "source": []
  },
  {
   "cell_type": "markdown",
   "metadata": {},
   "source": [
    "## F.2 Simulating N(0,1) \n",
    "\n",
    "Here, we do the following. We generate 10 000 data points of a N(0,1) distributed random variable. Next, we plot the results as a histogram with 15 bins. We fix the seed to 99.\n",
    " \n",
    "Make sure to play around with the seed to see its effect."
   ]
  },
  {
   "cell_type": "markdown",
   "metadata": {},
   "source": [
    "First, we load the packages that we rely upon"
   ]
  },
  {
   "cell_type": "code",
   "execution_count": 7,
   "metadata": {},
   "outputs": [],
   "source": [
    "#packages\n",
    "import numpy as np\n",
    "import matplotlib.pyplot as plt"
   ]
  },
  {
   "cell_type": "markdown",
   "metadata": {},
   "source": [
    "Second, we fix the seed to the required value of 99 (for this exercise)"
   ]
  },
  {
   "cell_type": "code",
   "execution_count": 8,
   "metadata": {},
   "outputs": [],
   "source": [
    "#seed\n",
    "np.random.seed(99)"
   ]
  },
  {
   "cell_type": "markdown",
   "metadata": {},
   "source": [
    "Third, we draw 10,000 times from a N(0,1) and save the output in $x$."
   ]
  },
  {
   "cell_type": "code",
   "execution_count": 9,
   "metadata": {},
   "outputs": [],
   "source": [
    "#10,000 N(0,1) draws from numpy package\n",
    "x = np.random.normal(0, 1, size=10000)"
   ]
  },
  {
   "cell_type": "markdown",
   "metadata": {},
   "source": [
    "Fourth, we represent $x$ via a histogram with 15 bins"
   ]
  },
  {
   "cell_type": "code",
   "execution_count": 10,
   "metadata": {},
   "outputs": [
    {
     "data": {
      "image/png": "[encoded data removed]",
      "text/plain": [
       "<Figure size 432x288 with 1 Axes>"
      ]
     },
     "metadata": {
      "needs_background": "light"
     },
     "output_type": "display_data"
    }
   ],
   "source": [
    "#plot N(0,1), using 15 bins of the [0,1] interval and normalize histogram to display prob density function\n",
    "count, bins, ignored = plt.hist(x, 15, density=True)"
   ]
  },
  {
   "cell_type": "code",
   "execution_count": null,
   "metadata": {},
   "outputs": [],
   "source": []
  },
  {
   "cell_type": "markdown",
   "metadata": {},
   "source": [
    "## F.3 Simulating $MVN(\\mu,\\Sigma)$\n",
    "\n",
    "Here, we do the following. We draw 10,000 times from a bivariate multivariate Gaussian distribution. First, we assume the pairwise correlation to be zero. So, the joint distribution will be iid in the time-series and cross-sectional dimension. The two-dimensional uncorrelated MVN of interest reads\n",
    "\n",
    "$$\n",
    "X_a \\sim N(0,\\Sigma_a), \\quad \\Sigma_a = \\begin{pmatrix}1 & 0\\\\\\ 0 & 1\\end{pmatrix}.\n",
    "$$  \n",
    "\n",
    "\n",
    "Second, we compare the results to another sample of 10,000 draws from a strongly cross-sectionally correlated MVN\n",
    "\n",
    "$$\n",
    "X_b \\sim N(0,\\Sigma_b), \\quad \\Sigma_b = \\begin{pmatrix}1 & 0.8\\\\\\ 0.8 & 1\\end{pmatrix}.\n",
    "$$\n",
    "\n",
    "Looking at both histograms visualizes the effect of correlation and pairwise independence.\n",
    "\n",
    "Note, I on purpose wrote \"cross-sectional\", although I usually do not do that in these lecture notes. Yet, I want to introduce you to the concept that as you observe in each point of time returns of different assets, you basically observe a cross-section of returns. Correlated returns in the cross-section, is different than a correlation in the time-series dimension. The latter can be captured by ARMA models, while for the latter we need vector ARMA models, called VARMA, which I introduce you to at the end of our BSc course.\n",
    "\n",
    "Note, work with a seed of 99, use 100 bins for the histograms.\n"
   ]
  },
  {
   "cell_type": "markdown",
   "metadata": {},
   "source": [
    "First, we call the packages that we need"
   ]
  },
  {
   "cell_type": "code",
   "execution_count": 11,
   "metadata": {},
   "outputs": [],
   "source": [
    "#packages\n",
    "import numpy as np\n",
    "import matplotlib.pyplot as plt"
   ]
  },
  {
   "cell_type": "markdown",
   "metadata": {},
   "source": [
    "Second, we fix the seed to 99."
   ]
  },
  {
   "cell_type": "code",
   "execution_count": 12,
   "metadata": {},
   "outputs": [],
   "source": [
    "#seed\n",
    "np.random.seed(99)"
   ]
  },
  {
   "cell_type": "markdown",
   "metadata": {},
   "source": [
    "Third, we draw 10.000 realizations of a multivariate Gaussian. Notice, that in this example the multivariate Gaussian is nothing else than two pairwise indepenent univariate Gaussians with mean 0 and variance 1. Yet, in our notation, we work with multivariate calculus and code. We save the output in $X_a$"
   ]
  },
  {
   "cell_type": "code",
   "execution_count": 13,
   "metadata": {},
   "outputs": [],
   "source": [
    "#X_a\n",
    "mu_a = np.array([0, 0]) #mean\n",
    "Sigma_a = np.array([[1, 0], [0, 1]]) #covariance matrix\n",
    "x_1a, x_2a = np.random.multivariate_normal(mu_a, Sigma_a, 10000).T #draw"
   ]
  },
  {
   "cell_type": "markdown",
   "metadata": {},
   "source": [
    "Fourth, we plot a two dimensional histogram for the 10,000 realizations of the bivariate output. "
   ]
  },
  {
   "cell_type": "code",
   "execution_count": 14,
   "metadata": {},
   "outputs": [
    {
     "data": {
      "image/png": "[encoded data removed]",
      "text/plain": [
       "<Figure size 432x288 with 1 Axes>"
      ]
     },
     "metadata": {
      "needs_background": "light"
     },
     "output_type": "display_data"
    }
   ],
   "source": [
    "#plot X_a\n",
    "plt.hist2d(x_1a, x_2a, bins=100, density=True) #100 bins and normalize histogram to form a prob density function\n",
    "plt.show()"
   ]
  },
  {
   "cell_type": "markdown",
   "metadata": {},
   "source": [
    "Fifth, simulate a strongly correlated bivariate Gaussian, with variance 1 and covariance 0.8. Save the output in $X_b$"
   ]
  },
  {
   "cell_type": "code",
   "execution_count": 15,
   "metadata": {},
   "outputs": [],
   "source": [
    "#X_b\n",
    "mu_b = np.array([0, 0]) #mean\n",
    "Sigma_b = np.array([[1, 0.8], [0.8, 1]]) #covariance matrix\n",
    "x_1b, x_2b = np.random.multivariate_normal(mu_b, Sigma_b, 10000).T #draw"
   ]
  },
  {
   "cell_type": "markdown",
   "metadata": {},
   "source": [
    "Sixth, plot the two-dimensional histogram for $X_b$"
   ]
  },
  {
   "cell_type": "code",
   "execution_count": 16,
   "metadata": {},
   "outputs": [
    {
     "data": {
      "image/png": "[encoded data removed]",
      "text/plain": [
       "<Figure size 432x288 with 1 Axes>"
      ]
     },
     "metadata": {
      "needs_background": "light"
     },
     "output_type": "display_data"
    }
   ],
   "source": [
    "#plot X_b\n",
    "plt.hist2d(x_1b, x_2b, bins=100, density=True)\n",
    "plt.show()"
   ]
  },
  {
   "cell_type": "code",
   "execution_count": null,
   "metadata": {},
   "outputs": [],
   "source": []
  },
  {
   "cell_type": "markdown",
   "metadata": {},
   "source": [
    "## F.4 Simulate an AR(2) Process\n",
    "\n",
    "Here, we simulate 500 observations of a mean-zero Gaussian AR(2) process with $\\phi_1 = 0.6$, $\\phi_2 = 0.2$ and $\\sigma = 0.3$. Fix the seed to 1234. Use the first two residuals as starting values of the actual time series. Plot the time series and comment on its shape."
   ]
  },
  {
   "cell_type": "markdown",
   "metadata": {},
   "source": [
    "First, we load packages of interest"
   ]
  },
  {
   "cell_type": "code",
   "execution_count": 17,
   "metadata": {},
   "outputs": [],
   "source": [
    "#packages\n",
    "import numpy as np\n",
    "import matplotlib.pyplot as plt"
   ]
  },
  {
   "cell_type": "markdown",
   "metadata": {},
   "source": [
    "Second, fix the parameters of the AR(2) DGP"
   ]
  },
  {
   "cell_type": "code",
   "execution_count": 18,
   "metadata": {},
   "outputs": [],
   "source": [
    "# DGP for AR(2) with N(0,sigma) shocks\n",
    "phi_1 = 0.6 #lag 1 coefficient\n",
    "phi_2 = 0.2 #lag 2 coefficient\n",
    "sigma = 0.3 # vol (standard deviation) of residual"
   ]
  },
  {
   "cell_type": "markdown",
   "metadata": {},
   "source": [
    "Third, fix the number of paths, the number of time points per path and the seed. In that example, we draw only ONE path. This path consists of 500 TIME POINTS. The seed takes the creative number of 1234."
   ]
  },
  {
   "cell_type": "code",
   "execution_count": 19,
   "metadata": {},
   "outputs": [],
   "source": [
    "#T draws \n",
    "T = 500  # sample length\n",
    "\n",
    "#fixed seed of 1234\n",
    "np.random.seed(1234) #rng seed"
   ]
  },
  {
   "cell_type": "markdown",
   "metadata": {},
   "source": [
    "Fourth, here comes the key line for the simulation. We draw random realizations of the Gaussian residual with standard deviation $\\sigma$ and save the output as $eps$. Note, as we draw 500 realizations, you can interpret that as 500 time points along one path."
   ]
  },
  {
   "cell_type": "code",
   "execution_count": 20,
   "metadata": {},
   "outputs": [],
   "source": [
    "#N(0,sigma) shocks\n",
    "eps = np.random.normal(0, sigma, size=T)"
   ]
  },
  {
   "cell_type": "markdown",
   "metadata": {},
   "source": [
    "Fifth, now that parameters and residual are known to the computer, we add them up according to the AR(2) DGP and save the output in $r$. The first two realized residuals are taken to coincide with $r_1$ and $r_2$. This is one way to do it (and the one that the exercise is asking for). "
   ]
  },
  {
   "cell_type": "code",
   "execution_count": 21,
   "metadata": {},
   "outputs": [],
   "source": [
    "#AR(2) DGP is sampled\n",
    "\n",
    "#allocate numpy array to r\n",
    "r = np.zeros(T)\n",
    "\n",
    "#r_1 and r_2 are starting values, and here set to eps_1 and eps_2\n",
    "r[0:2] = eps[0:2]\n",
    "\n",
    "#loop through T\n",
    "for t in range(2,T):\n",
    "    r[t] = phi_1 * r[t-1] + phi_2 * r[t-2] + eps[t]    #AR(2) without constant\n",
    "    "
   ]
  },
  {
   "cell_type": "markdown",
   "metadata": {},
   "source": [
    "Sixth, we plot $r$. You can think of $r$ as being a time series of realized returns. The time-series exhibits a correlation because of $\\phi_1$ and $\\phi_2$. The larger these coefficients, the more persistent the time-series. Make sure to play around with these coefficients to get more intuition on how persistent, weakly persistent and non-persistent time series look like. "
   ]
  },
  {
   "cell_type": "code",
   "execution_count": 22,
   "metadata": {},
   "outputs": [
    {
     "data": {
      "image/png": "[encoded data removed]",
      "text/plain": [
       "<Figure size 432x288 with 1 Axes>"
      ]
     },
     "metadata": {
      "needs_background": "light"
     },
     "output_type": "display_data"
    }
   ],
   "source": [
    "#visualize r\n",
    "plt.plot(r);"
   ]
  },
  {
   "cell_type": "markdown",
   "metadata": {},
   "source": [
    "Seventh, let me comment on the time-series. Relative to actual returns, the following properties are NOT captured by an ARMA model:\n",
    "\n",
    "1. vol clustering \n",
    "\n",
    "2. jumps in returns\n",
    "\n",
    "3. jumps in volatility.  \n",
    "\n",
    "Note: vol clustering means that there are clusters of high volatility periods and clusters of low volatility periods. In ARMA models, the volatlity is always a constant $\\sigma$. Later in the course, I teach you about ARCH-GARCH models to capture vol clustering.\n",
    "\n",
    "Note: jumps in returns means that realized returns do not \"diffuse\", but can also change abruptly. \"Diffusion\" usually refers to Gaussian movements, while abrupt changes are 5, 10, 20 etc standard deviation events. In order to capture such events, $\\epsilon$ needs to be two dimensional, where one dimension is a diffusion, while the other one could be Poisson jumps.\n",
    "\n",
    "Note: Once we talk about modeling volatility, I will show you that realized volatility (standard deviation) exhibits 5+ standard deviation events. A clear indiciation of jumps in the second moment of returns."
   ]
  },
  {
   "cell_type": "code",
   "execution_count": null,
   "metadata": {},
   "outputs": [],
   "source": []
  }
 ],
 "metadata": {
  "kernelspec": {
   "display_name": "Python 3",
   "language": "python",
   "name": "python3"
  },
  "language_info": {
   "codemirror_mode": {
    "name": "ipython",
    "version": 3
   },
   "file_extension": ".py",
   "mimetype": "text/x-python",
   "name": "python",
   "nbconvert_exporter": "python",
   "pygments_lexer": "ipython3",
   "version": "3.7.6"
  }
 },
 "nbformat": 4,
 "nbformat_minor": 4
}