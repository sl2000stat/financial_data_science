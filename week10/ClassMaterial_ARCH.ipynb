{
 "cells": [
  {
   "cell_type": "markdown",
   "metadata": {},
   "source": [
    "# A Online Lecture (65min)\n",
    "\n",
    "$$\n",
    "\\\\\n",
    "$$\n",
    "\n",
    "## A.1 Heteroscedasticity in Returns\n",
    "\n",
    "- **Lenghth:**  3min\n",
    "\n",
    "- **URL:**   not yet posted\n",
    "\n",
    "$$\n",
    "\\\\\n",
    "$$\n",
    "\n",
    "## A.2 Volatility is an Unobserved Quantity. How to make it observable?\n",
    "\n",
    "- **Lenghth:**  3min\n",
    "\n",
    "- **URL:**   not yet posted\n",
    "\n",
    "$$\n",
    "\\\\\n",
    "$$\n",
    "\n",
    "## A.3 Basics of ARCH-GARCH Modeling\n",
    "\n",
    "- **Lenghth:**  4min\n",
    "\n",
    "- **URL:** https://www.youtube.com/watch?v=gO0jv2UcRp0&list=PLyQSjcv8LwAE6Wmf4RWY4AuG_kGq1TNyZ&index=1&t=17s  \n",
    "\n",
    "$$\n",
    "\\\\\n",
    "$$\n",
    "\n",
    "## A.4 How do I know whether a Time Series has Stochastic Volatility?\n",
    "\n",
    "- **Lenghth:**  4min\n",
    "\n",
    "- **URL:** https://www.youtube.com/watch?v=bXuFx-VhU3Q&list=PLyQSjcv8LwAE6Wmf4RWY4AuG_kGq1TNyZ&index=2  \n",
    "\n",
    "$$\n",
    "\\\\\n",
    "$$\n",
    "\n",
    "## A.5 Test #1 for whether a Time Series has Stochastic Volatility: Portmanteau Test\n",
    "\n",
    "- **Lenghth:**  4min\n",
    "\n",
    "- **URL:** https://www.youtube.com/watch?v=MEO45x38a2I&list=PLyQSjcv8LwAE6Wmf4RWY4AuG_kGq1TNyZ&index=3 \n",
    "\n",
    "$$\n",
    "\\\\\n",
    "$$\n",
    "\n",
    "## A.6 Test #2 for whether a Time Series has Stochastic Volatility: LM Test\n",
    "\n",
    "- **Lenghth:**  4min\n",
    "\n",
    "- **URL:** https://www.youtube.com/watch?v=pZG4qXH3ej0&list=PLyQSjcv8LwAE6Wmf4RWY4AuG_kGq1TNyZ&index=4  \n",
    "\n",
    "\n",
    "$$\n",
    "\\\\\n",
    "$$\n",
    "\n",
    "## A.7  The ARCH(1) Model\n",
    "\n",
    "- **Lenghth:**   18min\n",
    "\n",
    "- **URL:** https://www.youtube.com/watch?v=xWdZHIVcrWg&list=PLyQSjcv8LwAE6Wmf4RWY4AuG_kGq1TNyZ&index=6 \n",
    "\n",
    "$$\n",
    "\\\\\n",
    "$$\n",
    "\n",
    "## A.8     Do S&P 500 Returns follow an ARCH(1)?  \n",
    "\n",
    "- **Lenghth:**   11 min\n",
    "\n",
    "- **URL:** https://www.youtube.com/watch?v=pJ2nag6vyiA&list=PLyQSjcv8LwAE6Wmf4RWY4AuG_kGq1TNyZ&index=6  \n",
    "\n",
    "$$\n",
    "\\\\\n",
    "$$\n",
    "\n",
    "## A.9    Do S&P 500 Returns follow an ARCH(m)?  \n",
    "\n",
    "- **Lenghth:**     14 min\n",
    "\n",
    "- **URL:** https://www.youtube.com/watch?v=lhjh4wLAfrI&list=PLyQSjcv8LwAE6Wmf4RWY4AuG_kGq1TNyZ&index=9  \n",
    "\n",
    " \n",
    "\n"
   ]
  },
  {
   "cell_type": "code",
   "execution_count": null,
   "metadata": {},
   "outputs": [],
   "source": []
  },
  {
   "cell_type": "markdown",
   "metadata": {},
   "source": [
    "# B. Tutorial and Revision Manual"
   ]
  },
  {
   "cell_type": "markdown",
   "metadata": {},
   "source": [
    "## B.1 Heteroscedasticity as Part of Return Decomposition "
   ]
  },
  {
   "cell_type": "markdown",
   "metadata": {},
   "source": [
    "**homoscedastic return decomposition**\n",
    "\n",
    "\\begin{align}\n",
    "r_{t} & \\equiv \\mu_{t-1} + \\epsilon_{t},  \\quad \\epsilon_t :\\sim i.i.d.(0,\\sigma^2_{\\epsilon})\n",
    "\\end{align}\n",
    "\n",
    "$$ \n",
    "\\\\ \n",
    "$$\n",
    "\n",
    "- stochastic volatility in returns arises when allowing $\\sigma^2_{\\epsilon}$ be time-varying.\n",
    "\n",
    "$$ \n",
    "\\\\ \n",
    "$$\n",
    "\n",
    "**Heteroscedastic Return decomposition** \n",
    "\n",
    "\n",
    "\\begin{align}\n",
    "r_t &= \\mu_{t-1} + \\epsilon_t; \\quad \\epsilon_t \\equiv \\sigma_{t-1} \\, \\times \\, \\eta_t, \\; \\eta_t :\\sim i.i.d.(0,1) \\\\\\\\\n",
    "\\mu_{t-1} &:= E [r_t | \\mathcal{F}_{t-1}] \\\\\\\\\n",
    "\\sigma^2_{t-1} &:=  Var(r_t|\\mathcal{F}_{t-1}) \n",
    "\\end{align}\n",
    "\n",
    " \n",
    "  \n",
    "\n"
   ]
  },
  {
   "cell_type": "markdown",
   "metadata": {},
   "source": [
    "## B.2 Making Vol Observable"
   ]
  },
  {
   "cell_type": "markdown",
   "metadata": {},
   "source": [
    "- compute 'realized variance' \n",
    "-  estimate parametric model, e.g. ARCH-GARCH  \n",
    "- short cuts: e.g. daily high log price minus its daily low log price. \n",
    "- option-implied variance\n",
    "\n",
    " \n",
    "\n",
    " "
   ]
  },
  {
   "cell_type": "markdown",
   "metadata": {},
   "source": [
    "## B.3 Basics of ARCH/GARCH Modeling"
   ]
  },
  {
   "cell_type": "markdown",
   "metadata": {},
   "source": [
    " \n",
    "\\begin{align*}\n",
    "r_{t}& \\equiv \\mu_{t-1}+ \\epsilon_{t}.\n",
    "\\end{align*}\n",
    "\n",
    "\n",
    "-  parametrization of $\\mu_{t-1}$ is the 'Mean Equation':\n",
    "\n",
    "\\begin{align}\n",
    "\\mu_{t-1} &:=\\phi_{0}+\\underbrace{\\sum_{i=1}^{p}\\phi_{i}r_{t-i}+\\sum_{i=1}^{q}\\theta_{i} \\epsilon_{t-i}}_{\\text{ARMA(p,q)}} + \\underbrace{\\sum_{i=1}^{k} \\beta_i x_{it-1}}_{\\text{k factor risk premiums}}.  \\quad \\quad \\quad \\text{:'Mean Equation'}\n",
    "\\end{align}\n",
    "\n",
    "$$\n",
    "\\\\\n",
    "$$\n",
    "\n",
    "$$\n",
    "\\\\\n",
    "$$\n",
    " \n",
    "We think of unexpected return innovations $\\epsilon_t$ to be the product of two components, volatility $\\sigma_{t-1}$ (expected squared deviations from the mean), and fundamental return shock $\\eta_t$ (innovation)\n",
    "\n",
    "$$\n",
    "\\epsilon_t \\equiv \\sigma_{t-1} \\; \\times \\; \\eta_t.\n",
    "$$\n",
    "\n",
    "\n",
    " \n",
    "$$\n",
    "\\eta_t \\sim iid(0,1).\n",
    "$$\n",
    "\n",
    "\n",
    "$$\n",
    "\\\\\n",
    "$$\n",
    " \n",
    "Different ARCH and GARCH models do assume a slightly different parametric structure for \n",
    "\n",
    "$$\n",
    "\\sigma^2_{t-1} = .... \\quad \\quad \\text{: Variance Equation}\n",
    "$$\n",
    "\n",
    " \n",
    " "
   ]
  },
  {
   "cell_type": "markdown",
   "metadata": {},
   "source": [
    "## B.3 Testing for Heteroscedasticity\n",
    "\n",
    "### Portmanteau Test\n",
    "\n",
    " \n",
    "First,  determine the empirical auto-correlation $\\hat{\\rho}_i$ of squared residuals for a lag length of up to $m$:\n",
    "\n",
    "$$\n",
    "\\hat{\\rho}_i = \\frac{\\sum_{t=i+1}^{T} (\\epsilon^2_t - \\bar{\\epsilon}^2)(\\epsilon^2_{t-i} - \\bar{\\epsilon}^2)}{\\sum_{t=1}^T (\\epsilon^2_t - \\bar{\\epsilon}^2)^2}, \\quad 0 \\leq i < T-1\n",
    "$$\n",
    "\n",
    "where $\\bar{\\epsilon}^2$ is the sample mean of $\\{\\epsilon^2_t\\}_t$. \n",
    "\n",
    "\n",
    "Second,  \n",
    "\n",
    "$$\n",
    "H_0: \\rho_1 = ... = \\rho_m = 0 \\qquad H_{a}: \\rho_i \\neq 0\\; \\text{for some} \\; i \\in \\{1,...,m\\}.\n",
    "$$\n",
    "\n",
    " \n",
    "\n",
    "$$\n",
    "\\\\\n",
    "$$\n",
    "\n",
    "Third, Test statistic:\n",
    "\n",
    "$$\n",
    "Q(m) = T(T+2) \\sum_{l=1}^{m} \\frac{\\hat{\\rho}^2_l}{T-l}.\n",
    "$$\n",
    "\n",
    "Reject $H_0$  if\n",
    "\n",
    "$$\n",
    "Q(m) > \\chi^2_{100(1-\\alpha)}(m),\n",
    "$$ \n",
    "\n",
    "or \n",
    "\n",
    "$$\n",
    "p < \\alpha.\n",
    "$$\n",
    " \n",
    "$$\n",
    "\\\\\n",
    "$$\n",
    "\n",
    "$$\n",
    "\\\\\n",
    "$$\n",
    "\n",
    "### Lagrange Multiplier Test \n",
    "\n",
    " \n",
    "First, \n",
    "\n",
    "\\begin{align*}\n",
    "\\epsilon^2_t &= c + \\rho_1 \\epsilon^2_{t-1} + ... + \\rho_m \\epsilon^2_{t-m} + e_t, \\quad, t = m+1, ..., T. \\\\ \n",
    "\\end{align*}\n",
    "\n",
    "Second,  \n",
    "\n",
    "$$\n",
    "H_0: \\rho_1 = ... = \\rho_m = 0, \\qquad H_{a}: \\rho_i \\neq 0\\; \\text{for some} \\; i \\in \\{1,...,m\\}.\n",
    "$$\n",
    "\n",
    "$$\n",
    "\\\\\n",
    "$$\n",
    " \n",
    "\n",
    "Third, test statistic: \n",
    "\n",
    "\\begin{align*}\n",
    "    F(m) &:= \\frac{(SSR_0 - SSR_1)/m}{SSR_1 / (T-2m-1)} \\\\\\\\\n",
    "    SSR_0 &:= \\sum_{t=m+1}^T (\\epsilon^2_t - \\frac{1}{T} \\sum_{t=1}^T \\epsilon^2_t)^2 \\\\\\\\\n",
    "    SSR_1 &:= \\sum_{t=m+1}^T \\hat{e}^2_{t},\n",
    "\\end{align*}\n",
    "\n",
    "where $\\hat{e}$ is the least squares residual of the prior regression.\n",
    "\n",
    "\n",
    "Fourth, reject $H_0$   if\n",
    "\n",
    "$$\n",
    "F(m) > \\chi^2_{100(1-\\alpha)}(m),\n",
    "$$ \n",
    "\n",
    "or \n",
    "\n",
    "$$\n",
    "p < \\alpha.\n",
    "$$\n",
    "\n",
    " "
   ]
  },
  {
   "cell_type": "markdown",
   "metadata": {},
   "source": []
  },
  {
   "cell_type": "markdown",
   "metadata": {},
   "source": [
    "\n"
   ]
  },
  {
   "cell_type": "markdown",
   "metadata": {},
   "source": [
    "## B.4 ARCH(1) Model\n",
    "\n",
    "An ARCH(1) model assumes the following parametrization for the conditional variance of prediction errors\n",
    "\n",
    "\\begin{align}\n",
    "\\sigma^2_{t-1}&=\\alpha_{0}+\\alpha_{1} \\, \\times \\, \\epsilon_{t-1}^{2},\n",
    "\\end{align}\n",
    "\n",
    "$$\n",
    "\\\\\n",
    "$$\n",
    "\n",
    "**Mean**\n",
    "\n",
    "$$\n",
    "E[\\epsilon_t] \\overbrace{=}^{ARCH(1)} 0.\n",
    "$$\n",
    "\n",
    "$$\n",
    "\\\\\n",
    "$$\n",
    "**Variance**\n",
    "\n",
    "$$\n",
    "Var(\\epsilon_t) = \\frac{\\alpha_0}{1-\\alpha_1} \\quad \\text{for} \\quad 0 \\leq \\alpha_1 < 1.\n",
    "$$\n",
    "\n",
    "$$\n",
    "\\\\\n",
    "$$\n",
    "\n",
    "**Kurtosis**\n",
    "\n",
    "$$\n",
    "Kurt(\\epsilon_t) = \\frac{1-\\alpha^2_1}{1-3 \\alpha^2_1} \\, \\times \\, 3. \n",
    "$$\n",
    "\n",
    "\n",
    " "
   ]
  },
  {
   "cell_type": "markdown",
   "metadata": {},
   "source": [
    "## B.5 Estimating AR(0)-ARCH(1) Model\n",
    "\n",
    "\n",
    "**AR(0)-ARCH(1) model:**\n",
    "\n",
    "\\begin{align*}\n",
    "r^M_t &:= \\mu + \\epsilon_t, \\quad \\epsilon_t \\sim i.i.d. N(0,\\sigma^2_{t-1})\\\\\\\\\n",
    "\\sigma^2_{t-1} & := \\alpha_0 + \\alpha_1 \\, \\times \\, \\epsilon^2_{t-1}. \n",
    "\\end{align*}\n",
    "\n",
    "$$\n",
    "\\\\\n",
    "$$\n",
    "\n",
    "**Training set:**  \n",
    "\n",
    "$$\n",
    "\\{r^M_t\\}_{t \\in Tr}.\n",
    "$$\n",
    "\n",
    "\n",
    "$$\n",
    "\\\\\n",
    "$$\n",
    "\n",
    "**Joint probability:**  \n",
    "\n",
    "\\begin{align*}\n",
    "& prob \\left( \\{r^M_t\\}_{t \\in Tr}| \\; \\mu, \\alpha_0, \\alpha_1 \\right) = \\prod_{t=2}^u \\, \\frac{1}{\\sqrt{2 \\pi \\, \\times \\, (\\alpha_0 + \\alpha_1 \\epsilon^2_{t-1})}} \\, \\times \\, e^{-\\frac{1}{2} \\frac{(r^M_t - \\mu)^2}{\\alpha_0 + \\alpha_1 \\epsilon^2_{t-1}}} \\\\\\\\\n",
    "& =: \\, L_u(\\mu, \\alpha_0, \\alpha_1).\n",
    "\\end{align*}\n",
    "\t\n",
    "\n",
    "$$\n",
    "\\\\\n",
    "$$\n",
    "\n",
    "**Joint log-likelihood:**\n",
    "\n",
    "\\begin{align*}\n",
    "G(\\mu,\\alpha_0, \\alpha_1) & := \\ln L_u(\\mu, \\alpha_0, \\alpha_1) \\\\\\\\\n",
    "&= \\sum_{t=2}^u \\left( -\\frac{1}{2} \\ln (2\\pi) - \\frac{1}{2} \\ln \\left( \\alpha_0 + \\alpha_1 [r^M_{t-1} - \\mu]^2 \\right) - \\frac{1}{2} \\frac{(r^M_t - \\mu)^2}{\\alpha_0 + \\alpha_1 \\cdot (r^M_{t-1} - \\mu)^2} \\right).\n",
    "\\end{align*}\n",
    "\t\n",
    "$$\n",
    "\\\\\n",
    "$$\n",
    "\n",
    "**Numerical optimization:**\n",
    " \n",
    "\\begin{align*}\n",
    "\\{\\hat{\\mu}, \\hat{\\alpha}_0, \\hat{\\alpha}_1\\} := \\text{argmax} \\; G(\\mu, \\alpha_0, \\alpha_1).\n",
    "\\end{align*}\n",
    "\t\n",
    "$$\n",
    "\\\\\n",
    "$$\n",
    "\n",
    "**Forecast for next month's return variance:**  \n",
    "\n",
    "\n",
    "$$\n",
    "\\hat{Var}_u(r^M_{u+1}) = \\hat{\\alpha}_0 + \\hat{\\alpha}_1 \\, \\times \\, (r^M_u - \\hat{\\mu})^2 \\, \\equiv \\, \\hat{\\sigma}^2_u.\n",
    "$$\n",
    "\n",
    "\n",
    "$$\n",
    "\\\\\n",
    "$$\n",
    "\n",
    "**Forecast for two month's out:**  \n",
    "\\begin{align*}\n",
    "&  Var(r^M_{u+2}|\\mathcal{F}_u) \\overbrace{=}^{ARCH(1)} \\hat{\\alpha}_0 + \\hat{\\alpha}_1 \\, \\times \\, E_u[\\sigma^2_{u}] \\\\ \\\\\n",
    "&=  \\hat{\\alpha}_0 + \\hat{\\alpha}_1 \\, \\times \\, \\hat{\\sigma}^2_u, \\\\\\\\\n",
    "&=  \\hat{\\alpha}_0 + \\hat{\\alpha}_1 \\, \\times \\, Var(r^M_{u+1}|\\mathcal{F}_u)\n",
    "\\end{align*}\n",
    "\n",
    "\n",
    "$$\n",
    "\\\\\n",
    "$$\n",
    "\n",
    "**Forecast for h-month's out:** \n",
    "\n",
    "\\begin{align*}\n",
    "Var(r^M_{u+h}|\\mathcal{F}_u) &= \\hat{\\alpha}_0 + \\hat{\\alpha}_1 \\, \\times \\, Var(r^M_{u+h-1}|\\mathcal{F}_u); \\quad \\text{for}\\quad h>0 \\; \\text{and} \\; u \\in Tr\\\\ \\\\\n",
    "& s.t. \\; Var_u(r^M_{u+1})  = \\hat{\\sigma}^2_u \\; \\equiv \\; \\hat{\\alpha}_0 + \\hat{\\alpha}_1 \\, \\times \\, (r^M_u-\\hat{\\mu})^2. \\\\\\\\\n",
    "\\end{align*}"
   ]
  },
  {
   "cell_type": "markdown",
   "metadata": {},
   "source": [
    "## B.6 Estimating an ARMA(p,q)-ARCH(m) Model\n",
    "\n",
    "**Parametric model:**\n",
    "\n",
    "\\begin{align*}\n",
    "r^M_t &= \\phi_0 + \\phi_1 r^M_{t-1} + ... + \\phi_M r^M_{t-p} + \\theta_1 \\epsilon_{t-1} + ...+\\theta_q\\epsilon_{t-q} \\; + \\; \\epsilon_t; \\; \\text{with} \\; \\epsilon_t \\equiv \\sigma_{t-1} \\times \\eta_t; \\;   \\eta_t \\sim iid (0,1) \\; \\text{and} \\\\\\\\\n",
    "\\sigma^2_{t-1} &= \\alpha_0 + \\alpha_1 \\epsilon^2_{t-1} + ... + \\alpha_m \\epsilon^2_{t-m}.\n",
    "\\end{align*}\n",
    "\n",
    "$$\n",
    "\\\\\n",
    "$$\n",
    "\n",
    "**joint log-likelihood:**\n",
    "\n",
    "\\begin{align*}\n",
    "& \\{\\hat{\\phi}_{0,MLE}, \\hat{\\phi}_{1,MLE}, ..., \\hat{\\phi}_{p,MLE}, \\hat{\\theta}_{1,MLE}, ..., \\hat{\\theta}_{q,MLE}, \\hat{\\alpha}_{0,MLE}, \\hat{\\alpha}_{1,MLE}, ..., \\hat{\\alpha}_{m,MLE}\\}  \\\\\\\\\n",
    "& := \\text{argmax} \\; ln L(\\phi_0, \\phi_1, ..., \\phi_p, \\theta_1, ..., \\theta_q, \\hat{\\alpha}_0, \\hat{\\alpha}_1, ..., \\hat{\\alpha}_m| \\; \\{r^M_t\\}_{t \\in Tr})\n",
    "\\end{align*}\n",
    "\n",
    "where the log-likelihood function reads\n",
    "\n",
    "\\begin{align*}\n",
    "ln L(.) &= \\sum_{t=1+max(p,q,m)}^T -\\frac{1}{2} \\ln (2\\pi) - \\frac{1}{2} \\ln ( \\alpha_0 + \\alpha_1 \\epsilon^2_{t-1} + ... + \\alpha_m \\epsilon^2_{t-m} ) - \\frac{1}{2} \\, \\frac{\\epsilon^2_t}{ \\alpha_0 + \\alpha_1 \\epsilon^2_{t-1} + ... + \\alpha_m \\epsilon^2_{t-m} } \\quad \\text{with} \\; \\\\\\\\\n",
    "\\epsilon_t & \\equiv r^M_t - \\phi_0 - \\phi_1 r^M_{t-1} - ... - \\phi_p r^M_{t-p} - \\theta_1 \\epsilon_{t-1} - ... - \\theta_q \\epsilon_{t-q}. \n",
    "\\end{align*}"
   ]
  },
  {
   "cell_type": "markdown",
   "metadata": {},
   "source": [
    "# C. Quizzes - Basics\n",
    "\n",
    "see ilias."
   ]
  },
  {
   "cell_type": "code",
   "execution_count": null,
   "metadata": {},
   "outputs": [],
   "source": []
  },
  {
   "cell_type": "markdown",
   "metadata": {},
   "source": [
    "# D. Exercises - Challenging"
   ]
  },
  {
   "cell_type": "markdown",
   "metadata": {},
   "source": [
    "## D.1 Making Vol Observable\n",
    "\n",
    "Name and explain 4 different methods for determinig the last trading day's return volatility of the S&P 500 "
   ]
  },
  {
   "cell_type": "markdown",
   "metadata": {},
   "source": [
    "## D.2 Mean vs Variance Equation\n",
    "\n",
    "Take any non-trivial ARMA(p,q) model to explain the concept of 'mean-' and 'variance' equation"
   ]
  },
  {
   "cell_type": "markdown",
   "metadata": {},
   "source": [
    "## D.3 Portmanteau Test\n",
    "\n",
    "Pick a time series of interest and explain how to apply a Portmanteau Test to decide whether or not the time series is heteroscedastic"
   ]
  },
  {
   "cell_type": "markdown",
   "metadata": {},
   "source": [
    "## D.4 LM Test\n",
    "\n",
    "Pick a time series of interest and explain how to apply an Engle (1982) test."
   ]
  },
  {
   "cell_type": "markdown",
   "metadata": {},
   "source": [
    "## D.5 AR(1)-ARCH(1) Model\n",
    "\n",
    "Assume the short-term interest rate follows a AR(1)-ARCH(1) model. Write down the data generating process. Write down the likelihood function. Derive the one-period and two-period ahead forecast for the future variance of the short-term interest rate. "
   ]
  },
  {
   "cell_type": "markdown",
   "metadata": {},
   "source": [
    "## D.6 AR(1)-ARCH(2)\n",
    "\n",
    "Assume the return on the S&P 500 follows a AR(1)-ARCH(2) model. Write down the data generating process. Write down the likelihood function. Determine the two period ahead return forecast. Determine the two period ahead variance forecast."
   ]
  },
  {
   "cell_type": "code",
   "execution_count": null,
   "metadata": {},
   "outputs": [],
   "source": []
  },
  {
   "cell_type": "markdown",
   "metadata": {},
   "source": [
    "# F. Python for Financial Data Analysis\n",
    "\n",
    "Dear students,\n",
    "\n",
    "the upcoming sections are on **measuring** and **forecasting** the conditional second moment of a stationary variable. In other words, its on time varying volatility, also called \"heteroscedasticity\".\n",
    "\n",
    "We approach that topic as follows:\n",
    "\n",
    "First, we write a function called \"lag_data(data, lags)\". It reads-in data and the maximum lag length in the explanatory variables and returns properly sized $y$ and $X$ variables. Said differently, if lags=2 and data=y(t=1,...,T), then the exogenous variables are made of y(t=1,...,T-2) and y(t=2,...,T-1) while the endogenous variable is y(t=3,...,T). We do that in F.1\n",
    "\n",
    "Second, we wonder whether a time series of interest shows sufficient evidence for being classified \"heteroscedastic\". The classifier is based on the Portmanteau test (i.e. Ljung-Box test). We do that in section F.2.\n",
    "\n",
    "Third, if the time series is heteroscedastic, we fit it to a stochastic volatility model. The simplest model will be to **assume** it is a draw of an AR(1)-ARCH(1) model. We estimate the parameters using an **iterative least squares approach**, called \"2 pass estimation\". Meaning: first we fit the AR(1) to extract a residual. Then, we fit an AR(1) to the squared residuals. Notice how we run two OLS regressions iteratively, which is fast and robust, yet, does not provide us with the MLE solution. But it gets very close(!). We do that in section F.3.\n",
    "\n",
    "Fourth, we check whether the resulting residual is free of heteroscedasticity. If it is not, we have to use a more complex parameterization to capture time-varying volatility. We do that in section F.4.\n",
    "\n"
   ]
  },
  {
   "cell_type": "markdown",
   "metadata": {},
   "source": [
    "Our **application** of choice is the **10-year government bond yield**. Feel free to re-do the exercise for the 3-month bond yield and to check whether both time-varying variances share similarities. You can also repeat the exercise for the equity returns that we work with in an early exercise."
   ]
  },
  {
   "cell_type": "code",
   "execution_count": 1,
   "metadata": {},
   "outputs": [],
   "source": [
    "import pandas as pd\n",
    "\n",
    "import matplotlib.pylab as plt"
   ]
  },
  {
   "cell_type": "code",
   "execution_count": 2,
   "metadata": {},
   "outputs": [
    {
     "data": {
      "text/html": [
       "<div>\n",
       "<style scoped>\n",
       "    .dataframe tbody tr th:only-of-type {\n",
       "        vertical-align: middle;\n",
       "    }\n",
       "\n",
       "    .dataframe tbody tr th {\n",
       "        vertical-align: top;\n",
       "    }\n",
       "\n",
       "    .dataframe thead th {\n",
       "        text-align: right;\n",
       "    }\n",
       "</style>\n",
       "<table border=\"1\" class=\"dataframe\">\n",
       "  <thead>\n",
       "    <tr style=\"text-align: right;\">\n",
       "      <th></th>\n",
       "      <th>3</th>\n",
       "      <th>6</th>\n",
       "      <th>12</th>\n",
       "      <th>24</th>\n",
       "      <th>36</th>\n",
       "      <th>60</th>\n",
       "      <th>84</th>\n",
       "      <th>120</th>\n",
       "    </tr>\n",
       "    <tr>\n",
       "      <th>Date</th>\n",
       "      <th></th>\n",
       "      <th></th>\n",
       "      <th></th>\n",
       "      <th></th>\n",
       "      <th></th>\n",
       "      <th></th>\n",
       "      <th></th>\n",
       "      <th></th>\n",
       "    </tr>\n",
       "  </thead>\n",
       "  <tbody>\n",
       "    <tr>\n",
       "      <th>1954-04-01</th>\n",
       "      <td>0.97</td>\n",
       "      <td>0.940464</td>\n",
       "      <td>0.96</td>\n",
       "      <td>1.209220</td>\n",
       "      <td>1.54</td>\n",
       "      <td>1.87</td>\n",
       "      <td>1.929210</td>\n",
       "      <td>2.29</td>\n",
       "    </tr>\n",
       "    <tr>\n",
       "      <th>1954-05-01</th>\n",
       "      <td>0.76</td>\n",
       "      <td>0.767847</td>\n",
       "      <td>0.85</td>\n",
       "      <td>1.183784</td>\n",
       "      <td>1.56</td>\n",
       "      <td>1.92</td>\n",
       "      <td>1.974341</td>\n",
       "      <td>2.37</td>\n",
       "    </tr>\n",
       "    <tr>\n",
       "      <th>1954-06-01</th>\n",
       "      <td>0.64</td>\n",
       "      <td>0.687447</td>\n",
       "      <td>0.82</td>\n",
       "      <td>1.174206</td>\n",
       "      <td>1.53</td>\n",
       "      <td>1.92</td>\n",
       "      <td>2.046101</td>\n",
       "      <td>2.38</td>\n",
       "    </tr>\n",
       "    <tr>\n",
       "      <th>1954-07-01</th>\n",
       "      <td>0.72</td>\n",
       "      <td>0.745219</td>\n",
       "      <td>0.84</td>\n",
       "      <td>1.141956</td>\n",
       "      <td>1.47</td>\n",
       "      <td>1.85</td>\n",
       "      <td>1.990559</td>\n",
       "      <td>2.30</td>\n",
       "    </tr>\n",
       "    <tr>\n",
       "      <th>1954-08-01</th>\n",
       "      <td>0.92</td>\n",
       "      <td>0.876895</td>\n",
       "      <td>0.88</td>\n",
       "      <td>1.130205</td>\n",
       "      <td>1.49</td>\n",
       "      <td>1.90</td>\n",
       "      <td>2.024843</td>\n",
       "      <td>2.36</td>\n",
       "    </tr>\n",
       "    <tr>\n",
       "      <th>...</th>\n",
       "      <td>...</td>\n",
       "      <td>...</td>\n",
       "      <td>...</td>\n",
       "      <td>...</td>\n",
       "      <td>...</td>\n",
       "      <td>...</td>\n",
       "      <td>...</td>\n",
       "      <td>...</td>\n",
       "    </tr>\n",
       "    <tr>\n",
       "      <th>2005-12-01</th>\n",
       "      <td>3.89</td>\n",
       "      <td>4.180000</td>\n",
       "      <td>4.35</td>\n",
       "      <td>4.400000</td>\n",
       "      <td>4.39</td>\n",
       "      <td>4.39</td>\n",
       "      <td>4.410000</td>\n",
       "      <td>4.47</td>\n",
       "    </tr>\n",
       "    <tr>\n",
       "      <th>2006-01-01</th>\n",
       "      <td>4.24</td>\n",
       "      <td>4.310000</td>\n",
       "      <td>4.45</td>\n",
       "      <td>4.400000</td>\n",
       "      <td>4.35</td>\n",
       "      <td>4.35</td>\n",
       "      <td>4.370000</td>\n",
       "      <td>4.42</td>\n",
       "    </tr>\n",
       "    <tr>\n",
       "      <th>2006-02-01</th>\n",
       "      <td>4.43</td>\n",
       "      <td>4.520000</td>\n",
       "      <td>4.68</td>\n",
       "      <td>4.670000</td>\n",
       "      <td>4.64</td>\n",
       "      <td>4.57</td>\n",
       "      <td>4.560000</td>\n",
       "      <td>4.57</td>\n",
       "    </tr>\n",
       "    <tr>\n",
       "      <th>2006-03-01</th>\n",
       "      <td>4.51</td>\n",
       "      <td>4.620000</td>\n",
       "      <td>4.77</td>\n",
       "      <td>4.730000</td>\n",
       "      <td>4.74</td>\n",
       "      <td>4.72</td>\n",
       "      <td>4.710000</td>\n",
       "      <td>4.72</td>\n",
       "    </tr>\n",
       "    <tr>\n",
       "      <th>2006-04-01</th>\n",
       "      <td>4.60</td>\n",
       "      <td>4.720000</td>\n",
       "      <td>4.90</td>\n",
       "      <td>4.890000</td>\n",
       "      <td>4.89</td>\n",
       "      <td>4.90</td>\n",
       "      <td>4.940000</td>\n",
       "      <td>4.99</td>\n",
       "    </tr>\n",
       "  </tbody>\n",
       "</table>\n",
       "<p>625 rows × 8 columns</p>\n",
       "</div>"
      ],
      "text/plain": [
       "             3         6     12        24    36    60        84    120\n",
       "Date                                                                  \n",
       "1954-04-01  0.97  0.940464  0.96  1.209220  1.54  1.87  1.929210  2.29\n",
       "1954-05-01  0.76  0.767847  0.85  1.183784  1.56  1.92  1.974341  2.37\n",
       "1954-06-01  0.64  0.687447  0.82  1.174206  1.53  1.92  2.046101  2.38\n",
       "1954-07-01  0.72  0.745219  0.84  1.141956  1.47  1.85  1.990559  2.30\n",
       "1954-08-01  0.92  0.876895  0.88  1.130205  1.49  1.90  2.024843  2.36\n",
       "...          ...       ...   ...       ...   ...   ...       ...   ...\n",
       "2005-12-01  3.89  4.180000  4.35  4.400000  4.39  4.39  4.410000  4.47\n",
       "2006-01-01  4.24  4.310000  4.45  4.400000  4.35  4.35  4.370000  4.42\n",
       "2006-02-01  4.43  4.520000  4.68  4.670000  4.64  4.57  4.560000  4.57\n",
       "2006-03-01  4.51  4.620000  4.77  4.730000  4.74  4.72  4.710000  4.72\n",
       "2006-04-01  4.60  4.720000  4.90  4.890000  4.89  4.90  4.940000  4.99\n",
       "\n",
       "[625 rows x 8 columns]"
      ]
     },
     "execution_count": 2,
     "metadata": {},
     "output_type": "execute_result"
    }
   ],
   "source": [
    "y_df = pd.read_excel(\"GovBondYields.xls\", index_col = [0])\n",
    "y_df"
   ]
  },
  {
   "cell_type": "code",
   "execution_count": 3,
   "metadata": {},
   "outputs": [
    {
     "data": {
      "text/plain": [
       "<matplotlib.axes._subplots.AxesSubplot at 0x7fbba8381ed0>"
      ]
     },
     "execution_count": 3,
     "metadata": {},
     "output_type": "execute_result"
    },
    {
     "data": {
      "image/png": "[encoded data removed]",
      "text/plain": [
       "<Figure size 432x288 with 1 Axes>"
      ]
     },
     "metadata": {
      "needs_background": "light"
     },
     "output_type": "display_data"
    }
   ],
   "source": [
    "#10-yr maturity rate\n",
    "y10_df = y_df.iloc[:,7]\n",
    "\n",
    "y10_df.plot() #annualized in percent"
   ]
  },
  {
   "cell_type": "markdown",
   "metadata": {},
   "source": [
    "## F.1 Generate lagged data from existing data to have proper y  and  𝑋 for AR(lag)"
   ]
  },
  {
   "cell_type": "markdown",
   "metadata": {},
   "source": [
    "**Generate lagged data from existing data to have proper $y$ and $X$ for AR(lag)**"
   ]
  },
  {
   "cell_type": "code",
   "execution_count": 4,
   "metadata": {},
   "outputs": [],
   "source": [
    "import numpy as np\n",
    "\n",
    "def lag_data(data, lags):\n",
    "    nobs = data.shape[0]\n",
    "    \n",
    "    y_lag = data[lags : nobs]\n",
    "    x_lag = np.matrix(np.zeros( (nobs-lags) * lags).reshape( (nobs-lags), lags) )\n",
    "    \n",
    "    for i in range(1, lags+1):\n",
    "        x_lag[:,i-1] = data[ (lags-i) : (nobs-i) ].reshape(nobs-lags, 1)\n",
    "        \n",
    "    return x_lag, y_lag"
   ]
  },
  {
   "cell_type": "code",
   "execution_count": 5,
   "metadata": {},
   "outputs": [
    {
     "name": "stdout",
     "output_type": "stream",
     "text": [
      "[[2.38 2.37 2.29]]\n",
      "2.3\n",
      "Date\n",
      "1954-04-01    2.29\n",
      "1954-05-01    2.37\n",
      "1954-06-01    2.38\n",
      "1954-07-01    2.30\n",
      "Name: 120, dtype: float64\n"
     ]
    }
   ],
   "source": [
    "## Test: AR(1), AR(2) and AR(3) on y10\n",
    "\n",
    "x_lag, y_lag = lag_data(y10_df.values, 3)\n",
    "\n",
    "#example: t=1\n",
    "print(x_lag[0,:])\n",
    "print(y_lag[0])\n",
    "print(y10_df.head(4))"
   ]
  },
  {
   "cell_type": "markdown",
   "metadata": {},
   "source": [
    "## F.2 Portmanteau Test (Ljung-Box Test) for AR(p) Residuals to search for ARCH(m) Effects"
   ]
  },
  {
   "cell_type": "markdown",
   "metadata": {},
   "source": [
    " \n",
    "$$ H_0: \\rho_1 = \\rho_2 = ... = \\rho_m = 0$$\n",
    "$$ H_1 : \\rho_l \\neq 0\\ \\textrm{for some}\\ l \\in \\{1,...,m\\}$$\n",
    "$$ Q(m) = T(T+2)\\sum_{l=1}^{m} \\frac{\\hat{\\rho}_l^2}{T-l} \\overset{a}{\\sim} \\chi^2(m)$$\n",
    "where $\\rho_l$ is the l-th auto-correlation in the time series of **squared residuals** of an AR(p) model."
   ]
  },
  {
   "cell_type": "code",
   "execution_count": 6,
   "metadata": {},
   "outputs": [],
   "source": [
    "import statsmodels.api as sm\n",
    "import pandas as pd\n",
    "from scipy import stats\n",
    "\n",
    "\n",
    "def Portmanteau_Test(data, p, m): \n",
    "\n",
    "    # Run OLS regression to obtain residuals of AR(p) model\n",
    "    #\n",
    "    Y = lag_data(data, p)[1]\n",
    "    X = sm.add_constant(lag_data(data, p)[0])\n",
    "    reg = sm.OLS(Y, X).fit()\n",
    "    resid = reg.resid\n",
    "\n",
    "    T = len(resid)\n",
    "\n",
    "    # Calculate auto-correlations in the squared residuals up to lag m\n",
    "    #\n",
    "    eps2_t = resid**2\n",
    "    # Iterate across all lags l \\in {1,..., m} and calculate test-statistic Q(m)\n",
    "    #\n",
    "    total = 0\n",
    "\n",
    "    for l in range(1, m+1):\n",
    "        rho2 = pd.Series(eps2_t).autocorr(l)**2\n",
    "        total = total + rho2 / (T - l)\n",
    "\n",
    "    Q = T * (T+2) * total\n",
    "\n",
    "    pval = stats.chi2.pdf(Q, m)\n",
    "\n",
    "    return Q, pval, eps2_t"
   ]
  },
  {
   "cell_type": "markdown",
   "metadata": {},
   "source": [
    "**Testing whether AR(1) for y10 as evidence for ARCH(m)**"
   ]
  },
  {
   "cell_type": "code",
   "execution_count": 7,
   "metadata": {},
   "outputs": [
    {
     "name": "stdout",
     "output_type": "stream",
     "text": [
      "Evidence for H_0 (Homoscedasticity): 1.753672567468515e-58\n",
      "Evidence for H_1 (Heteroscedasticity): 1.0\n"
     ]
    }
   ],
   "source": [
    "p = 1 #mean equation, AR(p)\n",
    "\n",
    "m=10 #test for ARCH(1:m); similar to an F test for a combination of parameters\n",
    "\n",
    "PT_y10_p_m = Portmanteau_Test(y10_df.values, p, m)\n",
    "print('Evidence for H_0 (Homoscedasticity):', PT_y10_p_m[1])\n",
    "print('Evidence for H_1 (Heteroscedasticity):', 1 - PT_y10_p_m[1]) "
   ]
  },
  {
   "cell_type": "markdown",
   "metadata": {},
   "source": [
    "**100\\% certainty that interest rate shocks are heteroscedastic**. Lets plot $\\epsilon^2$"
   ]
  },
  {
   "cell_type": "code",
   "execution_count": 8,
   "metadata": {},
   "outputs": [
    {
     "data": {
      "text/plain": [
       "[<matplotlib.lines.Line2D at 0x7fbba9bb1450>,\n",
       " <matplotlib.lines.Line2D at 0x7fbba9bf9690>]"
      ]
     },
     "execution_count": 8,
     "metadata": {},
     "output_type": "execute_result"
    },
    {
     "data": {
      "image/png": "[encoded data removed]",
      "text/plain": [
       "<Figure size 432x288 with 1 Axes>"
      ]
     },
     "metadata": {
      "needs_background": "light"
     },
     "output_type": "display_data"
    }
   ],
   "source": [
    "import matplotlib.pylab as plt\n",
    "\n",
    "#plot y10 vs (y10-forecast(y10))^2\n",
    "plt.plot(y10_df.index[1:],y10_df.iloc[1:], y10_df.index[1:], PT_y10_p_m[2])"
   ]
  },
  {
   "cell_type": "markdown",
   "metadata": {},
   "source": [
    "**Interpretation:**\n",
    "\n",
    "- Volatility clusters. If you are in a calm period, the probability is high the next observation has also low vol. On the other hand, if you are in a high volatile period, the probability is high that the next observation is also drawn from a high volatility state.\n",
    "\n",
    "- Periods of abnormally high interest rates seem to come along with high 2nd moments. We can check that formally by regressing y onto eps2 or simply checking the sign of the correlation. The latter is 38\\%. The t-stat for the regression parameter of interest is 10."
   ]
  },
  {
   "cell_type": "code",
   "execution_count": 9,
   "metadata": {},
   "outputs": [
    {
     "name": "stdout",
     "output_type": "stream",
     "text": [
      "correl_1stMomentShocks_2ndMomentShocks: 0.37654254962136524\n"
     ]
    }
   ],
   "source": [
    "from scipy.stats import pearsonr\n",
    "\n",
    "corr_y10_eps2, _ = pearsonr(y10_df.iloc[1:], PT_y10_p_m[2])\n",
    "print('correl_1stMomentShocks_2ndMomentShocks:', corr_y10_eps2)"
   ]
  },
  {
   "cell_type": "code",
   "execution_count": 10,
   "metadata": {},
   "outputs": [
    {
     "name": "stdout",
     "output_type": "stream",
     "text": [
      "100% certainty that of a positive relation btw 1st and 2nd MomentShocks 1.0\n",
      "\n",
      "summary table\n",
      "                            OLS Regression Results                            \n",
      "==============================================================================\n",
      "Dep. Variable:                    120   R-squared:                       0.142\n",
      "Model:                            OLS   Adj. R-squared:                  0.140\n",
      "Method:                 Least Squares   F-statistic:                     102.8\n",
      "Date:                Thu, 10 Jun 2021   Prob (F-statistic):           1.88e-22\n",
      "Time:                        17:58:33   Log-Likelihood:                -1451.1\n",
      "No. Observations:                 624   AIC:                             2906.\n",
      "Df Residuals:                     622   BIC:                             2915.\n",
      "Df Model:                           1                                         \n",
      "Covariance Type:            nonrobust                                         \n",
      "==============================================================================\n",
      "                 coef    std err          t      P>|t|      [0.025      0.975]\n",
      "------------------------------------------------------------------------------\n",
      "const          6.2448      0.105     59.392      0.000       6.038       6.451\n",
      "x1             4.4587      0.440     10.137      0.000       3.595       5.323\n",
      "==============================================================================\n",
      "Omnibus:                       61.587   Durbin-Watson:                   0.286\n",
      "Prob(Omnibus):                  0.000   Jarque-Bera (JB):               77.606\n",
      "Skew:                           0.818   Prob(JB):                     1.41e-17\n",
      "Kurtosis:                       3.555   Cond. No.                         4.46\n",
      "==============================================================================\n",
      "\n",
      "Warnings:\n",
      "[1] Standard Errors assume that the covariance matrix of the errors is correctly specified.\n"
     ]
    }
   ],
   "source": [
    "y10_on_eps2 = sm.OLS(y10_df[1:], sm.add_constant(PT_y10_p_m[2])).fit()\n",
    "\n",
    "print('100% certainty that of a positive relation btw 1st and 2nd MomentShocks', 1-y10_on_eps2.pvalues[1])\n",
    "\n",
    "print('')\n",
    "print('summary table')\n",
    "print(y10_on_eps2.summary()) #t-Stat of 10"
   ]
  },
  {
   "cell_type": "markdown",
   "metadata": {},
   "source": [
    "- US long term rates appear homoscedastic outside the period of the Monetary Policy Experimentation. Said differently, moneary policy experimentation created uncertainty in the bond market."
   ]
  },
  {
   "cell_type": "markdown",
   "metadata": {},
   "source": [
    "## F.3 Fitting AR(1)-ARCH(1) using 2Pass Regression\n",
    "\n",
    "- **First, fit AR(p)** model of choice and get residuals\n",
    "\n",
    "$$\n",
    "\\\\\n",
    "$$\n",
    "\n",
    "- **Second, square residuals and fit an AR(m)** to it. The latter step does approximately identify the ARCH(m) dynamic  \n",
    "\n"
   ]
  },
  {
   "cell_type": "markdown",
   "metadata": {},
   "source": [
    "### F.3.1 Pass 1: Fit Mean Equation, AR(1)"
   ]
  },
  {
   "cell_type": "code",
   "execution_count": 11,
   "metadata": {},
   "outputs": [],
   "source": [
    "#AR(1) y on X\n",
    "y10AR1, X10AR1 = lag_data(y10_df.values,1)\n",
    "\n",
    "mean_equation = sm.OLS(y10AR1, sm.add_constant(X10AR1)).fit()\n",
    "\n",
    "#print(mean_equation.summary()) #99% R2, t-vle=236\n",
    "\n",
    "eps_y = mean_equation.resid"
   ]
  },
  {
   "cell_type": "markdown",
   "metadata": {},
   "source": [
    "### F.3.2 Pass 2: Fit Variance Equation, ARCH(1)"
   ]
  },
  {
   "cell_type": "code",
   "execution_count": 12,
   "metadata": {},
   "outputs": [
    {
     "name": "stdout",
     "output_type": "stream",
     "text": [
      "                            OLS Regression Results                            \n",
      "==============================================================================\n",
      "Dep. Variable:                      y   R-squared:                       0.100\n",
      "Model:                            OLS   Adj. R-squared:                  0.098\n",
      "Method:                 Least Squares   F-statistic:                     68.85\n",
      "Date:                Thu, 10 Jun 2021   Prob (F-statistic):           6.63e-16\n",
      "Time:                        17:58:33   Log-Likelihood:                -60.963\n",
      "No. Observations:                 623   AIC:                             125.9\n",
      "Df Residuals:                     621   BIC:                             134.8\n",
      "Df Model:                           1                                         \n",
      "Covariance Type:            nonrobust                                         \n",
      "==============================================================================\n",
      "                 coef    std err          t      P>|t|      [0.025      0.975]\n",
      "------------------------------------------------------------------------------\n",
      "const          0.0004      0.011      0.036      0.971      -0.021       0.021\n",
      "x1             0.3157      0.038      8.297      0.000       0.241       0.390\n",
      "==============================================================================\n",
      "Omnibus:                      124.412   Durbin-Watson:                   1.855\n",
      "Prob(Omnibus):                  0.000   Jarque-Bera (JB):             1376.451\n",
      "Skew:                           0.519   Prob(JB):                    1.28e-299\n",
      "Kurtosis:                      10.208   Cond. No.                         3.55\n",
      "==============================================================================\n",
      "\n",
      "Warnings:\n",
      "[1] Standard Errors assume that the covariance matrix of the errors is correctly specified.\n"
     ]
    }
   ],
   "source": [
    "#ARCH(1) on eps^2_y\n",
    "yeps2_AR1, Xeps2_AR1 = lag_data(eps_y,1)\n",
    "\n",
    "variance_equation = sm.OLS(yeps2_AR1, sm.add_constant(Xeps2_AR1)).fit()\n",
    "\n",
    "print(variance_equation.summary()) #R2=10%, t-vle=8\n",
    "\n",
    "eps_sigma2_y = variance_equation.resid"
   ]
  },
  {
   "cell_type": "markdown",
   "metadata": {},
   "source": [
    "## F.4 Does ARCH(1) Capture all Heteroscedasticity"
   ]
  },
  {
   "cell_type": "markdown",
   "metadata": {},
   "source": [
    "**Testing whether residuals of AR(1)-ARCH(1) are homoscedastic:**"
   ]
  },
  {
   "cell_type": "code",
   "execution_count": 13,
   "metadata": {},
   "outputs": [
    {
     "name": "stdout",
     "output_type": "stream",
     "text": [
      "Evidence for H_0 (Homoscedasticity): 1.753672567468515e-58\n",
      "Evidence for H_1 (Heteroscedasticity): 1.0\n"
     ]
    }
   ],
   "source": [
    "#we use the following p=1 and m=10 (could use others)\n",
    "\n",
    "PT_epsSigma2_y = Portmanteau_Test(y10_df.values, 1, 10)\n",
    "print('Evidence for H_0 (Homoscedasticity):', PT_epsSigma2_y[1])\n",
    "print('Evidence for H_1 (Heteroscedasticity):', 1 - PT_epsSigma2_y[1]) "
   ]
  },
  {
   "cell_type": "markdown",
   "metadata": {},
   "source": [
    "**Interpretation:**\n",
    "    \n",
    "- Finding holds for basically all financial data: ARCH(1) does NOT capture all of the heteroscedasticity.\n",
    "\n",
    "- Does it matter here, as the residual of the mean equation makes up only 1\\% in terms of variance explained? There is some truth to that question. \n",
    "\n",
    "- Let's plot the squared residual of the mean equation vs the ARCH(1) fit"
   ]
  },
  {
   "cell_type": "code",
   "execution_count": 14,
   "metadata": {},
   "outputs": [
    {
     "data": {
      "text/plain": [
       "[<matplotlib.lines.Line2D at 0x7fbbaa1c5050>]"
      ]
     },
     "execution_count": 14,
     "metadata": {},
     "output_type": "execute_result"
    },
    {
     "data": {
      "image/png": "[encoded data removed]",
      "text/plain": [
       "<Figure size 432x288 with 1 Axes>"
      ]
     },
     "metadata": {
      "needs_background": "light"
     },
     "output_type": "display_data"
    }
   ],
   "source": [
    "plt.plot(yeps2_AR1)\n",
    "plt.plot(variance_equation.fittedvalues)\n"
   ]
  },
  {
   "cell_type": "markdown",
   "metadata": {},
   "source": [
    "- Vol is really small, around .4\\% annualized. Relatively, speaking, the ARCH(1) does not get the full time variation (only 10% R2), yet, since the error explains only 1% of variations in the 10-year yield, one shall not loose sleepness nights here. ... It definitely looks different for the variance of equity returns."
   ]
  },
  {
   "cell_type": "markdown",
   "metadata": {},
   "source": [
    "# Conclusion\n",
    "\n",
    "- (i): **ARCH(1) captures part, yet, not all of the heteroscedasticity in the time-series.**\n",
    "\n",
    "$$\n",
    "\\\\\n",
    "$$\n",
    "\n",
    "- (ii): **Either increase $m$ or, preferrably, move towards GARCH(1,1)**\n",
    "\n",
    "$$\n",
    "\\\\\n",
    "$$\n",
    "\n",
    "- (iii): **When trading on volatility (buying, selling options), consider Affine Jump Diffusion Models to account for jumps in vol. For sure necessary for equity vol**\n",
    "\n",
    "$$\n",
    "\\\\\n",
    "$$\n",
    "\n",
    "- (iv): **Do you see why it is a pitty that time-varying vol is unobserved?** ... How do you know you got it right if there is no data to benchmark against? ... Here, again, options come into the picture as their price can be interpreted as telling us the expected volatility throughout the remaining life of the option. More on that in the upcoming MSc class on financial machine learning."
   ]
  },
  {
   "cell_type": "code",
   "execution_count": null,
   "metadata": {},
   "outputs": [],
   "source": []
  }
 ],
 "metadata": {
  "kernelspec": {
   "display_name": "Python 3",
   "language": "python",
   "name": "python3"
  },
  "language_info": {
   "codemirror_mode": {
    "name": "ipython",
    "version": 3
   },
   "file_extension": ".py",
   "mimetype": "text/x-python",
   "name": "python",
   "nbconvert_exporter": "python",
   "pygments_lexer": "ipython3",
   "version": "3.7.6"
  }
 },
 "nbformat": 4,
 "nbformat_minor": 4
}
