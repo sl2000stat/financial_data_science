{
 "cells": [
  {
   "cell_type": "markdown",
   "metadata": {},
   "source": [
    "# A. Physical Lecture: Minimum Variance Frontier: Constrained\n",
    "\n"
   ]
  },
  {
   "cell_type": "markdown",
   "metadata": {},
   "source": [
    "## A.1 Set-up\n",
    "\n",
    "An investor considers an investment into three already well diversified exchange traded funds. Asset 1 has an expected return of 3%, a volatility of 4% and pairwise correlations to asset 2 and 3 of 10% and 20%, respectively. Asset 2 has an expected return of 6%, a volatility of 13% and a pairwise correlation with asset 3 of 70%.  Asset 3 has an expected return of 8% and a volatility of 16%.\n",
    "\n",
    "The investor wants to inspect a subset of minimum variance portfolios. The subset of interest must not contain any short sale positions and none of the positions shall make up more than 90% of the investment. "
   ]
  },
  {
   "cell_type": "markdown",
   "metadata": {},
   "source": [
    "## A.2  Code Requirements\n",
    " \n",
    "We need numpy for algebra, scipy.optimize for the numerical optimization and matplotlib for plotting."
   ]
  },
  {
   "cell_type": "code",
   "execution_count": 111,
   "metadata": {},
   "outputs": [],
   "source": [
    "# install needed packages\n",
    "import numpy as np\n",
    "import matplotlib.pyplot as plt\n",
    "import scipy.optimize"
   ]
  },
  {
   "cell_type": "code",
   "execution_count": 112,
   "outputs": [],
   "source": [
    "# Code set up:\n",
    "r_1 = 0.03\n",
    "vol_1 = 0.04\n",
    "p1_2 = 0.1\n",
    "p1_3 = 0.2\n",
    "r_2 = 0.06\n",
    "vol_2 = 0.13\n",
    "p2_3 = 0.7\n",
    "r_3 = 0.08\n",
    "vol_3 = 0.16\n",
    "# no short selling, minimum variance frontier"
   ],
   "metadata": {
    "collapsed": false,
    "pycharm": {
     "name": "#%%\n"
    }
   }
  },
  {
   "cell_type": "markdown",
   "metadata": {},
   "source": [
    "## A.3 Investment Opportunity Set\n",
    "= mu and sigma and risk-free rate (Markovitz)"
   ]
  },
  {
   "cell_type": "code",
   "execution_count": 113,
   "metadata": {},
   "outputs": [
    {
     "name": "stdout",
     "output_type": "stream",
     "text": [
      "[[0.03]\n",
      " [0.06]\n",
      " [0.08]]\n",
      "[[0.0016  0.00052 0.00128]\n",
      " [0.00052 0.0169  0.01456]\n",
      " [0.00128 0.01456 0.0256 ]]\n"
     ]
    }
   ],
   "source": [
    "# mu being a column vector\n",
    "mu = np.array([[r_1],[r_2],[r_3]])\n",
    "print(mu)\n",
    "\n",
    "cov_mat = np.matrix([[vol_1*vol_1,vol_1*vol_2*p1_2,vol_1*vol_3*p1_3]\n",
    "                    ,[vol_2*vol_1*p1_2,vol_2*vol_2,vol_2*vol_3*p2_3]\n",
    "                    ,[vol_1*vol_3*p1_3,vol_2*vol_3*p2_3,vol_3*vol_3]]\n",
    "                    )\n",
    "print(cov_mat)\n"
   ]
  },
  {
   "cell_type": "markdown",
   "metadata": {},
   "source": [
    "## A.4 Objective Function"
   ]
  },
  {
   "cell_type": "markdown",
   "metadata": {},
   "source": [
    "Now, we define the objective function that the investor wants to opimize. In our application that is the portfolio variance (as a function of the portfolio weights). The objective function needs to return a scalar value.  "
   ]
  },
  {
   "cell_type": "code",
   "execution_count": 114,
   "metadata": {},
   "outputs": [],
   "source": [
    "def portfolio_variance(w):\n",
    "    \"\"\"\n",
    "    :param w: column vector of weights\n",
    "    :return: portfolio variance: 1x1: not as a vector, but as skalar\n",
    "    \"\"\"\n",
    "    return (w.T * cov_mat * w).item()\n",
    "                   \n",
    "    "
   ]
  },
  {
   "cell_type": "markdown",
   "metadata": {},
   "source": [
    "## A.5 Equality Constraints of Optimization Problem"
   ]
  },
  {
   "cell_type": "markdown",
   "metadata": {},
   "source": [
    "Now, we set-up functions for the equality constraints of the optimization problem. \n",
    "\n",
    "We re-write equality constraints of the problem as\n",
    "\n",
    "$$\n",
    "f(x) = 0\n",
    "$$  \n",
    "\n"
   ]
  },
  {
   "cell_type": "markdown",
   "metadata": {},
   "source": [
    "### A.5.1 Full Investment Constraint\n",
    "\n",
    "We start with the full investment constraint: All money must be invested"
   ]
  },
  {
   "cell_type": "code",
   "execution_count": 115,
   "metadata": {},
   "outputs": [],
   "source": [
    "def full_invest_contraint(w):\n",
    "    \"\"\"\n",
    "    :param w: column vector of weights\n",
    "    :return:  w.T * e = 1 : weights need to add up to 1\n",
    "    \"\"\"\n",
    "    return np.sum(w) - 1\n",
    "\n",
    "    "
   ]
  },
  {
   "cell_type": "markdown",
   "metadata": {},
   "source": [
    "### A.5.2 Target Return Constraint\n",
    "\n",
    "We continue with the target portfolio return constraint. mu_tagert = w.T * mu\n",
    "\n",
    "Notice: the next line is a quick and dirty way of coding. It is dirty because it uses a \"global variable\", here mu_target, which as of now is not defined. Yet, Python accepts that as it only requires to know that global quantity once it executes the function for the first time"
   ]
  },
  {
   "cell_type": "code",
   "execution_count": 116,
   "metadata": {},
   "outputs": [],
   "source": [
    "def target_constr(w):\n",
    "    # doesn't work: dimensions don't fit\n",
    "    return (w * mu.T).item() - mu_target\n"
   ]
  },
  {
   "cell_type": "markdown",
   "metadata": {},
   "source": [
    "## A.6 Starting Value for Parameter Search\n",
    "\n",
    "We set the starting value for the three dimensional parameter space to \n",
    "\n",
    "$$\n",
    "w_0 = [0.4, 0, 0.6].\n",
    "$$\n",
    "\n",
    "Important: Ensure the starting values of an optimization problem fullfill the constraints."
   ]
  },
  {
   "cell_type": "code",
   "execution_count": 117,
   "metadata": {},
   "outputs": [],
   "source": [
    "w0 = np.array([[0.4],[0],[0.6]])\n",
    "# w0 = [0.4,0,0.6]"
   ]
  },
  {
   "cell_type": "markdown",
   "metadata": {},
   "source": [
    "## A.7 Set Parameter Bounds for Individual Parameters\n",
    "\n",
    "We set the bounds, which coincide with constraints on single parameters, here\n",
    "\n",
    "$$\n",
    "0 \\leq w_j \\leq 0.9\n",
    "$$ "
   ]
  },
  {
   "cell_type": "code",
   "execution_count": 118,
   "metadata": {},
   "outputs": [],
   "source": [
    "# j from 1 to 3: 3 assets: every asset could have it own contrstraint\n",
    "bounds = [\n",
    "    (0,0.9),\n",
    "    (0,0.9),\n",
    "    (0,0.9),\n",
    "]\n"
   ]
  },
  {
   "cell_type": "markdown",
   "metadata": {},
   "source": [
    "## A.8 Set Constraints on a Combination of Parameters\n",
    "\n",
    "We set constraints, which coincide with functions on several parameters. \n",
    "\n",
    "Here, that is the **full investment constraint** and the **target return constraint**. \n",
    "\n",
    "The normed structure follows https://docs.scipy.org/doc/scipy/reference/generated/scipy.optimize.minimize.html\n",
    "\n",
    "In our application, we say to work with 'equality constraints' that are parsed as 'functions'"
   ]
  },
  {
   "cell_type": "code",
   "execution_count": 119,
   "metadata": {},
   "outputs": [],
   "source": [
    "constraints = [\n",
    "    {'type': 'eq','fun': target_constr},\n",
    "    {'type': 'eq','fun': full_invest_contraint}\n",
    "               ]\n"
   ]
  },
  {
   "cell_type": "markdown",
   "metadata": {},
   "source": [
    "## A.9 Setting Target (Expected) Returns for which we compute the MV-Frontier\n",
    "\n",
    "Now, we define a set of target return for which we want to find the minimum variance portfolio that fullfills the constraints. \n",
    "\n",
    "We set range of target expected returns **(lower bound, increment, upper bound)** for which we seek to find the minimum variance portfolio. \n",
    "\n",
    "Notice, not all target returns can be reached due to the specific constraints. For example, in our current example, an expected portfolio return of 10% is not possible since shorting is not allowed and the highest single asset expected return is 8%. We can easily see that the achievable **lower bound** is \n",
    "\n",
    "$$\n",
    "3.3\\%=0.9 * 3\\% + 0.1 * 6\\%\n",
    "$$\n",
    "\n",
    "and the achievable **upper bound** is\n",
    "\n",
    "$$\n",
    "7.8\\% = 0.9 * 8\\% +0.1 * 6\\%\n",
    "$$\n",
    "\n",
    "This allows us to set natural lower and upper bounds. As to the increments, we work with 10 basis points, i.e.\n",
    "\n",
    "$$\n",
    "incr = 0.1\\%\n",
    "$$\n",
    " "
   ]
  },
  {
   "cell_type": "code",
   "metadata": {
    "pycharm": {
     "name": "#%%\n"
    }
   },
   "source": [
    "mu_lb = 0.033\n",
    "mu_ub = 0.078\n",
    "incr = 0.001"
   ],
   "execution_count": 120,
   "outputs": []
  },
  {
   "cell_type": "markdown",
   "metadata": {},
   "source": [
    "## A.10 Computing the Constrained Minimum-Variance Frontier\n",
    "\n",
    "We now loop through all traget returns to find the resulting constrained minimum variance portfolio. We store the portfolio weights in a variable \n",
    "\n",
    "$$\n",
    "\\text{w_cmv},\n",
    "$$\n",
    "\n",
    "the expected returns of the portfolios in\n",
    "\n",
    "$$\n",
    "\\text{mu_cmv},\n",
    "$$\n",
    "\n",
    "and their volatility in\n",
    "\n",
    "$$\n",
    "\\text{sigma_cmv}\n",
    "$$"
   ]
  },
  {
   "cell_type": "code",
   "execution_count": 130,
   "metadata": {},
   "outputs": [
    {
     "name": "stdout",
     "output_type": "stream",
     "text": [
      "[[0.012 0.    0.018]\n",
      " [0.024 0.    0.036]\n",
      " [0.032 0.    0.048]]\n"
     ]
    },
    {
     "ename": "ValueError",
     "evalue": "can only convert an array of size 1 to a Python scalar",
     "output_type": "error",
     "traceback": [
      "\u001B[1;31m---------------------------------------------------------------------------\u001B[0m",
      "\u001B[1;31mValueError\u001B[0m                                Traceback (most recent call last)",
      "\u001B[1;32m<ipython-input-130-7051c3997ab5>\u001B[0m in \u001B[0;36m<module>\u001B[1;34m\u001B[0m\n\u001B[0;32m     17\u001B[0m \u001B[1;32mfor\u001B[0m \u001B[0mi\u001B[0m \u001B[1;32min\u001B[0m \u001B[0mrange\u001B[0m\u001B[1;33m(\u001B[0m\u001B[1;36m0\u001B[0m\u001B[1;33m,\u001B[0m\u001B[0mn\u001B[0m\u001B[1;33m)\u001B[0m\u001B[1;33m:\u001B[0m\u001B[1;33m\u001B[0m\u001B[1;33m\u001B[0m\u001B[0m\n\u001B[0;32m     18\u001B[0m     \u001B[0mprint\u001B[0m\u001B[1;33m(\u001B[0m\u001B[0mw0\u001B[0m\u001B[1;33m.\u001B[0m\u001B[0mT\u001B[0m \u001B[1;33m*\u001B[0m \u001B[0mmu\u001B[0m\u001B[1;33m)\u001B[0m\u001B[1;33m\u001B[0m\u001B[1;33m\u001B[0m\u001B[0m\n\u001B[1;32m---> 19\u001B[1;33m     \u001B[0mw_opt\u001B[0m \u001B[1;33m=\u001B[0m \u001B[0mscipy\u001B[0m\u001B[1;33m.\u001B[0m\u001B[0moptimize\u001B[0m\u001B[1;33m.\u001B[0m\u001B[0mminimize\u001B[0m\u001B[1;33m(\u001B[0m\u001B[0mportfolio_variance\u001B[0m\u001B[1;33m,\u001B[0m\u001B[0mw0\u001B[0m\u001B[1;33m,\u001B[0m\u001B[0mbounds\u001B[0m \u001B[1;33m=\u001B[0m \u001B[0mbounds\u001B[0m\u001B[1;33m,\u001B[0m \u001B[0mconstraints\u001B[0m\u001B[1;33m=\u001B[0m \u001B[0mconstraints\u001B[0m\u001B[1;33m)\u001B[0m\u001B[1;33m\u001B[0m\u001B[1;33m\u001B[0m\u001B[0m\n\u001B[0m\u001B[0;32m     20\u001B[0m     \u001B[0mw_cmv\u001B[0m\u001B[1;33m[\u001B[0m\u001B[0mi\u001B[0m\u001B[1;33m,\u001B[0m\u001B[1;33m:\u001B[0m\u001B[1;33m]\u001B[0m \u001B[1;33m=\u001B[0m \u001B[0mw_opt\u001B[0m\u001B[1;33m.\u001B[0m\u001B[0mx\u001B[0m\u001B[1;33m\u001B[0m\u001B[1;33m\u001B[0m\u001B[0m\n\u001B[0;32m     21\u001B[0m     \u001B[0mmu_cmv\u001B[0m\u001B[1;33m[\u001B[0m\u001B[0mi\u001B[0m\u001B[1;33m,\u001B[0m\u001B[1;36m0\u001B[0m\u001B[1;33m]\u001B[0m \u001B[1;33m=\u001B[0m \u001B[1;33m(\u001B[0m\u001B[0mw_cmv\u001B[0m\u001B[1;33m[\u001B[0m\u001B[0mi\u001B[0m\u001B[1;33m,\u001B[0m\u001B[1;33m:\u001B[0m\u001B[1;33m]\u001B[0m \u001B[1;33m*\u001B[0m \u001B[0mmu\u001B[0m\u001B[1;33m)\u001B[0m\u001B[1;33m.\u001B[0m\u001B[0mitem\u001B[0m\u001B[1;33m(\u001B[0m\u001B[1;33m)\u001B[0m\u001B[1;33m\u001B[0m\u001B[1;33m\u001B[0m\u001B[0m\n",
      "\u001B[1;32m~\\AppData\\Local\\Programs\\Python\\Python38-32\\lib\\site-packages\\scipy\\optimize\\_minimize.py\u001B[0m in \u001B[0;36mminimize\u001B[1;34m(fun, x0, args, method, jac, hess, hessp, bounds, constraints, tol, callback, options)\u001B[0m\n\u001B[0;32m    623\u001B[0m         \u001B[1;32mreturn\u001B[0m \u001B[0m_minimize_cobyla\u001B[0m\u001B[1;33m(\u001B[0m\u001B[0mfun\u001B[0m\u001B[1;33m,\u001B[0m \u001B[0mx0\u001B[0m\u001B[1;33m,\u001B[0m \u001B[0margs\u001B[0m\u001B[1;33m,\u001B[0m \u001B[0mconstraints\u001B[0m\u001B[1;33m,\u001B[0m \u001B[1;33m**\u001B[0m\u001B[0moptions\u001B[0m\u001B[1;33m)\u001B[0m\u001B[1;33m\u001B[0m\u001B[1;33m\u001B[0m\u001B[0m\n\u001B[0;32m    624\u001B[0m     \u001B[1;32melif\u001B[0m \u001B[0mmeth\u001B[0m \u001B[1;33m==\u001B[0m \u001B[1;34m'slsqp'\u001B[0m\u001B[1;33m:\u001B[0m\u001B[1;33m\u001B[0m\u001B[1;33m\u001B[0m\u001B[0m\n\u001B[1;32m--> 625\u001B[1;33m         return _minimize_slsqp(fun, x0, args, jac, bounds,\n\u001B[0m\u001B[0;32m    626\u001B[0m                                constraints, callback=callback, **options)\n\u001B[0;32m    627\u001B[0m     \u001B[1;32melif\u001B[0m \u001B[0mmeth\u001B[0m \u001B[1;33m==\u001B[0m \u001B[1;34m'trust-constr'\u001B[0m\u001B[1;33m:\u001B[0m\u001B[1;33m\u001B[0m\u001B[1;33m\u001B[0m\u001B[0m\n",
      "\u001B[1;32m~\\AppData\\Local\\Programs\\Python\\Python38-32\\lib\\site-packages\\scipy\\optimize\\slsqp.py\u001B[0m in \u001B[0;36m_minimize_slsqp\u001B[1;34m(func, x0, args, jac, bounds, constraints, maxiter, ftol, iprint, disp, eps, callback, finite_diff_rel_step, **unknown_options)\u001B[0m\n\u001B[0;32m    320\u001B[0m     \u001B[1;31m# Set the parameters that SLSQP will need\u001B[0m\u001B[1;33m\u001B[0m\u001B[1;33m\u001B[0m\u001B[1;33m\u001B[0m\u001B[0m\n\u001B[0;32m    321\u001B[0m     \u001B[1;31m# meq, mieq: number of equality and inequality constraints\u001B[0m\u001B[1;33m\u001B[0m\u001B[1;33m\u001B[0m\u001B[1;33m\u001B[0m\u001B[0m\n\u001B[1;32m--> 322\u001B[1;33m     meq = sum(map(len, [atleast_1d(c['fun'](x, *c['args']))\n\u001B[0m\u001B[0;32m    323\u001B[0m               for c in cons['eq']]))\n\u001B[0;32m    324\u001B[0m     mieq = sum(map(len, [atleast_1d(c['fun'](x, *c['args']))\n",
      "\u001B[1;32m~\\AppData\\Local\\Programs\\Python\\Python38-32\\lib\\site-packages\\scipy\\optimize\\slsqp.py\u001B[0m in \u001B[0;36m<listcomp>\u001B[1;34m(.0)\u001B[0m\n\u001B[0;32m    320\u001B[0m     \u001B[1;31m# Set the parameters that SLSQP will need\u001B[0m\u001B[1;33m\u001B[0m\u001B[1;33m\u001B[0m\u001B[1;33m\u001B[0m\u001B[0m\n\u001B[0;32m    321\u001B[0m     \u001B[1;31m# meq, mieq: number of equality and inequality constraints\u001B[0m\u001B[1;33m\u001B[0m\u001B[1;33m\u001B[0m\u001B[1;33m\u001B[0m\u001B[0m\n\u001B[1;32m--> 322\u001B[1;33m     meq = sum(map(len, [atleast_1d(c['fun'](x, *c['args']))\n\u001B[0m\u001B[0;32m    323\u001B[0m               for c in cons['eq']]))\n\u001B[0;32m    324\u001B[0m     mieq = sum(map(len, [atleast_1d(c['fun'](x, *c['args']))\n",
      "\u001B[1;32m<ipython-input-116-00a8fce08342>\u001B[0m in \u001B[0;36mtarget_constr\u001B[1;34m(w)\u001B[0m\n\u001B[0;32m      1\u001B[0m \u001B[1;32mdef\u001B[0m \u001B[0mtarget_constr\u001B[0m\u001B[1;33m(\u001B[0m\u001B[0mw\u001B[0m\u001B[1;33m)\u001B[0m\u001B[1;33m:\u001B[0m\u001B[1;33m\u001B[0m\u001B[1;33m\u001B[0m\u001B[0m\n\u001B[0;32m      2\u001B[0m     \u001B[1;31m# .T\u001B[0m\u001B[1;33m\u001B[0m\u001B[1;33m\u001B[0m\u001B[1;33m\u001B[0m\u001B[0m\n\u001B[1;32m----> 3\u001B[1;33m     \u001B[1;32mreturn\u001B[0m \u001B[1;33m(\u001B[0m\u001B[0mw\u001B[0m \u001B[1;33m*\u001B[0m \u001B[0mmu\u001B[0m\u001B[1;33m)\u001B[0m\u001B[1;33m.\u001B[0m\u001B[0mitem\u001B[0m\u001B[1;33m(\u001B[0m\u001B[1;33m)\u001B[0m \u001B[1;33m-\u001B[0m \u001B[0mmu_target\u001B[0m\u001B[1;33m\u001B[0m\u001B[1;33m\u001B[0m\u001B[0m\n\u001B[0m\u001B[0;32m      4\u001B[0m \u001B[1;33m\u001B[0m\u001B[0m\n\u001B[0;32m      5\u001B[0m \u001B[1;33m\u001B[0m\u001B[0m\n",
      "\u001B[1;31mValueError\u001B[0m: can only convert an array of size 1 to a Python scalar"
     ]
    }
   ],
   "source": [
    "# iterations through for loop\n",
    "n = int(1 + (mu_ub - mu_lb)/incr)\n",
    "\n",
    "# zero vector of weights nx3\n",
    "w_cmv = np.zeros((n,3))\n",
    "\n",
    "# zero vector of mu nx1\n",
    "mu_cmv = np.zeros((n,1))\n",
    "\n",
    "# zero vector of sigma nx1\n",
    "sigma_cmv = np.zeros((n,1))\n",
    "\n",
    "# define target return\n",
    "mu_target = mu_lb\n",
    "\n",
    "# optimazation\n",
    "for i in range(0,n):\n",
    "    # doesn't work and should get aout 1x1 , not 3x3: not possible from 1x3 * 3x1 matrix: ERROR\n",
    "    print(w0.T * mu)\n",
    "    w_opt = scipy.optimize.minimize(portfolio_variance,w0,bounds = bounds, constraints= constraints)\n",
    "    w_cmv[i,:] = w_opt.x\n",
    "    mu_cmv[i,0] = (w_cmv[i,:] * mu).item()\n",
    "    sigma_cmv[i,0] = (w_cmv[i,:] * sigma_cmv * w_cmv[i,:].T).item() ** 0.5\n",
    "\n",
    "    mu_target += incr"
   ]
  },
  {
   "cell_type": "markdown",
   "metadata": {},
   "source": [
    "## A.12 Plotting the Constrained Minimum Variance Frontier"
   ]
  },
  {
   "cell_type": "code",
   "execution_count": null,
   "metadata": {
    "scrolled": true
   },
   "outputs": [],
   "source": [
    "plt.figure(figsize = (8,5))\n",
    "\n",
    "plt.scatter(sigma_cmv,mu_cmv,label = \"constrained MV portfolio\")\n",
    "\n",
    "plt.legend(loc = \"best\")\n",
    "plt.show()\n"
   ]
  }
 ],
 "metadata": {
  "kernelspec": {
   "display_name": "Python 3",
   "language": "python",
   "name": "python3"
  },
  "language_info": {
   "codemirror_mode": {
    "name": "ipython",
    "version": 3
   },
   "file_extension": ".py",
   "mimetype": "text/x-python",
   "name": "python",
   "nbconvert_exporter": "python",
   "pygments_lexer": "ipython3",
   "version": "3.7.6"
  }
 },
 "nbformat": 4,
 "nbformat_minor": 4
}